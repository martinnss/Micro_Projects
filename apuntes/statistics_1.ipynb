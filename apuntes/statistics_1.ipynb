{
 "cells": [
  {
   "cell_type": "markdown",
   "source": [
    "# Statistics Dataset\r\n",
    "### In this dataset im going to perfom some  statistics, like:\r\n",
    "* Descriptive statistics\r\n",
    "    * Mean\r\n",
    "    * Median\r\n",
    "    * Rango\r\n",
    "    * STD\r\n",
    "    * Variance"
   ],
   "metadata": {}
  },
  {
   "cell_type": "code",
   "execution_count": 1,
   "source": [
    "import pandas as pd\r\n",
    "\r\n",
    "data=pd.read_csv('Crime_R.csv')\r\n",
    "#lets visualize the first values\r\n",
    "print(data.columns)\r\n",
    "#shape of the dataframe\r\n",
    "print(\"This dataframe has\",data.shape[0],\"columns and\", data.shape[1],\"rows.\")\r\n"
   ],
   "outputs": [
    {
     "output_type": "stream",
     "name": "stdout",
     "text": [
      "Index(['CrimeRate', 'Youth', 'Southern', 'Education', 'ExpenditureYear0',\n",
      "       'LabourForce', 'Males', 'MoreMales', 'StateSize', 'YouthUnemployment',\n",
      "       'MatureUnemployment', 'HighYouthUnemploy', 'Wage', 'BelowWage',\n",
      "       'CrimeRate10', 'Youth10', 'Education10', 'ExpenditureYear10',\n",
      "       'LabourForce10', 'Males10', 'MoreMales10', 'StateSize10',\n",
      "       'YouthUnemploy10', 'MatureUnemploy10', 'HighYouthUnemploy10', 'Wage10',\n",
      "       'BelowWage10'],\n",
      "      dtype='object')\n",
      "This dataframe has 47 columns and 27 rows.\n"
     ]
    }
   ],
   "metadata": {}
  },
  {
   "cell_type": "markdown",
   "source": [
    "## Descriptive Statistics"
   ],
   "metadata": {}
  },
  {
   "cell_type": "code",
   "execution_count": 2,
   "source": [
    "print(data.describe())"
   ],
   "outputs": [
    {
     "output_type": "stream",
     "name": "stdout",
     "text": [
      "        CrimeRate       Youth   Southern  Education  ExpenditureYear0  \\\n",
      "count   47.000000   47.000000  47.000000  47.000000         47.000000   \n",
      "mean   102.808511  138.574468   0.340426  12.391489         85.000000   \n",
      "std     28.893266   12.567634   0.478975   1.120332         29.718974   \n",
      "min     45.500000  119.000000   0.000000  10.000000         45.000000   \n",
      "25%     82.700000  130.000000   0.000000  11.550000         62.500000   \n",
      "50%    103.000000  136.000000   0.000000  12.400000         78.000000   \n",
      "75%    120.650000  146.000000   1.000000  13.200000        104.500000   \n",
      "max    161.800000  177.000000   1.000000  15.100000        166.000000   \n",
      "\n",
      "       LabourForce        Males  MoreMales   StateSize  YouthUnemployment  \\\n",
      "count    47.000000    47.000000  47.000000   47.000000          47.000000   \n",
      "mean    561.191489   983.021277   0.191489   36.617021          95.468085   \n",
      "std      40.411814    29.467365   0.397727   38.071188          18.028783   \n",
      "min     480.000000   934.000000   0.000000    3.000000          70.000000   \n",
      "25%     530.500000   964.500000   0.000000   10.000000          80.500000   \n",
      "50%     560.000000   977.000000   0.000000   25.000000          92.000000   \n",
      "75%     593.000000   992.000000   0.000000   41.500000         104.000000   \n",
      "max     641.000000  1071.000000   1.000000  168.000000         142.000000   \n",
      "\n",
      "       ...  ExpenditureYear10  LabourForce10      Males10  MoreMales10  \\\n",
      "count  ...          47.000000      47.000000    47.000000    47.000000   \n",
      "mean   ...          80.234043     565.531915   986.872340     0.212766   \n",
      "std    ...          27.961319      37.645284    29.845702     0.413688   \n",
      "min    ...          41.000000     497.000000   935.000000     0.000000   \n",
      "25%    ...          58.500000     538.000000   969.500000     0.000000   \n",
      "50%    ...          73.000000     563.000000   983.000000     0.000000   \n",
      "75%    ...          97.000000     599.000000   994.000000     0.000000   \n",
      "max    ...         157.000000     641.000000  1079.000000     1.000000   \n",
      "\n",
      "       StateSize10  YouthUnemploy10  MatureUnemploy10  HighYouthUnemploy10  \\\n",
      "count    47.000000        47.000000         47.000000            47.000000   \n",
      "mean     37.702128        97.446809         33.361702             0.404255   \n",
      "std      39.490734        17.843289          8.414340             0.496053   \n",
      "min       3.000000        71.000000         15.000000             0.000000   \n",
      "25%      11.000000        82.000000         28.000000             0.000000   \n",
      "50%      25.000000        93.000000         34.000000             0.000000   \n",
      "75%      43.000000       108.500000         39.000000             1.000000   \n",
      "max     180.000000       143.000000         59.000000             1.000000   \n",
      "\n",
      "           Wage10  BelowWage10  \n",
      "count   47.000000    47.000000  \n",
      "mean   594.638298   192.957447  \n",
      "std     93.749765    38.756182  \n",
      "min    359.000000   126.000000  \n",
      "25%    530.000000   165.000000  \n",
      "50%    615.000000   182.000000  \n",
      "75%    659.500000   229.500000  \n",
      "max    748.000000   257.000000  \n",
      "\n",
      "[8 rows x 27 columns]\n"
     ]
    }
   ],
   "metadata": {}
  },
  {
   "cell_type": "code",
   "execution_count": 3,
   "source": [
    "data.var()"
   ],
   "outputs": [
    {
     "output_type": "execute_result",
     "data": {
      "text/plain": [
       "CrimeRate               834.820796\n",
       "Youth                   157.945421\n",
       "Southern                  0.229417\n",
       "Education                 1.255143\n",
       "ExpenditureYear0        883.217391\n",
       "LabourForce            1633.114709\n",
       "Males                   868.325624\n",
       "MoreMales                 0.158187\n",
       "StateSize              1449.415356\n",
       "YouthUnemployment       325.037003\n",
       "MatureUnemployment       71.325624\n",
       "HighYouthUnemploy         0.222017\n",
       "Wage                   9310.502313\n",
       "BelowWage              1591.695652\n",
       "CrimeRate10            1542.766920\n",
       "Youth10                 119.123959\n",
       "Education10               1.371952\n",
       "ExpenditureYear10       781.835338\n",
       "LabourForce10          1417.167438\n",
       "Males10                 890.765957\n",
       "MoreMales10               0.171138\n",
       "StateSize10            1559.518039\n",
       "YouthUnemploy10         318.382979\n",
       "MatureUnemploy10         70.801110\n",
       "HighYouthUnemploy10       0.246068\n",
       "Wage10                 8789.018501\n",
       "BelowWage10            1502.041628\n",
       "dtype: float64"
      ]
     },
     "metadata": {},
     "execution_count": 3
    }
   ],
   "metadata": {}
  },
  {
   "cell_type": "code",
   "execution_count": 4,
   "source": [
    "import seaborn as sns\r\n",
    "import matplotlib.pyplot as plt\r\n",
    "\r\n",
    "fig, axes = plt.subplots(1, 2, figsize=(11, 4))\r\n",
    "sns.histplot(data=data, x='CrimeRate',bins=15, color='forestgreen',ax=axes[0])\r\n",
    "sns.histplot(data=data, x='Education',bins=15, color='salmon',ax=axes[1])\r\n",
    "plt.show()"
   ],
   "outputs": [
    {
     "output_type": "display_data",
     "data": {
      "image/png": "[encoded data removed]",
      "text/plain": [
       "<Figure size 792x288 with 2 Axes>"
      ]
     },
     "metadata": {
      "needs_background": "light"
     }
    }
   ],
   "metadata": {}
  },
  {
   "cell_type": "code",
   "execution_count": 5,
   "source": [
    "sns.boxplot(data=data, x='CrimeRate', whis=[10,90] )\r\n",
    "plt.plot()"
   ],
   "outputs": [
    {
     "output_type": "execute_result",
     "data": {
      "text/plain": [
       "[]"
      ]
     },
     "metadata": {},
     "execution_count": 5
    },
    {
     "output_type": "display_data",
     "data": {
      "image/png": "[encoded data removed]",
      "text/plain": [
       "<Figure size 432x288 with 1 Axes>"
      ]
     },
     "metadata": {
      "needs_background": "light"
     }
    }
   ],
   "metadata": {}
  },
  {
   "cell_type": "code",
   "execution_count": 6,
   "source": [
    "# calculate the probability of cancer patient and diagnostic test\r\n",
    "\r\n",
    "# calculate P(A|B) given P(A), P(B|A), P(B|not A)\r\n",
    "def bayes_theorem(p_a, p_b_given_a, p_b_given_not_a):\r\n",
    "\t# calculate P(not A)\r\n",
    "\tnot_a = 1 - p_a\r\n",
    "\t# calculate P(B)\r\n",
    "\tp_b = p_b_given_a * p_a + p_b_given_not_a * not_a\r\n",
    "\t# calculate P(A|B)\r\n",
    "\tp_a_given_b = (p_b_given_a * p_a) / p_b\r\n",
    "\treturn p_a_given_b\r\n",
    "\r\n",
    "# P(A)\r\n",
    "p_a = 0.0002\r\n",
    "# P(B|A)\r\n",
    "p_b_given_a = 0.85\r\n",
    "# P(B|not A)\r\n",
    "p_b_given_not_a = 0.05\r\n",
    "# calculate P(A|B)\r\n",
    "result = bayes_theorem(p_a, p_b_given_a, p_b_given_not_a)\r\n",
    "# summarize\r\n",
    "print('P(A|B) = %.3f%%' % (result * 100))"
   ],
   "outputs": [
    {
     "output_type": "stream",
     "name": "stdout",
     "text": [
      "P(A|B) = 0.339%\n"
     ]
    }
   ],
   "metadata": {}
  },
  {
   "cell_type": "code",
   "execution_count": 7,
   "source": [
    "import numpy as np\r\n",
    "\r\n",
    "data_ed=data['Education']    \r\n",
    "mean=np.mean(data_ed)\r\n",
    "std=np.std(data_ed)                                  #steps to create the normal data\r\n",
    "samples=np.random.normal(mean, std, size=10000)\r\n",
    "\r\n",
    "def ecdf(data):\r\n",
    "    \"\"\"Compute ECDF for a one-dimensional array of measurements.\"\"\"\r\n",
    "    # Number of data points: n\r\n",
    "    n = len(data)\r\n",
    "    # x-data for the ECDF: x\r\n",
    "    x = np.sort(data)\r\n",
    "    # y-data for the ECDF: y\r\n",
    "    y = np.arange(1, n+1) / n\r\n",
    "    return x, y\r\n",
    "\r\n",
    "x, y =ecdf(data_ed)\r\n",
    "x_norm, y_norm=ecdf(samples)\r\n",
    "\r\n",
    "sns.set()\r\n",
    "plt.plot(x_norm,y_norm)\r\n",
    "plt.plot(x,y,marker='.', linestyle='none')\r\n",
    "plt.xlabel('Education in Years')\r\n",
    "plt.ylabel('CDF')\r\n",
    "plt.show()\r\n"
   ],
   "outputs": [
    {
     "output_type": "display_data",
     "data": {
      "image/png": "[encoded data removed]",
      "text/plain": [
       "<Figure size 432x288 with 1 Axes>"
      ]
     },
     "metadata": {}
    }
   ],
   "metadata": {}
  },
  {
   "cell_type": "code",
   "execution_count": 8,
   "source": [
    "from scipy.stats import skew\r\n",
    "sk1=[1,1,1,2,4,1,1,1,1,1,1,1,1,2,3,4,2,3,9,8,9]    #more lower values\r\n",
    "sk2=[1,2,1,1,9,8,9,8,7,8,9,8,7,14,9,9,8,9,7,9] #more higher values\r\n",
    "print('The coefficients of skewness are ',skew(sk1),'(lower values) and', skew(sk2), '(higher values)')"
   ],
   "outputs": [
    {
     "output_type": "stream",
     "name": "stdout",
     "text": [
      "The coefficients of skewness are  1.5657272468749186 (lower values) and -0.6625965684897368 (higher values)\n"
     ]
    }
   ],
   "metadata": {}
  },
  {
   "cell_type": "code",
   "execution_count": 9,
   "source": [
    "data1=pd.read_csv('Diet_R.csv')\r\n",
    "data1.rename(columns={'pre.weight':'preweight'},inplace=True)\r\n",
    "print(data1.dtypes)"
   ],
   "outputs": [
    {
     "output_type": "stream",
     "name": "stdout",
     "text": [
      "Person            int64\n",
      "gender           object\n",
      "Age               int64\n",
      "Height            int64\n",
      "preweight         int64\n",
      "Diet              int64\n",
      "weight6weeks    float64\n",
      "dtype: object\n"
     ]
    }
   ],
   "metadata": {}
  },
  {
   "cell_type": "code",
   "execution_count": 10,
   "source": [
    "import statsmodels.api as sm \r\n",
    "from statsmodels.formula.api import ols\r\n",
    "\r\n",
    "model=ols('preweight~gender', data=data1).fit()\r\n",
    "anova1way= sm.stats.anova_lm(model, type=2)\r\n",
    "print(anova1way)"
   ],
   "outputs": [
    {
     "output_type": "stream",
     "name": "stdout",
     "text": [
      "            df       sum_sq      mean_sq          F        PR(>F)\n",
      "gender     2.0  2815.560416  1407.780208  34.687053  2.157487e-11\n",
      "Residual  75.0  3043.888302    40.585177        NaN           NaN\n"
     ]
    }
   ],
   "metadata": {}
  },
  {
   "cell_type": "code",
   "execution_count": 11,
   "source": [
    "import statsmodels.api as sm \r\n",
    "from statsmodels.formula.api import ols\r\n",
    "\r\n",
    "model2=ols('preweight~gender+Diet+gender*Diet', data=data1).fit()\r\n",
    "anova2way= sm.stats.anova_lm(model2, type=2)\r\n",
    "print(anova2way)\r\n",
    "print(data1.corr())"
   ],
   "outputs": [
    {
     "output_type": "stream",
     "name": "stdout",
     "text": [
      "               df       sum_sq      mean_sq          F        PR(>F)\n",
      "gender        2.0  2815.560416  1407.780208  33.807387  4.056530e-11\n",
      "Diet          1.0     3.757281     3.757281   0.090230  7.647389e-01\n",
      "gender:Diet   2.0   981.101229   490.550615  11.780414  3.681700e-05\n",
      "Residual     73.0  3039.807739    41.641202        NaN           NaN\n",
      "                Person       Age    Height  preweight      Diet  weight6weeks\n",
      "Person        1.000000 -0.101773 -0.033696   0.296399  0.942237      0.196728\n",
      "Age          -0.101773  1.000000  0.080393  -0.006265 -0.127707      0.010472\n",
      "Height       -0.033696  0.080393  1.000000   0.154381 -0.118241      0.183998\n",
      "preweight     0.296399 -0.006265  0.154381   1.000000  0.039234      0.958449\n",
      "Diet          0.942237 -0.127707 -0.118241   0.039234  1.000000     -0.048050\n",
      "weight6weeks  0.196728  0.010472  0.183998   0.958449 -0.048050      1.000000\n"
     ]
    }
   ],
   "metadata": {}
  },
  {
   "cell_type": "code",
   "execution_count": 12,
   "source": [
    "# Example of the Shapiro-Wilk Normality Test for a sample of weights\r\n",
    "from scipy.stats import shapiro\r\n",
    "data2 = data1.preweight\r\n",
    "stat, p = shapiro(data2)\r\n",
    "print('stat=%.3f, p=%.3f' % (stat, p))\r\n",
    "if p > 0.05:\r\n",
    "\tprint('Probably Gaussian')\r\n",
    "else:\r\n",
    "\tprint('Probably not Gaussian')"
   ],
   "outputs": [
    {
     "output_type": "stream",
     "name": "stdout",
     "text": [
      "stat=0.969, p=0.055\n",
      "Probably Gaussian\n"
     ]
    }
   ],
   "metadata": {}
  },
  {
   "cell_type": "code",
   "execution_count": 13,
   "source": [
    "# Example of the D'Agostino's K^2 Normality Test\r\n",
    "from scipy.stats import normaltest\r\n",
    "data2 = data1.preweight\r\n",
    "stat, p = normaltest(data2)\r\n",
    "print('stat=%.3f, p=%.3f' % (stat, p))\r\n",
    "if p > 0.05:\r\n",
    "\tprint('Probably Gaussian')\r\n",
    "else:\r\n",
    "\tprint('Probably not Gaussian')"
   ],
   "outputs": [
    {
     "output_type": "stream",
     "name": "stdout",
     "text": [
      "stat=4.843, p=0.089\n",
      "Probably Gaussian\n"
     ]
    }
   ],
   "metadata": {}
  },
  {
   "cell_type": "code",
   "execution_count": 14,
   "source": [
    "# Example of the Anderson-Darling Normality Test\r\n",
    "from scipy.stats import anderson\r\n",
    "data2 = data1.preweight\r\n",
    "result = anderson(data2)\r\n",
    "print('stat=%.3f' % (result.statistic))\r\n",
    "for i in range(len(result.critical_values)):\r\n",
    "\tsl, cv = result.significance_level[i], result.critical_values[i]\r\n",
    "\tif result.statistic < cv:\r\n",
    "\t\tprint('Probably Gaussian at the %.1f%% level' % (sl))\r\n",
    "\telse:\r\n",
    "\t\tprint('Probably not Gaussian at the %.1f%% level' % (sl))"
   ],
   "outputs": [
    {
     "output_type": "stream",
     "name": "stdout",
     "text": [
      "stat=0.369\n",
      "Probably Gaussian at the 15.0% level\n",
      "Probably Gaussian at the 10.0% level\n",
      "Probably Gaussian at the 5.0% level\n",
      "Probably Gaussian at the 2.5% level\n",
      "Probably Gaussian at the 1.0% level\n"
     ]
    }
   ],
   "metadata": {}
  },
  {
   "cell_type": "code",
   "execution_count": 15,
   "source": [
    "# Example of the Pearson's Correlation test\r\n",
    "from scipy.stats import pearsonr\r\n",
    "data1 = [0.873, 2.817, 0.121, -0.945, -0.055, -1.436, 0.360, -1.478, -1.637, -1.869]\r\n",
    "data2 = [0.353, 3.517, 0.125, -7.545, -0.555, -1.536, 3.350, -1.578, -3.537, -1.579]\r\n",
    "stat, p = pearsonr(data1, data2)\r\n",
    "print('stat=%.3f, p=%.3f' % (stat, p))\r\n",
    "if p > 0.05:\r\n",
    "\tprint('Probably independent')\r\n",
    "else:\r\n",
    "\tprint('Probably dependent')"
   ],
   "outputs": [
    {
     "output_type": "stream",
     "name": "stdout",
     "text": [
      "stat=0.688, p=0.028\n",
      "Probably dependent\n"
     ]
    }
   ],
   "metadata": {}
  },
  {
   "cell_type": "code",
   "execution_count": 16,
   "source": [
    "# Example of the Spearman's Rank Correlation Test\r\n",
    "from scipy.stats import spearmanr\r\n",
    "data1 = [0.873, 2.817, 0.121, -0.945, -0.055, -1.436, 0.360, -1.478, -1.637, -1.869]\r\n",
    "data2 = [0.353, 3.517, 0.125, -7.545, -0.555, -1.536, 3.350, -1.578, -3.537, -1.579]\r\n",
    "stat, p = spearmanr(data1, data2)\r\n",
    "print('stat=%.3f, p=%.3f' % (stat, p))\r\n",
    "if p > 0.05:\r\n",
    "\tprint('Probably independent')\r\n",
    "else:\r\n",
    "\tprint('Probably dependent')"
   ],
   "outputs": [
    {
     "output_type": "stream",
     "name": "stdout",
     "text": [
      "stat=0.855, p=0.002\n",
      "Probably dependent\n"
     ]
    }
   ],
   "metadata": {}
  },
  {
   "cell_type": "code",
   "execution_count": 17,
   "source": [
    "# Example of the Kendall's Rank Correlation Test\r\n",
    "from scipy.stats import kendalltau\r\n",
    "data1 = [0.873, 2.817, 0.121, -0.945, -0.055, -1.436, 0.360, -1.478, -1.637, -1.869]\r\n",
    "data2 = [0.353, 3.517, 0.125, -7.545, -0.555, -1.536, 3.350, -1.578, -3.537, -1.579]\r\n",
    "stat, p = kendalltau(data1, data2)\r\n",
    "print('stat=%.3f, p=%.3f' % (stat, p))\r\n",
    "if p > 0.05:\r\n",
    "\tprint('Probably independent')\r\n",
    "else:\r\n",
    "\tprint('Probably dependent')"
   ],
   "outputs": [
    {
     "output_type": "stream",
     "name": "stdout",
     "text": [
      "stat=0.733, p=0.002\n",
      "Probably dependent\n"
     ]
    }
   ],
   "metadata": {}
  },
  {
   "cell_type": "code",
   "execution_count": 18,
   "source": [
    "import scipy.stats as stats\r\n",
    "\r\n",
    "# create sample data according to survey\r\n",
    "data = [['18-29', 'Conservative'] for i in range(141)] + \\\r\n",
    "        [['18-29', 'Socialist'] for i in range(68)] + \\\r\n",
    "        [['18-29', 'Other'] for i in range(4)] + \\\r\n",
    "        [['30-44', 'Conservative'] for i in range(179)] + \\\r\n",
    "        [['30-44', 'Socialist'] for i in range(159)] + \\\r\n",
    "        [['30-44', 'Other'] for i in range(7)] + \\\r\n",
    "        [['45-65', 'Conservative'] for i in range(220)] + \\\r\n",
    "        [['45-65', 'Socialist'] for i in range(216)] + \\\r\n",
    "        [['45-65', 'Other'] for i in range(4)] + \\\r\n",
    "        [['65 & older', 'Conservative'] for i in range(86)] + \\\r\n",
    "        [['65 & older', 'Socialist'] for i in range(101)] + \\\r\n",
    "        [['65 & older', 'Other'] for i in range(4)]\r\n",
    "df = pd.DataFrame(data, columns = ['Age Group', 'Political Affiliation']) \r\n",
    "\r\n",
    "# create contingency table\r\n",
    "data_crosstab = pd.crosstab(df['Age Group'],\r\n",
    "                            df['Political Affiliation'],\r\n",
    "                           margins=True, margins_name=\"Total\")\r\n",
    "\r\n",
    "# significance level\r\n",
    "alpha = 0.05\r\n",
    "\r\n",
    "# Calcualtion of Chisquare test statistics\r\n",
    "chi_square = 0\r\n",
    "rows = df['Age Group'].unique()\r\n",
    "columns = df['Political Affiliation'].unique()\r\n",
    "for i in columns:\r\n",
    "    for j in rows:\r\n",
    "        O = data_crosstab[i][j]\r\n",
    "        E = data_crosstab[i]['Total'] * data_crosstab['Total'][j] / data_crosstab['Total']['Total']\r\n",
    "        chi_square += (O-E)**2/E\r\n",
    "\r\n",
    "# The p-value approach\r\n",
    "print(\"Approach 1: The p-value approach to hypothesis testing in the decision rule\")\r\n",
    "p_value = 1 - stats.norm.cdf(chi_square, (len(rows)-1)*(len(columns)-1))\r\n",
    "conclusion = \"Failed to reject the null hypothesis.\"\r\n",
    "if p_value <= alpha:\r\n",
    "    conclusion = \"Null Hypothesis is rejected.\"\r\n",
    "        \r\n",
    "print(\"chisquare-score is:\", chi_square, \" and p value is:\", p_value)\r\n",
    "print(conclusion)\r\n",
    "    \r\n",
    "# The critical value approach\r\n",
    "print(\"\\n--------------------------------------------------------------------------------------\")\r\n",
    "print(\"Approach 2: The critical value approach to hypothesis testing in the decision rule\")\r\n",
    "critical_value = stats.chi2.ppf(1-alpha, (len(rows)-1)*(len(columns)-1))\r\n",
    "conclusion = \"Failed to reject the null hypothesis.\"\r\n",
    "if chi_square > critical_value:\r\n",
    "    conclusion = \"Null Hypothesis is rejected.\"\r\n",
    "        \r\n",
    "print(\"chisquare-score is:\", chi_square, \" and p value is:\", critical_value)\r\n",
    "print(conclusion)"
   ],
   "outputs": [
    {
     "output_type": "stream",
     "name": "stdout",
     "text": [
      "Approach 1: The p-value approach to hypothesis testing in the decision rule\n",
      "chisquare-score is: 24.367421717305202  and p value is: 0.0\n",
      "Null Hypothesis is rejected.\n",
      "\n",
      "--------------------------------------------------------------------------------------\n",
      "Approach 2: The critical value approach to hypothesis testing in the decision rule\n",
      "chisquare-score is: 24.367421717305202  and p value is: 12.591587243743977\n",
      "Null Hypothesis is rejected.\n"
     ]
    }
   ],
   "metadata": {}
  },
  {
   "cell_type": "code",
   "execution_count": 19,
   "source": [
    "# Example of the Augmented Dickey-Fuller unit root test\r\n",
    "from statsmodels.tsa.stattools import adfuller\r\n",
    "data = [0, 1, 2, 3, 4, 5, 6, 7, 8, 9]\r\n",
    "stat, p, lags, obs, crit, t = adfuller(data)\r\n",
    "print('stat=%.3f, p=%.3f' % (stat, p))\r\n",
    "if p > 0.05:\r\n",
    "\tprint('Probably not Stationary')\r\n",
    "else:\r\n",
    "\tprint('Probably Stationary')"
   ],
   "outputs": [
    {
     "output_type": "stream",
     "name": "stdout",
     "text": [
      "stat=0.517, p=0.985\n",
      "Probably not Stationary\n"
     ]
    }
   ],
   "metadata": {}
  },
  {
   "cell_type": "code",
   "execution_count": 20,
   "source": [
    "# Example of the Kwiatkowski-Phillips-Schmidt-Shin test\r\n",
    "from statsmodels.tsa.stattools import kpss\r\n",
    "data = [0, 1, 2, 3, 4, 5, 6, 7, 8, 9]\r\n",
    "stat, p, lags, crit = kpss(data)\r\n",
    "print('stat=%.3f, p=%.3f' % (stat, p))\r\n",
    "if p > 0.05:\r\n",
    "\tprint('Probably not Stationary')\r\n",
    "else:\r\n",
    "\tprint('Probably Stationary')"
   ],
   "outputs": [
    {
     "output_type": "stream",
     "name": "stdout",
     "text": [
      "stat=0.410, p=0.073\n",
      "Probably not Stationary\n"
     ]
    },
    {
     "output_type": "stream",
     "name": "stderr",
     "text": [
      "C:\\Users\\56945\\AppData\\Local\\Programs\\Python\\Python39\\lib\\site-packages\\statsmodels\\tsa\\stattools.py:1875: FutureWarning: The behavior of using nlags=None will change in release 0.13.Currently nlags=None is the same as nlags=\"legacy\", and so a sample-size lag length is used. After the next release, the default will change to be the same as nlags=\"auto\" which uses an automatic lag length selection method. To silence this warning, either use \"auto\" or \"legacy\"\n",
      "  warnings.warn(msg, FutureWarning)\n"
     ]
    }
   ],
   "metadata": {}
  },
  {
   "cell_type": "code",
   "execution_count": 21,
   "source": [
    "# Example of the Student's t-test\r\n",
    "from scipy.stats import ttest_ind\r\n",
    "data1 = [0.873, 2.817, 0.121, -0.945, -0.055, -1.436, 0.360, -1.478, -1.637, -1.869]\r\n",
    "data2 = [1.142, -0.432, -0.938, -0.729, -0.846, -0.157, 0.500, 1.183, -1.075, -0.169]\r\n",
    "stat, p = ttest_ind(data1, data2)\r\n",
    "print('stat=%.3f, p=%.3f' % (stat, p))\r\n",
    "if p > 0.05:\r\n",
    "\tprint('Probably the same distribution')\r\n",
    "else:\r\n",
    "\tprint('Probably different distributions')"
   ],
   "outputs": [
    {
     "output_type": "stream",
     "name": "stdout",
     "text": [
      "stat=-0.326, p=0.748\n",
      "Probably the same distribution\n"
     ]
    }
   ],
   "metadata": {}
  },
  {
   "cell_type": "code",
   "execution_count": 22,
   "source": [
    "# Example of the Mann-Whitney U Test\r\n",
    "from scipy.stats import mannwhitneyu\r\n",
    "data1 = [0.873, 2.817, 0.121, -0.945, -0.055, -1.436, 0.360, -1.478, -1.637, -1.869]\r\n",
    "data2 = [1.142, -0.432, -0.938, -0.729, -0.846, -0.157, 0.500, 1.183, -1.075, -0.169]\r\n",
    "stat, p = mannwhitneyu(data1, data2)\r\n",
    "print('stat=%.3f, p=%.3f' % (stat, p))\r\n",
    "if p > 0.05:\r\n",
    "\tprint('Probably the same distribution')\r\n",
    "else:\r\n",
    "\tprint('Probably different distributions')\r\n",
    "    \r\n",
    "sns.kdeplot(data1)\r\n",
    "sns.kdeplot(data2,color='red')\r\n",
    "plt.show()"
   ],
   "outputs": [
    {
     "output_type": "stream",
     "name": "stdout",
     "text": [
      "stat=40.000, p=0.473\n",
      "Probably the same distribution\n"
     ]
    },
    {
     "output_type": "display_data",
     "data": {
      "image/png": "[encoded data removed]",
      "text/plain": [
       "<Figure size 432x288 with 1 Axes>"
      ]
     },
     "metadata": {}
    }
   ],
   "metadata": {}
  },
  {
   "cell_type": "code",
   "execution_count": 23,
   "source": [
    "# Example of the Kruskal-Wallis H Test\r\n",
    "from scipy.stats import kruskal\r\n",
    "data1 = [0.873, 2.817, 0.121, -0.945, -0.055, -1.436, 0.360, -1.478, -1.637, -1.869,-1,-1,-1]\r\n",
    "data2 = [1.142, -0.432, -0.938, -0.729, -0.846, -0.157, 0.500, 1.183, -1.075, -0.169,4,4,4]\r\n",
    "stat, p = kruskal(data1, data2)\r\n",
    "print('stat=%.3f, p=%.3f' % (stat, p))\r\n",
    "if p > 0.05:\r\n",
    "\tprint('Probably the same distribution')\r\n",
    "else:\r\n",
    "\tprint('Probably different distributions')\r\n",
    "\r\n",
    "sns.kdeplot(data1)\r\n",
    "sns.kdeplot(data2,color='red')\r\n",
    "plt.show()   "
   ],
   "outputs": [
    {
     "output_type": "stream",
     "name": "stdout",
     "text": [
      "stat=4.542, p=0.033\n",
      "Probably different distributions\n"
     ]
    },
    {
     "output_type": "display_data",
     "data": {
      "image/png": "[encoded data removed]",
      "text/plain": [
       "<Figure size 432x288 with 1 Axes>"
      ]
     },
     "metadata": {}
    }
   ],
   "metadata": {}
  },
  {
   "cell_type": "code",
   "execution_count": 24,
   "source": [
    "# Example of the Wilcoxon Signed-Rank Test\r\n",
    "from scipy.stats import wilcoxon\r\n",
    "data1 = [0.873, 2.817, 0.121, -0.945, -0.055, -1.436, 0.360, -1.478, -1.637, -1.869]\r\n",
    "data2 = [1.142, -0.432, -0.938, -0.729, -0.846, -0.157, 0.500, 1.183, -1.075, -0.169]\r\n",
    "stat, p = wilcoxon(data1, data2)\r\n",
    "print('stat=%.3f, p=%.3f' % (stat, p))\r\n",
    "if p > 0.05:\r\n",
    "\tprint('Probably the same distribution')\r\n",
    "else:\r\n",
    "\tprint('Probably different distributions')"
   ],
   "outputs": [
    {
     "output_type": "stream",
     "name": "stdout",
     "text": [
      "stat=21.000, p=0.557\n",
      "Probably the same distribution\n"
     ]
    }
   ],
   "metadata": {}
  },
  {
   "cell_type": "code",
   "execution_count": 25,
   "source": [
    "# Example of the Friedman Test\r\n",
    "from scipy.stats import friedmanchisquare\r\n",
    "data1 = [0.873, 2.817, 0.121, -0.945, -0.055, -1.436, 0.360, -1.478, -1.637, -1.869]\r\n",
    "data2 = [1.142, -0.432, -0.938, -0.729, -0.846, -0.157, 0.500, 1.183, -1.075, -0.169]\r\n",
    "data3 = [-0.208, 0.696, 0.928, -1.148, -0.213, 0.229, 0.137, 0.269, -0.870, -1.204]\r\n",
    "stat, p = friedmanchisquare(data1, data2, data3)\r\n",
    "print('stat=%.3f, p=%.3f' % (stat, p))\r\n",
    "if p > 0.05:\r\n",
    "\tprint('Probably the same distribution')\r\n",
    "else:\r\n",
    "\tprint('Probably different distributions')"
   ],
   "outputs": [
    {
     "output_type": "stream",
     "name": "stdout",
     "text": [
      "stat=0.800, p=0.670\n",
      "Probably the same distribution\n"
     ]
    }
   ],
   "metadata": {}
  },
  {
   "cell_type": "code",
   "execution_count": 26,
   "source": [
    "df = pd.read_csv('heart.csv')\r\n",
    "df['Sex1'] = df.sex.replace({1: \"Male\", 0: \"Female\"})\r\n",
    "dx = df[[\"target\", \"Sex1\"]].dropna()\r\n",
    "pd.crosstab(dx.target, dx.Sex1)\r\n",
    "\r\n",
    "\r\n"
   ],
   "outputs": [
    {
     "output_type": "execute_result",
     "data": {
      "text/html": [
       "<div>\n",
       "<style scoped>\n",
       "    .dataframe tbody tr th:only-of-type {\n",
       "        vertical-align: middle;\n",
       "    }\n",
       "\n",
       "    .dataframe tbody tr th {\n",
       "        vertical-align: top;\n",
       "    }\n",
       "\n",
       "    .dataframe thead th {\n",
       "        text-align: right;\n",
       "    }\n",
       "</style>\n",
       "<table border=\"1\" class=\"dataframe\">\n",
       "  <thead>\n",
       "    <tr style=\"text-align: right;\">\n",
       "      <th>Sex1</th>\n",
       "      <th>Female</th>\n",
       "      <th>Male</th>\n",
       "    </tr>\n",
       "    <tr>\n",
       "      <th>target</th>\n",
       "      <th></th>\n",
       "      <th></th>\n",
       "    </tr>\n",
       "  </thead>\n",
       "  <tbody>\n",
       "    <tr>\n",
       "      <th>0</th>\n",
       "      <td>86</td>\n",
       "      <td>413</td>\n",
       "    </tr>\n",
       "    <tr>\n",
       "      <th>1</th>\n",
       "      <td>226</td>\n",
       "      <td>300</td>\n",
       "    </tr>\n",
       "  </tbody>\n",
       "</table>\n",
       "</div>"
      ],
      "text/plain": [
       "Sex1    Female  Male\n",
       "target              \n",
       "0           86   413\n",
       "1          226   300"
      ]
     },
     "metadata": {},
     "execution_count": 26
    }
   ],
   "metadata": {}
  },
  {
   "cell_type": "code",
   "execution_count": 27,
   "source": [
    "p_fm = 25/(72+25)                     # female population proportion with heart disease.\r\n",
    "n = 72+25                             #size of the female populatiomn\r\n",
    "se_female = np.sqrt(p_fm * (1 - p_fm) / n)       #standard error \r\n",
    "z_score = 1.96                                   # z score for 95% confident interval\r\n",
    "lcb = p_fm - z_score* se_female       #lower limit of the CI\r\n",
    "ucb = p_fm + z_score* se_female       #upper limit of the CI\r\n",
    "print('Lower limit confident interval:',lcb)\r\n",
    "print('Upper limit confident interval:',ucb)\r\n",
    "import statsmodels.api as sm          #with stats model\r\n",
    "print(sm.stats.proportion_confint(n * p_fm, n))"
   ],
   "outputs": [
    {
     "output_type": "stream",
     "name": "stdout",
     "text": [
      "Lower limit confident interval: 0.17068878406861235\n",
      "Upper limit confident interval: 0.3447751334571608\n",
      "(0.17069038350737342, 0.3447735340183997)\n"
     ]
    }
   ],
   "metadata": {}
  },
  {
   "cell_type": "code",
   "execution_count": 28,
   "source": [
    "se_male=0.034\r\n",
    "se_diff = np.sqrt(se_female**2 + se_male**2)\r\n",
    "\r\n",
    "d = 0.55 - 0.26  #The male population proportion with heart disease is 0.55 and female is 0.26\r\n",
    "z_score = 1.96\r\n",
    "lcb = d - z_score * se_diff  #lower limit of the CI\r\n",
    "ucb = d + z_score* se_diff  #upper limit of the CI\r\n",
    "print('Lower limit confident interval:',lcb)\r\n",
    "print('Upper limit confident interval:',ucb)\r\n"
   ],
   "outputs": [
    {
     "output_type": "stream",
     "name": "stdout",
     "text": [
      "Lower limit confident interval: 0.18037607988738072\n",
      "Upper limit confident interval: 0.3996239201126194\n"
     ]
    }
   ],
   "metadata": {}
  },
  {
   "cell_type": "code",
   "execution_count": 29,
   "source": [
    " # generate an independent variable \r\n",
    " x = np.linspace(-10, 30, 100)\r\n",
    " # generate a normally distributed residual\r\n",
    " e = np.random.normal(10, 5, 100)\r\n",
    " # generate ground truth\r\n",
    " y = 10 + 4*x + e\r\n",
    " df = pd.DataFrame({'x':x, 'y':y})\r\n",
    " df.head() "
   ],
   "outputs": [
    {
     "output_type": "execute_result",
     "data": {
      "text/html": [
       "<div>\n",
       "<style scoped>\n",
       "    .dataframe tbody tr th:only-of-type {\n",
       "        vertical-align: middle;\n",
       "    }\n",
       "\n",
       "    .dataframe tbody tr th {\n",
       "        vertical-align: top;\n",
       "    }\n",
       "\n",
       "    .dataframe thead th {\n",
       "        text-align: right;\n",
       "    }\n",
       "</style>\n",
       "<table border=\"1\" class=\"dataframe\">\n",
       "  <thead>\n",
       "    <tr style=\"text-align: right;\">\n",
       "      <th></th>\n",
       "      <th>x</th>\n",
       "      <th>y</th>\n",
       "    </tr>\n",
       "  </thead>\n",
       "  <tbody>\n",
       "    <tr>\n",
       "      <th>0</th>\n",
       "      <td>-10.000000</td>\n",
       "      <td>-20.384422</td>\n",
       "    </tr>\n",
       "    <tr>\n",
       "      <th>1</th>\n",
       "      <td>-9.595960</td>\n",
       "      <td>-12.648953</td>\n",
       "    </tr>\n",
       "    <tr>\n",
       "      <th>2</th>\n",
       "      <td>-9.191919</td>\n",
       "      <td>-11.889535</td>\n",
       "    </tr>\n",
       "    <tr>\n",
       "      <th>3</th>\n",
       "      <td>-8.787879</td>\n",
       "      <td>-13.819921</td>\n",
       "    </tr>\n",
       "    <tr>\n",
       "      <th>4</th>\n",
       "      <td>-8.383838</td>\n",
       "      <td>-11.245411</td>\n",
       "    </tr>\n",
       "  </tbody>\n",
       "</table>\n",
       "</div>"
      ],
      "text/plain": [
       "           x          y\n",
       "0 -10.000000 -20.384422\n",
       "1  -9.595960 -12.648953\n",
       "2  -9.191919 -11.889535\n",
       "3  -8.787879 -13.819921\n",
       "4  -8.383838 -11.245411"
      ]
     },
     "metadata": {},
     "execution_count": 29
    }
   ],
   "metadata": {}
  },
  {
   "cell_type": "code",
   "execution_count": 30,
   "source": [
    " sns.regplot(x='x', y='y', data = df)\r\n",
    " plt.show() "
   ],
   "outputs": [
    {
     "output_type": "display_data",
     "data": {
      "image/png": "[encoded data removed]",
      "text/plain": [
       "<Figure size 432x288 with 1 Axes>"
      ]
     },
     "metadata": {}
    }
   ],
   "metadata": {}
  },
  {
   "cell_type": "code",
   "execution_count": 31,
   "source": [
    " import numpy as np\r\n",
    " import pandas as pd\r\n",
    " from matplotlib import pyplot as plt\r\n",
    " import seaborn as sns\r\n",
    " from statsmodels import api\r\n",
    " from scipy import stats\r\n",
    " from scipy.optimize import minimize "
   ],
   "outputs": [],
   "metadata": {}
  },
  {
   "cell_type": "code",
   "execution_count": 32,
   "source": [
    " features = api.add_constant(df.x)\r\n",
    " model = api.OLS(y, features).fit()\r\n",
    " model.summary()"
   ],
   "outputs": [
    {
     "output_type": "stream",
     "name": "stderr",
     "text": [
      "C:\\Users\\56945\\AppData\\Local\\Programs\\Python\\Python39\\lib\\site-packages\\statsmodels\\tsa\\tsatools.py:142: FutureWarning: In a future version of pandas all arguments of concat except for the argument 'objs' will be keyword-only\n",
      "  x = pd.concat(x[::order], 1)\n"
     ]
    },
    {
     "output_type": "execute_result",
     "data": {
      "text/html": [
       "<table class=\"simpletable\">\n",
       "<caption>OLS Regression Results</caption>\n",
       "<tr>\n",
       "  <th>Dep. Variable:</th>            <td>y</td>        <th>  R-squared:         </th> <td>   0.991</td> \n",
       "</tr>\n",
       "<tr>\n",
       "  <th>Model:</th>                   <td>OLS</td>       <th>  Adj. R-squared:    </th> <td>   0.991</td> \n",
       "</tr>\n",
       "<tr>\n",
       "  <th>Method:</th>             <td>Least Squares</td>  <th>  F-statistic:       </th> <td>1.071e+04</td>\n",
       "</tr>\n",
       "<tr>\n",
       "  <th>Date:</th>             <td>Fri, 10 Sep 2021</td> <th>  Prob (F-statistic):</th> <td>6.70e-102</td>\n",
       "</tr>\n",
       "<tr>\n",
       "  <th>Time:</th>                 <td>19:03:52</td>     <th>  Log-Likelihood:    </th> <td> -291.51</td> \n",
       "</tr>\n",
       "<tr>\n",
       "  <th>No. Observations:</th>      <td>   100</td>      <th>  AIC:               </th> <td>   587.0</td> \n",
       "</tr>\n",
       "<tr>\n",
       "  <th>Df Residuals:</th>          <td>    98</td>      <th>  BIC:               </th> <td>   592.2</td> \n",
       "</tr>\n",
       "<tr>\n",
       "  <th>Df Model:</th>              <td>     1</td>      <th>                     </th>     <td> </td>    \n",
       "</tr>\n",
       "<tr>\n",
       "  <th>Covariance Type:</th>      <td>nonrobust</td>    <th>                     </th>     <td> </td>    \n",
       "</tr>\n",
       "</table>\n",
       "<table class=\"simpletable\">\n",
       "<tr>\n",
       "    <td></td>       <th>coef</th>     <th>std err</th>      <th>t</th>      <th>P>|t|</th>  <th>[0.025</th>    <th>0.975]</th>  \n",
       "</tr>\n",
       "<tr>\n",
       "  <th>const</th> <td>   19.9481</td> <td>    0.594</td> <td>   33.581</td> <td> 0.000</td> <td>   18.769</td> <td>   21.127</td>\n",
       "</tr>\n",
       "<tr>\n",
       "  <th>x</th>     <td>    4.0013</td> <td>    0.039</td> <td>  103.483</td> <td> 0.000</td> <td>    3.925</td> <td>    4.078</td>\n",
       "</tr>\n",
       "</table>\n",
       "<table class=\"simpletable\">\n",
       "<tr>\n",
       "  <th>Omnibus:</th>       <td> 0.580</td> <th>  Durbin-Watson:     </th> <td>   1.926</td>\n",
       "</tr>\n",
       "<tr>\n",
       "  <th>Prob(Omnibus):</th> <td> 0.748</td> <th>  Jarque-Bera (JB):  </th> <td>   0.213</td>\n",
       "</tr>\n",
       "<tr>\n",
       "  <th>Skew:</th>          <td> 0.056</td> <th>  Prob(JB):          </th> <td>   0.899</td>\n",
       "</tr>\n",
       "<tr>\n",
       "  <th>Kurtosis:</th>      <td> 3.196</td> <th>  Cond. No.          </th> <td>    20.3</td>\n",
       "</tr>\n",
       "</table><br/><br/>Notes:<br/>[1] Standard Errors assume that the covariance matrix of the errors is correctly specified."
      ],
      "text/plain": [
       "<class 'statsmodels.iolib.summary.Summary'>\n",
       "\"\"\"\n",
       "                            OLS Regression Results                            \n",
       "==============================================================================\n",
       "Dep. Variable:                      y   R-squared:                       0.991\n",
       "Model:                            OLS   Adj. R-squared:                  0.991\n",
       "Method:                 Least Squares   F-statistic:                 1.071e+04\n",
       "Date:                Fri, 10 Sep 2021   Prob (F-statistic):          6.70e-102\n",
       "Time:                        19:03:52   Log-Likelihood:                -291.51\n",
       "No. Observations:                 100   AIC:                             587.0\n",
       "Df Residuals:                      98   BIC:                             592.2\n",
       "Df Model:                           1                                         \n",
       "Covariance Type:            nonrobust                                         \n",
       "==============================================================================\n",
       "                 coef    std err          t      P>|t|      [0.025      0.975]\n",
       "------------------------------------------------------------------------------\n",
       "const         19.9481      0.594     33.581      0.000      18.769      21.127\n",
       "x              4.0013      0.039    103.483      0.000       3.925       4.078\n",
       "==============================================================================\n",
       "Omnibus:                        0.580   Durbin-Watson:                   1.926\n",
       "Prob(Omnibus):                  0.748   Jarque-Bera (JB):                0.213\n",
       "Skew:                           0.056   Prob(JB):                        0.899\n",
       "Kurtosis:                       3.196   Cond. No.                         20.3\n",
       "==============================================================================\n",
       "\n",
       "Notes:\n",
       "[1] Standard Errors assume that the covariance matrix of the errors is correctly specified.\n",
       "\"\"\""
      ]
     },
     "metadata": {},
     "execution_count": 32
    }
   ],
   "metadata": {}
  },
  {
   "cell_type": "code",
   "execution_count": 33,
   "source": [
    " res = model.resid\r\n",
    " standard_dev = np.std(res)\r\n",
    " standard_dev "
   ],
   "outputs": [
    {
     "output_type": "execute_result",
     "data": {
      "text/plain": [
       "4.464343421014012"
      ]
     },
     "metadata": {},
     "execution_count": 33
    }
   ],
   "metadata": {}
  },
  {
   "cell_type": "code",
   "execution_count": 34,
   "source": [
    "# MLE function\r\n",
    "# ml modeling and neg LL calculation\r\n",
    "def MLE_Norm(parameters):\r\n",
    "    # extract parameters\r\n",
    "    const, beta, std_dev = parameters\r\n",
    "    # predict the output\r\n",
    "    pred = const + beta*x\r\n",
    "    # Calculate the log-likelihood for normal distribution\r\n",
    "    LL = np.sum(stats.norm.logpdf(y, pred, std_dev))\r\n",
    "    # Calculate the negative log-likelihood\r\n",
    "    neg_LL = -1*LL\r\n",
    "    return neg_LL \r\n",
    "\r\n",
    " # minimize arguments: function, intial_guess_of_parameters, method\r\n",
    "mle_model = minimize(MLE_Norm, np.array([2,2,2]), method='L-BFGS-B')\r\n",
    "mle_model\r\n"
   ],
   "outputs": [
    {
     "output_type": "execute_result",
     "data": {
      "text/plain": [
       "      fun: 291.50606865554704\n",
       " hess_inv: <3x3 LbfgsInvHessProduct with dtype=float64>\n",
       "      jac: array([-5.68434142e-06,  5.68434192e-06,  0.00000000e+00])\n",
       "  message: 'CONVERGENCE: NORM_OF_PROJECTED_GRADIENT_<=_PGTOL'\n",
       "     nfev: 220\n",
       "      nit: 34\n",
       "     njev: 55\n",
       "   status: 0\n",
       "  success: True\n",
       "        x: array([19.9481194 ,  4.00130619,  4.46434335])"
      ]
     },
     "metadata": {},
     "execution_count": 34
    }
   ],
   "metadata": {}
  },
  {
   "cell_type": "code",
   "execution_count": 75,
   "source": [
    "data1=pd.read_csv('Diet_R.csv')\r\n",
    "data1.rename(columns={'pre.weight':'preweight'},inplace=True)\r\n",
    "print(data1)\r\n",
    "\r\n",
    "fig, ax=plt.subplots(1,2)\r\n",
    "sns.kdeplot(data=data1, x='preweight',shade=True, color='salmon',ax=ax[1])\r\n",
    "sns.histplot(data1,x='preweight',ax=ax[0])\r\n",
    "plt.show()"
   ],
   "outputs": [
    {
     "output_type": "stream",
     "name": "stdout",
     "text": [
      "    Person gender  Age  Height  preweight  Diet  weight6weeks\n",
      "0       25          41     171         60     2          60.0\n",
      "1       26          32     174        103     2         103.0\n",
      "2        1      0   22     159         58     1          54.2\n",
      "3        2      0   46     192         60     1          54.0\n",
      "4        3      0   55     170         64     1          63.3\n",
      "..     ...    ...  ...     ...        ...   ...           ...\n",
      "73      74      1   35     183         83     3          80.2\n",
      "74      75      1   49     177         84     3          79.9\n",
      "75      76      1   28     164         85     3          79.7\n",
      "76      77      1   40     167         87     3          77.8\n",
      "77      78      1   51     175         88     3          81.9\n",
      "\n",
      "[78 rows x 7 columns]\n"
     ]
    },
    {
     "output_type": "display_data",
     "data": {
      "image/png": "[encoded data removed]",
      "text/plain": [
       "<Figure size 432x288 with 2 Axes>"
      ]
     },
     "metadata": {}
    }
   ],
   "metadata": {}
  },
  {
   "cell_type": "code",
   "execution_count": 81,
   "source": [
    "from scipy.stats import pearsonr\r\n",
    "print(data1[['preweight','weight6weeks']].head(3))\r\n",
    "#pearson correlation\r\n",
    "corr, _ = pearsonr(data1['weight6weeks'], data1['preweight'])\r\n",
    "print('Pearsons correlation: %.3f' % corr)"
   ],
   "outputs": [
    {
     "output_type": "stream",
     "name": "stdout",
     "text": [
      "   preweight  weight6weeks\n",
      "0         60          60.0\n",
      "1        103         103.0\n",
      "2         58          54.2\n",
      "Pearsons correlation: 0.958\n"
     ]
    }
   ],
   "metadata": {}
  },
  {
   "cell_type": "code",
   "execution_count": 83,
   "source": [
    "from scipy.stats import spearmanr\r\n",
    "#spearman's correlation\r\n",
    "corr, _ = spearmanr(data1['weight6weeks'], data1['preweight'])\r\n",
    "print('Pearsons correlation: %.3f' % corr)"
   ],
   "outputs": [
    {
     "output_type": "stream",
     "name": "stdout",
     "text": [
      "Pearsons correlation: 0.957\n"
     ]
    }
   ],
   "metadata": {}
  },
  {
   "cell_type": "code",
   "execution_count": null,
   "source": [],
   "outputs": [],
   "metadata": {}
  },
  {
   "cell_type": "code",
   "execution_count": null,
   "source": [],
   "outputs": [],
   "metadata": {}
  }
 ],
 "metadata": {
  "orig_nbformat": 4,
  "language_info": {
   "name": "python",
   "version": "3.9.6",
   "mimetype": "text/x-python",
   "codemirror_mode": {
    "name": "ipython",
    "version": 3
   },
   "pygments_lexer": "ipython3",
   "nbconvert_exporter": "python",
   "file_extension": ".py"
  },
  "kernelspec": {
   "name": "python3",
   "display_name": "Python 3.9.6 64-bit"
  },
  "interpreter": {
   "hash": "eb10dc7af34d8b2d8e4e13c255a62d72cda2839118676834d127e6a78e1763b3"
  }
 },
 "nbformat": 4,
 "nbformat_minor": 2
}