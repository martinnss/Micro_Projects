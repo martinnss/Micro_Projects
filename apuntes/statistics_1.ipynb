{
 "cells": [
  {
   "cell_type": "markdown",
   "source": [
    "# Statistics Dataset\r\n",
    "### In this dataset im going to perfom some  statistics, like:\r\n",
    "* Descriptive statistics\r\n",
    "    * Mean\r\n",
    "    * Median\r\n",
    "    * Rango\r\n",
    "    * STD\r\n",
    "    * Variance"
   ],
   "metadata": {}
  },
  {
   "cell_type": "code",
   "execution_count": 1,
   "source": [
    "import pandas as pd\r\n",
    "\r\n",
    "data=pd.read_csv('Crime_R.csv')\r\n",
    "#lets visualize the first values\r\n",
    "print(data.head())\r\n",
    "#shape of the dataframe\r\n",
    "print(\"This dataframe has\",data.shape[0],\"columns and\", data.shape[1],\"rows.\")\r\n"
   ],
   "outputs": [
    {
     "output_type": "stream",
     "name": "stdout",
     "text": [
      "   CrimeRate  Youth  Southern  Education  ExpenditureYear0  LabourForce  \\\n",
      "0       45.5    135         0       12.4                69          540   \n",
      "1       52.3    140         0       10.9                55          535   \n",
      "2       56.6    157         1       11.2                47          512   \n",
      "3       60.3    139         1       11.9                46          480   \n",
      "4       64.2    126         0       12.2               106          599   \n",
      "\n",
      "   Males  MoreMales  StateSize  YouthUnemployment  ...  ExpenditureYear10  \\\n",
      "0    965          0          6                 80  ...                 71   \n",
      "1   1045          1          6                135  ...                 54   \n",
      "2    962          0         22                 97  ...                 44   \n",
      "3    968          0         19                135  ...                 41   \n",
      "4    989          0         40                 78  ...                 97   \n",
      "\n",
      "   LabourForce10  Males10  MoreMales10  StateSize10  YouthUnemploy10  \\\n",
      "0            564      974            0            6               82   \n",
      "1            540     1039            1            7              138   \n",
      "2            529      959            0           24               98   \n",
      "3            497      983            0           20              131   \n",
      "4            602      989            0           42               79   \n",
      "\n",
      "   MatureUnemploy10  HighYouthUnemploy10  Wage10  BelowWage10  \n",
      "0                20                    1     632          142  \n",
      "1                39                    1     521          210  \n",
      "2                33                    0     359          256  \n",
      "3                50                    0     510          235  \n",
      "4                24                    1     660          162  \n",
      "\n",
      "[5 rows x 27 columns]\n",
      "This dataframe has 47 columns and 27 rows.\n"
     ]
    }
   ],
   "metadata": {}
  },
  {
   "cell_type": "markdown",
   "source": [
    "## Descriptive Statistics"
   ],
   "metadata": {}
  },
  {
   "cell_type": "code",
   "execution_count": 2,
   "source": [
    "print(data.describe())"
   ],
   "outputs": [
    {
     "output_type": "stream",
     "name": "stdout",
     "text": [
      "        CrimeRate       Youth   Southern  Education  ExpenditureYear0  \\\n",
      "count   47.000000   47.000000  47.000000  47.000000         47.000000   \n",
      "mean   102.808511  138.574468   0.340426  12.391489         85.000000   \n",
      "std     28.893266   12.567634   0.478975   1.120332         29.718974   \n",
      "min     45.500000  119.000000   0.000000  10.000000         45.000000   \n",
      "25%     82.700000  130.000000   0.000000  11.550000         62.500000   \n",
      "50%    103.000000  136.000000   0.000000  12.400000         78.000000   \n",
      "75%    120.650000  146.000000   1.000000  13.200000        104.500000   \n",
      "max    161.800000  177.000000   1.000000  15.100000        166.000000   \n",
      "\n",
      "       LabourForce        Males  MoreMales   StateSize  YouthUnemployment  \\\n",
      "count    47.000000    47.000000  47.000000   47.000000          47.000000   \n",
      "mean    561.191489   983.021277   0.191489   36.617021          95.468085   \n",
      "std      40.411814    29.467365   0.397727   38.071188          18.028783   \n",
      "min     480.000000   934.000000   0.000000    3.000000          70.000000   \n",
      "25%     530.500000   964.500000   0.000000   10.000000          80.500000   \n",
      "50%     560.000000   977.000000   0.000000   25.000000          92.000000   \n",
      "75%     593.000000   992.000000   0.000000   41.500000         104.000000   \n",
      "max     641.000000  1071.000000   1.000000  168.000000         142.000000   \n",
      "\n",
      "       ...  ExpenditureYear10  LabourForce10      Males10  MoreMales10  \\\n",
      "count  ...          47.000000      47.000000    47.000000    47.000000   \n",
      "mean   ...          80.234043     565.531915   986.872340     0.212766   \n",
      "std    ...          27.961319      37.645284    29.845702     0.413688   \n",
      "min    ...          41.000000     497.000000   935.000000     0.000000   \n",
      "25%    ...          58.500000     538.000000   969.500000     0.000000   \n",
      "50%    ...          73.000000     563.000000   983.000000     0.000000   \n",
      "75%    ...          97.000000     599.000000   994.000000     0.000000   \n",
      "max    ...         157.000000     641.000000  1079.000000     1.000000   \n",
      "\n",
      "       StateSize10  YouthUnemploy10  MatureUnemploy10  HighYouthUnemploy10  \\\n",
      "count    47.000000        47.000000         47.000000            47.000000   \n",
      "mean     37.702128        97.446809         33.361702             0.404255   \n",
      "std      39.490734        17.843289          8.414340             0.496053   \n",
      "min       3.000000        71.000000         15.000000             0.000000   \n",
      "25%      11.000000        82.000000         28.000000             0.000000   \n",
      "50%      25.000000        93.000000         34.000000             0.000000   \n",
      "75%      43.000000       108.500000         39.000000             1.000000   \n",
      "max     180.000000       143.000000         59.000000             1.000000   \n",
      "\n",
      "           Wage10  BelowWage10  \n",
      "count   47.000000    47.000000  \n",
      "mean   594.638298   192.957447  \n",
      "std     93.749765    38.756182  \n",
      "min    359.000000   126.000000  \n",
      "25%    530.000000   165.000000  \n",
      "50%    615.000000   182.000000  \n",
      "75%    659.500000   229.500000  \n",
      "max    748.000000   257.000000  \n",
      "\n",
      "[8 rows x 27 columns]\n"
     ]
    }
   ],
   "metadata": {}
  },
  {
   "cell_type": "code",
   "execution_count": 3,
   "source": [
    "data.var()"
   ],
   "outputs": [
    {
     "output_type": "execute_result",
     "data": {
      "text/plain": [
       "CrimeRate               834.820796\n",
       "Youth                   157.945421\n",
       "Southern                  0.229417\n",
       "Education                 1.255143\n",
       "ExpenditureYear0        883.217391\n",
       "LabourForce            1633.114709\n",
       "Males                   868.325624\n",
       "MoreMales                 0.158187\n",
       "StateSize              1449.415356\n",
       "YouthUnemployment       325.037003\n",
       "MatureUnemployment       71.325624\n",
       "HighYouthUnemploy         0.222017\n",
       "Wage                   9310.502313\n",
       "BelowWage              1591.695652\n",
       "CrimeRate10            1542.766920\n",
       "Youth10                 119.123959\n",
       "Education10               1.371952\n",
       "ExpenditureYear10       781.835338\n",
       "LabourForce10          1417.167438\n",
       "Males10                 890.765957\n",
       "MoreMales10               0.171138\n",
       "StateSize10            1559.518039\n",
       "YouthUnemploy10         318.382979\n",
       "MatureUnemploy10         70.801110\n",
       "HighYouthUnemploy10       0.246068\n",
       "Wage10                 8789.018501\n",
       "BelowWage10            1502.041628\n",
       "dtype: float64"
      ]
     },
     "metadata": {},
     "execution_count": 3
    }
   ],
   "metadata": {}
  },
  {
   "cell_type": "code",
   "execution_count": 4,
   "source": [
    "import seaborn as sns\r\n",
    "import matplotlib.pyplot as plt\r\n",
    "\r\n",
    "fig, axes = plt.subplots(1, 2, figsize=(11, 4))\r\n",
    "sns.histplot(data=data, x='CrimeRate',bins=15, color='forestgreen',ax=axes[0])\r\n",
    "sns.histplot(data=data, x='Education',bins=15, color='salmon',ax=axes[1])\r\n",
    "plt.show()"
   ],
   "outputs": [
    {
     "output_type": "display_data",
     "data": {
      "image/png": "[encoded data removed]",
      "text/plain": [
       "<Figure size 792x288 with 2 Axes>"
      ]
     },
     "metadata": {
      "needs_background": "light"
     }
    }
   ],
   "metadata": {}
  },
  {
   "cell_type": "code",
   "execution_count": 5,
   "source": [
    "sns.boxplot(data=data, x='CrimeRate', whis=[10,90] )\r\n",
    "plt.plot()"
   ],
   "outputs": [
    {
     "output_type": "execute_result",
     "data": {
      "text/plain": [
       "[]"
      ]
     },
     "metadata": {},
     "execution_count": 5
    },
    {
     "output_type": "display_data",
     "data": {
      "image/png": "[encoded data removed]",
      "text/plain": [
       "<Figure size 432x288 with 1 Axes>"
      ]
     },
     "metadata": {
      "needs_background": "light"
     }
    }
   ],
   "metadata": {}
  },
  {
   "cell_type": "code",
   "execution_count": 6,
   "source": [
    "# calculate the probability of cancer patient and diagnostic test\r\n",
    "\r\n",
    "# calculate P(A|B) given P(A), P(B|A), P(B|not A)\r\n",
    "def bayes_theorem(p_a, p_b_given_a, p_b_given_not_a):\r\n",
    "\t# calculate P(not A)\r\n",
    "\tnot_a = 1 - p_a\r\n",
    "\t# calculate P(B)\r\n",
    "\tp_b = p_b_given_a * p_a + p_b_given_not_a * not_a\r\n",
    "\t# calculate P(A|B)\r\n",
    "\tp_a_given_b = (p_b_given_a * p_a) / p_b\r\n",
    "\treturn p_a_given_b\r\n",
    "\r\n",
    "# P(A)\r\n",
    "p_a = 0.0002\r\n",
    "# P(B|A)\r\n",
    "p_b_given_a = 0.85\r\n",
    "# P(B|not A)\r\n",
    "p_b_given_not_a = 0.05\r\n",
    "# calculate P(A|B)\r\n",
    "result = bayes_theorem(p_a, p_b_given_a, p_b_given_not_a)\r\n",
    "# summarize\r\n",
    "print('P(A|B) = %.3f%%' % (result * 100))"
   ],
   "outputs": [
    {
     "output_type": "stream",
     "name": "stdout",
     "text": [
      "P(A|B) = 0.339%\n"
     ]
    }
   ],
   "metadata": {}
  },
  {
   "cell_type": "code",
   "execution_count": 7,
   "source": [
    "import numpy as np\r\n",
    "\r\n",
    "data_ed=data['Education']    \r\n",
    "mean=np.mean(data_ed)\r\n",
    "std=np.std(data_ed)                                  #steps to create the normal data\r\n",
    "samples=np.random.normal(mean, std, size=10000)\r\n",
    "\r\n",
    "def ecdf(data):\r\n",
    "    \"\"\"Compute ECDF for a one-dimensional array of measurements.\"\"\"\r\n",
    "    # Number of data points: n\r\n",
    "    n = len(data)\r\n",
    "    # x-data for the ECDF: x\r\n",
    "    x = np.sort(data)\r\n",
    "    # y-data for the ECDF: y\r\n",
    "    y = np.arange(1, n+1) / n\r\n",
    "    return x, y\r\n",
    "\r\n",
    "x, y =ecdf(data_ed)\r\n",
    "x_norm, y_norm=ecdf(samples)\r\n",
    "\r\n",
    "sns.set()\r\n",
    "plt.plot(x_norm,y_norm)\r\n",
    "plt.plot(x,y,marker='.', linestyle='none')\r\n",
    "plt.xlabel('Education in Years')\r\n",
    "plt.ylabel('CDF')\r\n",
    "plt.show()\r\n"
   ],
   "outputs": [
    {
     "output_type": "display_data",
     "data": {
      "image/png": "[encoded data removed]",
      "text/plain": [
       "<Figure size 432x288 with 1 Axes>"
      ]
     },
     "metadata": {}
    }
   ],
   "metadata": {}
  },
  {
   "cell_type": "code",
   "execution_count": 8,
   "source": [
    "from scipy.stats import skew\r\n",
    "sk1=[1,1,1,2,4,1,1,1,1,1,1,1,1,2,3,4,2,3,9,8,9]    #more lower values\r\n",
    "sk2=[1,2,1,1,9,8,9,8,7,8,9,8,7,14,9,9,8,9,7,9] #more higher values\r\n",
    "print('The coefficients of skewness are ',skew(sk1),'(lower values) and', skew(sk2), '(higher values)')"
   ],
   "outputs": [
    {
     "output_type": "stream",
     "name": "stdout",
     "text": [
      "The coefficients of skewness are  1.5657272468749186 (lower values) and -0.6625965684897368 (higher values)\n"
     ]
    }
   ],
   "metadata": {}
  },
  {
   "cell_type": "code",
   "execution_count": 9,
   "source": [
    "data1=pd.read_csv('Diet_R.csv')\r\n",
    "data1.rename(columns={'pre.weight':'preweight'},inplace=True)\r\n",
    "print(data1.dtypes)"
   ],
   "outputs": [
    {
     "output_type": "stream",
     "name": "stdout",
     "text": [
      "Person            int64\n",
      "gender           object\n",
      "Age               int64\n",
      "Height            int64\n",
      "preweight         int64\n",
      "Diet              int64\n",
      "weight6weeks    float64\n",
      "dtype: object\n"
     ]
    }
   ],
   "metadata": {}
  },
  {
   "cell_type": "code",
   "execution_count": 10,
   "source": [
    "import statsmodels.api as sm \r\n",
    "from statsmodels.formula.api import ols\r\n",
    "\r\n",
    "model=ols('preweight~gender', data=data1).fit()\r\n",
    "anova1way= sm.stats.anova_lm(model, type=2)\r\n",
    "print(anova1way)"
   ],
   "outputs": [
    {
     "output_type": "stream",
     "name": "stdout",
     "text": [
      "            df       sum_sq      mean_sq          F        PR(>F)\n",
      "gender     2.0  2815.560416  1407.780208  34.687053  2.157487e-11\n",
      "Residual  75.0  3043.888302    40.585177        NaN           NaN\n"
     ]
    }
   ],
   "metadata": {}
  },
  {
   "cell_type": "code",
   "execution_count": 11,
   "source": [
    "import statsmodels.api as sm \r\n",
    "from statsmodels.formula.api import ols\r\n",
    "\r\n",
    "model2=ols('preweight~gender+Diet+gender*Diet', data=data1).fit()\r\n",
    "anova2way= sm.stats.anova_lm(model2, type=2)\r\n",
    "print(anova2way)\r\n",
    "print(data1.corr())"
   ],
   "outputs": [
    {
     "output_type": "stream",
     "name": "stdout",
     "text": [
      "               df       sum_sq      mean_sq          F        PR(>F)\n",
      "gender        2.0  2815.560416  1407.780208  33.807387  4.056530e-11\n",
      "Diet          1.0     3.757281     3.757281   0.090230  7.647389e-01\n",
      "gender:Diet   2.0   981.101229   490.550615  11.780414  3.681700e-05\n",
      "Residual     73.0  3039.807739    41.641202        NaN           NaN\n",
      "                Person       Age    Height  preweight      Diet  weight6weeks\n",
      "Person        1.000000 -0.101773 -0.033696   0.296399  0.942237      0.196728\n",
      "Age          -0.101773  1.000000  0.080393  -0.006265 -0.127707      0.010472\n",
      "Height       -0.033696  0.080393  1.000000   0.154381 -0.118241      0.183998\n",
      "preweight     0.296399 -0.006265  0.154381   1.000000  0.039234      0.958449\n",
      "Diet          0.942237 -0.127707 -0.118241   0.039234  1.000000     -0.048050\n",
      "weight6weeks  0.196728  0.010472  0.183998   0.958449 -0.048050      1.000000\n"
     ]
    }
   ],
   "metadata": {}
  },
  {
   "cell_type": "code",
   "execution_count": 17,
   "source": [
    "# Example of the Shapiro-Wilk Normality Test for a sample of weights\r\n",
    "from scipy.stats import shapiro\r\n",
    "data2 = data1.preweight\r\n",
    "stat, p = shapiro(data2)\r\n",
    "print('stat=%.3f, p=%.3f' % (stat, p))\r\n",
    "if p > 0.05:\r\n",
    "\tprint('Probably Gaussian')\r\n",
    "else:\r\n",
    "\tprint('Probably not Gaussian')"
   ],
   "outputs": [
    {
     "output_type": "stream",
     "name": "stdout",
     "text": [
      "stat=0.969, p=0.055\n",
      "Probably Gaussian\n"
     ]
    }
   ],
   "metadata": {}
  },
  {
   "cell_type": "code",
   "execution_count": 18,
   "source": [
    "# Example of the D'Agostino's K^2 Normality Test\r\n",
    "from scipy.stats import normaltest\r\n",
    "data2 = data1.preweight\r\n",
    "stat, p = normaltest(data2)\r\n",
    "print('stat=%.3f, p=%.3f' % (stat, p))\r\n",
    "if p > 0.05:\r\n",
    "\tprint('Probably Gaussian')\r\n",
    "else:\r\n",
    "\tprint('Probably not Gaussian')"
   ],
   "outputs": [
    {
     "output_type": "stream",
     "name": "stdout",
     "text": [
      "stat=4.843, p=0.089\n",
      "Probably Gaussian\n"
     ]
    }
   ],
   "metadata": {}
  },
  {
   "cell_type": "code",
   "execution_count": 21,
   "source": [
    "# Example of the Anderson-Darling Normality Test\r\n",
    "from scipy.stats import anderson\r\n",
    "data2 = data1.preweight\r\n",
    "result = anderson(data2)\r\n",
    "print('stat=%.3f' % (result.statistic))\r\n",
    "for i in range(len(result.critical_values)):\r\n",
    "\tsl, cv = result.significance_level[i], result.critical_values[i]\r\n",
    "\tif result.statistic < cv:\r\n",
    "\t\tprint('Probably Gaussian at the %.1f%% level' % (sl))\r\n",
    "\telse:\r\n",
    "\t\tprint('Probably not Gaussian at the %.1f%% level' % (sl))"
   ],
   "outputs": [
    {
     "output_type": "stream",
     "name": "stdout",
     "text": [
      "stat=0.369\n",
      "Probably Gaussian at the 15.0% level\n",
      "Probably Gaussian at the 10.0% level\n",
      "Probably Gaussian at the 5.0% level\n",
      "Probably Gaussian at the 2.5% level\n",
      "Probably Gaussian at the 1.0% level\n"
     ]
    }
   ],
   "metadata": {}
  },
  {
   "cell_type": "code",
   "execution_count": 22,
   "source": [
    "# Example of the Pearson's Correlation test\r\n",
    "from scipy.stats import pearsonr\r\n",
    "data1 = [0.873, 2.817, 0.121, -0.945, -0.055, -1.436, 0.360, -1.478, -1.637, -1.869]\r\n",
    "data2 = [0.353, 3.517, 0.125, -7.545, -0.555, -1.536, 3.350, -1.578, -3.537, -1.579]\r\n",
    "stat, p = pearsonr(data1, data2)\r\n",
    "print('stat=%.3f, p=%.3f' % (stat, p))\r\n",
    "if p > 0.05:\r\n",
    "\tprint('Probably independent')\r\n",
    "else:\r\n",
    "\tprint('Probably dependent')"
   ],
   "outputs": [
    {
     "output_type": "stream",
     "name": "stdout",
     "text": [
      "stat=0.688, p=0.028\n",
      "Probably dependent\n"
     ]
    }
   ],
   "metadata": {}
  },
  {
   "cell_type": "code",
   "execution_count": 23,
   "source": [
    "# Example of the Spearman's Rank Correlation Test\r\n",
    "from scipy.stats import spearmanr\r\n",
    "data1 = [0.873, 2.817, 0.121, -0.945, -0.055, -1.436, 0.360, -1.478, -1.637, -1.869]\r\n",
    "data2 = [0.353, 3.517, 0.125, -7.545, -0.555, -1.536, 3.350, -1.578, -3.537, -1.579]\r\n",
    "stat, p = spearmanr(data1, data2)\r\n",
    "print('stat=%.3f, p=%.3f' % (stat, p))\r\n",
    "if p > 0.05:\r\n",
    "\tprint('Probably independent')\r\n",
    "else:\r\n",
    "\tprint('Probably dependent')"
   ],
   "outputs": [
    {
     "output_type": "stream",
     "name": "stdout",
     "text": [
      "stat=0.855, p=0.002\n",
      "Probably dependent\n"
     ]
    }
   ],
   "metadata": {}
  },
  {
   "cell_type": "code",
   "execution_count": 24,
   "source": [
    "# Example of the Kendall's Rank Correlation Test\r\n",
    "from scipy.stats import kendalltau\r\n",
    "data1 = [0.873, 2.817, 0.121, -0.945, -0.055, -1.436, 0.360, -1.478, -1.637, -1.869]\r\n",
    "data2 = [0.353, 3.517, 0.125, -7.545, -0.555, -1.536, 3.350, -1.578, -3.537, -1.579]\r\n",
    "stat, p = kendalltau(data1, data2)\r\n",
    "print('stat=%.3f, p=%.3f' % (stat, p))\r\n",
    "if p > 0.05:\r\n",
    "\tprint('Probably independent')\r\n",
    "else:\r\n",
    "\tprint('Probably dependent')"
   ],
   "outputs": [
    {
     "output_type": "stream",
     "name": "stdout",
     "text": [
      "stat=0.733, p=0.002\n",
      "Probably dependent\n"
     ]
    }
   ],
   "metadata": {}
  },
  {
   "cell_type": "code",
   "execution_count": 28,
   "source": [
    "import scipy.stats as stats\r\n",
    "\r\n",
    "# create sample data according to survey\r\n",
    "data = [['18-29', 'Conservative'] for i in range(141)] + \\\r\n",
    "        [['18-29', 'Socialist'] for i in range(68)] + \\\r\n",
    "        [['18-29', 'Other'] for i in range(4)] + \\\r\n",
    "        [['30-44', 'Conservative'] for i in range(179)] + \\\r\n",
    "        [['30-44', 'Socialist'] for i in range(159)] + \\\r\n",
    "        [['30-44', 'Other'] for i in range(7)] + \\\r\n",
    "        [['45-65', 'Conservative'] for i in range(220)] + \\\r\n",
    "        [['45-65', 'Socialist'] for i in range(216)] + \\\r\n",
    "        [['45-65', 'Other'] for i in range(4)] + \\\r\n",
    "        [['65 & older', 'Conservative'] for i in range(86)] + \\\r\n",
    "        [['65 & older', 'Socialist'] for i in range(101)] + \\\r\n",
    "        [['65 & older', 'Other'] for i in range(4)]\r\n",
    "df = pd.DataFrame(data, columns = ['Age Group', 'Political Affiliation']) \r\n",
    "\r\n",
    "# create contingency table\r\n",
    "data_crosstab = pd.crosstab(df['Age Group'],\r\n",
    "                            df['Political Affiliation'],\r\n",
    "                           margins=True, margins_name=\"Total\")\r\n",
    "\r\n",
    "# significance level\r\n",
    "alpha = 0.05\r\n",
    "\r\n",
    "# Calcualtion of Chisquare test statistics\r\n",
    "chi_square = 0\r\n",
    "rows = df['Age Group'].unique()\r\n",
    "columns = df['Political Affiliation'].unique()\r\n",
    "for i in columns:\r\n",
    "    for j in rows:\r\n",
    "        O = data_crosstab[i][j]\r\n",
    "        E = data_crosstab[i]['Total'] * data_crosstab['Total'][j] / data_crosstab['Total']['Total']\r\n",
    "        chi_square += (O-E)**2/E\r\n",
    "\r\n",
    "# The p-value approach\r\n",
    "print(\"Approach 1: The p-value approach to hypothesis testing in the decision rule\")\r\n",
    "p_value = 1 - stats.norm.cdf(chi_square, (len(rows)-1)*(len(columns)-1))\r\n",
    "conclusion = \"Failed to reject the null hypothesis.\"\r\n",
    "if p_value <= alpha:\r\n",
    "    conclusion = \"Null Hypothesis is rejected.\"\r\n",
    "        \r\n",
    "print(\"chisquare-score is:\", chi_square, \" and p value is:\", p_value)\r\n",
    "print(conclusion)\r\n",
    "    \r\n",
    "# The critical value approach\r\n",
    "print(\"\\n--------------------------------------------------------------------------------------\")\r\n",
    "print(\"Approach 2: The critical value approach to hypothesis testing in the decision rule\")\r\n",
    "critical_value = stats.chi2.ppf(1-alpha, (len(rows)-1)*(len(columns)-1))\r\n",
    "conclusion = \"Failed to reject the null hypothesis.\"\r\n",
    "if chi_square > critical_value:\r\n",
    "    conclusion = \"Null Hypothesis is rejected.\"\r\n",
    "        \r\n",
    "print(\"chisquare-score is:\", chi_square, \" and p value is:\", critical_value)\r\n",
    "print(conclusion)"
   ],
   "outputs": [
    {
     "output_type": "stream",
     "name": "stdout",
     "text": [
      "Approach 1: The p-value approach to hypothesis testing in the decision rule\n",
      "chisquare-score is: 24.367421717305202  and p value is: 0.0\n",
      "Null Hypothesis is rejected.\n",
      "\n",
      "--------------------------------------------------------------------------------------\n",
      "Approach 2: The critical value approach to hypothesis testing in the decision rule\n",
      "chisquare-score is: 24.367421717305202  and p value is: 12.591587243743977\n",
      "Null Hypothesis is rejected.\n"
     ]
    }
   ],
   "metadata": {}
  },
  {
   "cell_type": "code",
   "execution_count": 33,
   "source": [
    "# Example of the Augmented Dickey-Fuller unit root test\r\n",
    "from statsmodels.tsa.stattools import adfuller\r\n",
    "data = [0, 1, 2, 3, 4, 5, 6, 7, 8, 9]\r\n",
    "stat, p, lags, obs, crit, t = adfuller(data)\r\n",
    "print('stat=%.3f, p=%.3f' % (stat, p))\r\n",
    "if p > 0.05:\r\n",
    "\tprint('Probably not Stationary')\r\n",
    "else:\r\n",
    "\tprint('Probably Stationary')"
   ],
   "outputs": [
    {
     "output_type": "stream",
     "name": "stdout",
     "text": [
      "stat=0.517, p=0.985\n",
      "Probably not Stationary\n"
     ]
    }
   ],
   "metadata": {}
  },
  {
   "cell_type": "code",
   "execution_count": 34,
   "source": [
    "# Example of the Kwiatkowski-Phillips-Schmidt-Shin test\r\n",
    "from statsmodels.tsa.stattools import kpss\r\n",
    "data = [0, 1, 2, 3, 4, 5, 6, 7, 8, 9]\r\n",
    "stat, p, lags, crit = kpss(data)\r\n",
    "print('stat=%.3f, p=%.3f' % (stat, p))\r\n",
    "if p > 0.05:\r\n",
    "\tprint('Probably not Stationary')\r\n",
    "else:\r\n",
    "\tprint('Probably Stationary')"
   ],
   "outputs": [
    {
     "output_type": "stream",
     "name": "stdout",
     "text": [
      "stat=0.410, p=0.073\n",
      "Probably not Stationary\n"
     ]
    },
    {
     "output_type": "stream",
     "name": "stderr",
     "text": [
      "C:\\Users\\56945\\AppData\\Local\\Programs\\Python\\Python39\\lib\\site-packages\\statsmodels\\tsa\\stattools.py:1875: FutureWarning: The behavior of using nlags=None will change in release 0.13.Currently nlags=None is the same as nlags=\"legacy\", and so a sample-size lag length is used. After the next release, the default will change to be the same as nlags=\"auto\" which uses an automatic lag length selection method. To silence this warning, either use \"auto\" or \"legacy\"\n",
      "  warnings.warn(msg, FutureWarning)\n"
     ]
    }
   ],
   "metadata": {}
  },
  {
   "cell_type": "code",
   "execution_count": null,
   "source": [],
   "outputs": [],
   "metadata": {}
  },
  {
   "cell_type": "code",
   "execution_count": null,
   "source": [],
   "outputs": [],
   "metadata": {}
  },
  {
   "cell_type": "code",
   "execution_count": null,
   "source": [],
   "outputs": [],
   "metadata": {}
  }
 ],
 "metadata": {
  "orig_nbformat": 4,
  "language_info": {
   "name": "python",
   "version": "3.9.6",
   "mimetype": "text/x-python",
   "codemirror_mode": {
    "name": "ipython",
    "version": 3
   },
   "pygments_lexer": "ipython3",
   "nbconvert_exporter": "python",
   "file_extension": ".py"
  },
  "kernelspec": {
   "name": "python3",
   "display_name": "Python 3.9.6 64-bit"
  },
  "interpreter": {
   "hash": "eb10dc7af34d8b2d8e4e13c255a62d72cda2839118676834d127e6a78e1763b3"
  }
 },
 "nbformat": 4,
 "nbformat_minor": 2
}