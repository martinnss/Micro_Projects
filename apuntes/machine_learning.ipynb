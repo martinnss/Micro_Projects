{
 "cells": [
  {
   "cell_type": "code",
   "execution_count": 6,
   "source": [
    "\r\n",
    "# importing necessary libraries\r\n",
    "from sklearn import datasets\r\n",
    "from sklearn.metrics import confusion_matrix, classification_report\r\n",
    "from sklearn.model_selection import train_test_split\r\n",
    "\r\n",
    "# loading the iris dataset\r\n",
    "iris = datasets.load_iris()\r\n",
    " \r\n",
    "# X -> features, y -> label\r\n",
    "X = iris.data\r\n",
    "y = iris.target\r\n",
    " \r\n",
    "# dividing X, y into train and test data\r\n",
    "X_train, X_test, y_train, y_test = train_test_split(X, y, random_state = 0)\r\n",
    " \r\n",
    "# training a DescisionTreeClassifier\r\n",
    "from sklearn.tree import DecisionTreeClassifier\r\n",
    "dtree_model = DecisionTreeClassifier(max_depth = 2).fit(X_train, y_train)\r\n",
    "dtree_predictions = dtree_model.predict(X_test)\r\n",
    " \r\n",
    "print(classification_report(y_test,dtree_predictions))"
   ],
   "outputs": [
    {
     "output_type": "stream",
     "name": "stdout",
     "text": [
      "              precision    recall  f1-score   support\n",
      "\n",
      "           0       1.00      1.00      1.00        13\n",
      "           1       0.83      0.94      0.88        16\n",
      "           2       0.86      0.67      0.75         9\n",
      "\n",
      "    accuracy                           0.89        38\n",
      "   macro avg       0.90      0.87      0.88        38\n",
      "weighted avg       0.90      0.89      0.89        38\n",
      "\n"
     ]
    }
   ],
   "metadata": {}
  }
 ],
 "metadata": {
  "orig_nbformat": 4,
  "language_info": {
   "name": "python",
   "version": "3.9.6",
   "mimetype": "text/x-python",
   "codemirror_mode": {
    "name": "ipython",
    "version": 3
   },
   "pygments_lexer": "ipython3",
   "nbconvert_exporter": "python",
   "file_extension": ".py"
  },
  "kernelspec": {
   "name": "python3",
   "display_name": "Python 3.9.6 64-bit"
  },
  "interpreter": {
   "hash": "eb10dc7af34d8b2d8e4e13c255a62d72cda2839118676834d127e6a78e1763b3"
  }
 },
 "nbformat": 4,
 "nbformat_minor": 2
}