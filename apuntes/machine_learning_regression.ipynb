{
 "cells": [
  {
   "cell_type": "code",
   "execution_count": 1,
   "source": [
    "# example of increase in mean squared error\r\n",
    "from matplotlib import pyplot\r\n",
    "from sklearn.metrics import mean_squared_error\r\n",
    "# real value\r\n",
    "expected = [1.0, 1.0, 1.0, 1.0, 1.0, 1.0, 1.0, 1.0, 1.0, 1.0, 1.0]\r\n",
    "# predicted value\r\n",
    "predicted = [1.0, 0.9, 0.8, 0.7, 0.6, 0.5, 0.4, 0.3, 0.2, 0.1, 0.0]\r\n",
    "# calculate errors\r\n",
    "errors = list()\r\n",
    "for i in range(len(expected)):\r\n",
    "\t# calculate error\r\n",
    "\terr = (expected[i] - predicted[i])**2\r\n",
    "\t# store error\r\n",
    "\terrors.append(err)\r\n",
    "\t# report error\r\n",
    "\tprint('>%.1f, %.1f = %.3f' % (expected[i], predicted[i], err))\r\n",
    "# plot errors\r\n",
    "pyplot.plot(errors)\r\n",
    "pyplot.xticks(ticks=[i for i in range(len(errors))], labels=predicted)\r\n",
    "pyplot.xlabel('Predicted Value')\r\n",
    "pyplot.ylabel('Mean Squared Error')\r\n",
    "pyplot.show()"
   ],
   "outputs": [
    {
     "output_type": "stream",
     "name": "stdout",
     "text": [
      ">1.0, 1.0 = 0.000\n",
      ">1.0, 0.9 = 0.010\n",
      ">1.0, 0.8 = 0.040\n",
      ">1.0, 0.7 = 0.090\n",
      ">1.0, 0.6 = 0.160\n",
      ">1.0, 0.5 = 0.250\n",
      ">1.0, 0.4 = 0.360\n",
      ">1.0, 0.3 = 0.490\n",
      ">1.0, 0.2 = 0.640\n",
      ">1.0, 0.1 = 0.810\n",
      ">1.0, 0.0 = 1.000\n"
     ]
    },
    {
     "output_type": "display_data",
     "data": {
      "image/png": "[encoded data removed]",
      "text/plain": [
       "<Figure size 432x288 with 1 Axes>"
      ]
     },
     "metadata": {
      "needs_background": "light"
     }
    }
   ],
   "metadata": {}
  },
  {
   "cell_type": "code",
   "execution_count": 5,
   "source": [
    "import numpy as np\r\n",
    "from sklearn.linear_model import LinearRegression\r\n",
    "from sklearn.datasets import load_boston\r\n",
    "boston_dataset = load_boston()\r\n",
    "\r\n",
    "print(boston_dataset.keys())"
   ],
   "outputs": [
    {
     "output_type": "stream",
     "name": "stdout",
     "text": [
      "dict_keys(['data', 'target', 'feature_names', 'DESCR', 'filename'])\n"
     ]
    }
   ],
   "metadata": {}
  },
  {
   "cell_type": "code",
   "execution_count": null,
   "source": [],
   "outputs": [],
   "metadata": {}
  }
 ],
 "metadata": {
  "orig_nbformat": 4,
  "language_info": {
   "name": "python",
   "version": "3.9.6",
   "mimetype": "text/x-python",
   "codemirror_mode": {
    "name": "ipython",
    "version": 3
   },
   "pygments_lexer": "ipython3",
   "nbconvert_exporter": "python",
   "file_extension": ".py"
  },
  "kernelspec": {
   "name": "python3",
   "display_name": "Python 3.9.6 64-bit"
  },
  "interpreter": {
   "hash": "eb10dc7af34d8b2d8e4e13c255a62d72cda2839118676834d127e6a78e1763b3"
  }
 },
 "nbformat": 4,
 "nbformat_minor": 2
}