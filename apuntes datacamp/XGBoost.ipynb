{
 "cells": [
  {
   "cell_type": "markdown",
   "source": [
    "# XGBOOST\r\n",
    "\r\n",
    "* XGBoost metrics and crossvalidation\r\n",
    "* XGBoost regressor\r\n",
    "    * Linear base learner\r\n",
    "    * Decision trees as base learner\r\n",
    "    * Regularizations\r\n",
    "* Hyperparameter tunning\r\n",
    "    * GridSearch and RandomizedSearch\r\n",
    "* Project\r\n",
    "    * XGBoost in pipelines"
   ],
   "metadata": {}
  },
  {
   "cell_type": "markdown",
   "source": [
    "## XGBoost uses decision trees to perform the predictions"
   ],
   "metadata": {}
  },
  {
   "cell_type": "code",
   "execution_count": 37,
   "source": [
    "# Import the necessary modules\r\n",
    "from sklearn.model_selection import train_test_split\r\n",
    "from sklearn.tree import DecisionTreeClassifier \r\n",
    "from sklearn.datasets import load_breast_cancer\r\n",
    "data = load_breast_cancer()\r\n",
    "X,y=data.data, data.target\r\n",
    "import numpy as np\r\n",
    "\r\n",
    "# Create the training and test sets\r\n",
    "X_train, X_test, y_train, y_test = train_test_split(X,y, test_size=0.2, random_state=123)\r\n",
    "\r\n",
    "# Instantiate the classifier: dt_clf_4\r\n",
    "dt_clf_4 = DecisionTreeClassifier(max_depth=4)\r\n",
    "                     #max_depth:pecifies the maximum number of successive split points you can have before reaching a leaf node\r\n",
    "\r\n",
    "# Fit the classifier to the training set\r\n",
    "dt_clf_4.fit(X_train,y_train)\r\n",
    "\r\n",
    "# Predict the labels of the test set: y_pred_4\r\n",
    "y_pred_4 = dt_clf_4.predict(X_test)\r\n",
    "\r\n",
    "# Compute the accuracy of the predictions: accuracy\r\n",
    "accuracy = float(np.sum(y_pred_4==y_test))/y_test.shape[0]\r\n",
    "print(\"accuracy:\", accuracy)"
   ],
   "outputs": [
    {
     "output_type": "stream",
     "name": "stdout",
     "text": [
      "accuracy: 0.9649122807017544\n"
     ]
    }
   ],
   "metadata": {}
  },
  {
   "cell_type": "markdown",
   "source": [
    "## Using XGBoost and Cross validation with errror metric"
   ],
   "metadata": {}
  },
  {
   "cell_type": "code",
   "execution_count": 38,
   "source": [
    "import xgboost as xgb\r\n",
    "\r\n",
    "# Create the DMatrix from X and y: churn_dmatrix\r\n",
    "churn_dmatrix = xgb.DMatrix(data=X, label=y)\r\n",
    "\r\n",
    "# Create the parameter dictionary: params\r\n",
    "params = {\"objective\":\"binary:logistic\", \"max_depth\":3}\r\n",
    "\r\n",
    "# Perform cross-validation: cv_results\r\n",
    "cv_results = xgb.cv(dtrain=churn_dmatrix, params=params, \r\n",
    "                  nfold=100, num_boost_round=100, \r\n",
    "                  metrics=\"error\", as_pandas=True, seed=123)\r\n",
    "\r\n",
    "# Print cv_results\r\n",
    "print(cv_results)\r\n",
    "\r\n",
    "# Print the accuracy\r\n",
    "print(((1-cv_results[\"test-error-mean\"]).iloc[-1]))"
   ],
   "outputs": [
    {
     "output_type": "stream",
     "name": "stdout",
     "text": [
      "    train-error-mean  train-error-std  test-error-mean  test-error-std\n",
      "0           0.026167         0.003495         0.093333        0.123288\n",
      "1           0.017255         0.003301         0.064667        0.097162\n",
      "2           0.015675         0.001979         0.062667        0.096411\n",
      "3           0.012923         0.002258         0.056333        0.092219\n",
      "4           0.011450         0.002089         0.052333        0.087083\n",
      "..               ...              ...              ...             ...\n",
      "95          0.000000         0.000000         0.029333        0.073224\n",
      "96          0.000000         0.000000         0.029333        0.073224\n",
      "97          0.000000         0.000000         0.029333        0.073224\n",
      "98          0.000000         0.000000         0.029333        0.073224\n",
      "99          0.000000         0.000000         0.029333        0.073224\n",
      "\n",
      "[100 rows x 4 columns]\n",
      "0.97066664\n"
     ]
    }
   ],
   "metadata": {}
  },
  {
   "cell_type": "code",
   "execution_count": 39,
   "source": [
    "# Perform cross_validation: cv_results\r\n",
    "cv_results = xgb.cv(dtrain=churn_dmatrix, params=params, \r\n",
    "                  nfold=100, num_boost_round=100, \r\n",
    "                  metrics=\"auc\", as_pandas=True, seed=123)\r\n",
    "\r\n",
    "# Print cv_results\r\n",
    "print(cv_results)\r\n",
    "\r\n",
    "# Print the AUC\r\n",
    "print((cv_results[\"test-auc-mean\"]).iloc[-1])\r\n",
    "\r\n",
    "\r\n",
    "\r\n",
    "\r\n",
    "#hay un error con la metrica AUC"
   ],
   "outputs": [
    {
     "output_type": "stream",
     "name": "stdout",
     "text": [
      "[18:41:05] WARNING: C:/Users/Administrator/workspace/xgboost-win64_release_1.4.0/src/metric/auc.cc:307: Dataset contains only positive or negative samples.\n",
      "[18:41:05] WARNING: C:/Users/Administrator/workspace/xgboost-win64_release_1.4.0/src/metric/auc.cc:307: Dataset contains only positive or negative samples.\n",
      "[18:41:05] WARNING: C:/Users/Administrator/workspace/xgboost-win64_release_1.4.0/src/metric/auc.cc:307: Dataset contains only positive or negative samples.\n",
      "[18:41:05] WARNING: C:/Users/Administrator/workspace/xgboost-win64_release_1.4.0/src/metric/auc.cc:307: Dataset contains only positive or negative samples.\n",
      "[18:41:05] WARNING: C:/Users/Administrator/workspace/xgboost-win64_release_1.4.0/src/metric/auc.cc:307: Dataset contains only positive or negative samples.\n",
      "[18:41:05] WARNING: C:/Users/Administrator/workspace/xgboost-win64_release_1.4.0/src/metric/auc.cc:307: Dataset contains only positive or negative samples.\n",
      "[18:41:05] WARNING: C:/Users/Administrator/workspace/xgboost-win64_release_1.4.0/src/metric/auc.cc:307: Dataset contains only positive or negative samples.\n",
      "[18:41:05] WARNING: C:/Users/Administrator/workspace/xgboost-win64_release_1.4.0/src/metric/auc.cc:307: Dataset contains only positive or negative samples.\n",
      "[18:41:05] WARNING: C:/Users/Administrator/workspace/xgboost-win64_release_1.4.0/src/metric/auc.cc:307: Dataset contains only positive or negative samples.\n",
      "[18:41:05] WARNING: C:/Users/Administrator/workspace/xgboost-win64_release_1.4.0/src/metric/auc.cc:307: Dataset contains only positive or negative samples.\n",
      "[18:41:05] WARNING: C:/Users/Administrator/workspace/xgboost-win64_release_1.4.0/src/metric/auc.cc:307: Dataset contains only positive or negative samples.\n",
      "[18:41:05] WARNING: C:/Users/Administrator/workspace/xgboost-win64_release_1.4.0/src/metric/auc.cc:307: Dataset contains only positive or negative samples.\n",
      "[18:41:05] WARNING: C:/Users/Administrator/workspace/xgboost-win64_release_1.4.0/src/metric/auc.cc:307: Dataset contains only positive or negative samples.\n",
      "[18:41:05] WARNING: C:/Users/Administrator/workspace/xgboost-win64_release_1.4.0/src/metric/auc.cc:307: Dataset contains only positive or negative samples.\n",
      "[18:41:05] WARNING: C:/Users/Administrator/workspace/xgboost-win64_release_1.4.0/src/metric/auc.cc:307: Dataset contains only positive or negative samples.\n",
      "[18:41:05] WARNING: C:/Users/Administrator/workspace/xgboost-win64_release_1.4.0/src/metric/auc.cc:307: Dataset contains only positive or negative samples.\n",
      "[18:41:05] WARNING: C:/Users/Administrator/workspace/xgboost-win64_release_1.4.0/src/metric/auc.cc:307: Dataset contains only positive or negative samples.\n",
      "[18:41:05] WARNING: C:/Users/Administrator/workspace/xgboost-win64_release_1.4.0/src/metric/auc.cc:307: Dataset contains only positive or negative samples.\n",
      "[18:41:05] WARNING: C:/Users/Administrator/workspace/xgboost-win64_release_1.4.0/src/metric/auc.cc:307: Dataset contains only positive or negative samples.\n",
      "[18:41:05] WARNING: C:/Users/Administrator/workspace/xgboost-win64_release_1.4.0/src/metric/auc.cc:307: Dataset contains only positive or negative samples.\n",
      "[18:41:05] WARNING: C:/Users/Administrator/workspace/xgboost-win64_release_1.4.0/src/metric/auc.cc:307: Dataset contains only positive or negative samples.\n",
      "[18:41:05] WARNING: C:/Users/Administrator/workspace/xgboost-win64_release_1.4.0/src/metric/auc.cc:307: Dataset contains only positive or negative samples.\n",
      "[18:41:05] WARNING: C:/Users/Administrator/workspace/xgboost-win64_release_1.4.0/src/metric/auc.cc:307: Dataset contains only positive or negative samples.\n",
      "[18:41:05] WARNING: C:/Users/Administrator/workspace/xgboost-win64_release_1.4.0/src/metric/auc.cc:307: Dataset contains only positive or negative samples.\n",
      "[18:41:05] WARNING: C:/Users/Administrator/workspace/xgboost-win64_release_1.4.0/src/metric/auc.cc:307: Dataset contains only positive or negative samples.\n",
      "[18:41:05] WARNING: C:/Users/Administrator/workspace/xgboost-win64_release_1.4.0/src/metric/auc.cc:307: Dataset contains only positive or negative samples.\n",
      "[18:41:05] WARNING: C:/Users/Administrator/workspace/xgboost-win64_release_1.4.0/src/metric/auc.cc:307: Dataset contains only positive or negative samples.\n",
      "[18:41:05] WARNING: C:/Users/Administrator/workspace/xgboost-win64_release_1.4.0/src/metric/auc.cc:307: Dataset contains only positive or negative samples.\n",
      "[18:41:05] WARNING: C:/Users/Administrator/workspace/xgboost-win64_release_1.4.0/src/metric/auc.cc:307: Dataset contains only positive or negative samples.\n",
      "[18:41:05] WARNING: C:/Users/Administrator/workspace/xgboost-win64_release_1.4.0/src/metric/auc.cc:307: Dataset contains only positive or negative samples.\n",
      "[18:41:05] WARNING: C:/Users/Administrator/workspace/xgboost-win64_release_1.4.0/src/metric/auc.cc:307: Dataset contains only positive or negative samples.\n",
      "[18:41:05] WARNING: C:/Users/Administrator/workspace/xgboost-win64_release_1.4.0/src/metric/auc.cc:307: Dataset contains only positive or negative samples.\n",
      "[18:41:05] WARNING: C:/Users/Administrator/workspace/xgboost-win64_release_1.4.0/src/metric/auc.cc:307: Dataset contains only positive or negative samples.\n",
      "[18:41:05] WARNING: C:/Users/Administrator/workspace/xgboost-win64_release_1.4.0/src/metric/auc.cc:307: Dataset contains only positive or negative samples.\n",
      "[18:41:05] WARNING: C:/Users/Administrator/workspace/xgboost-win64_release_1.4.0/src/metric/auc.cc:307: Dataset contains only positive or negative samples.\n",
      "[18:41:05] WARNING: C:/Users/Administrator/workspace/xgboost-win64_release_1.4.0/src/metric/auc.cc:307: Dataset contains only positive or negative samples.\n",
      "[18:41:05] WARNING: C:/Users/Administrator/workspace/xgboost-win64_release_1.4.0/src/metric/auc.cc:307: Dataset contains only positive or negative samples.\n",
      "[18:41:05] WARNING: C:/Users/Administrator/workspace/xgboost-win64_release_1.4.0/src/metric/auc.cc:307: Dataset contains only positive or negative samples.\n",
      "[18:41:05] WARNING: C:/Users/Administrator/workspace/xgboost-win64_release_1.4.0/src/metric/auc.cc:307: Dataset contains only positive or negative samples.\n",
      "[18:41:05] WARNING: C:/Users/Administrator/workspace/xgboost-win64_release_1.4.0/src/metric/auc.cc:307: Dataset contains only positive or negative samples.\n",
      "[18:41:05] WARNING: C:/Users/Administrator/workspace/xgboost-win64_release_1.4.0/src/metric/auc.cc:307: Dataset contains only positive or negative samples.\n",
      "[18:41:05] WARNING: C:/Users/Administrator/workspace/xgboost-win64_release_1.4.0/src/metric/auc.cc:307: Dataset contains only positive or negative samples.\n",
      "[18:41:05] WARNING: C:/Users/Administrator/workspace/xgboost-win64_release_1.4.0/src/metric/auc.cc:307: Dataset contains only positive or negative samples.\n",
      "[18:41:05] WARNING: C:/Users/Administrator/workspace/xgboost-win64_release_1.4.0/src/metric/auc.cc:307: Dataset contains only positive or negative samples.\n",
      "[18:41:06] WARNING: C:/Users/Administrator/workspace/xgboost-win64_release_1.4.0/src/metric/auc.cc:307: Dataset contains only positive or negative samples.\n",
      "[18:41:06] WARNING: C:/Users/Administrator/workspace/xgboost-win64_release_1.4.0/src/metric/auc.cc:307: Dataset contains only positive or negative samples.\n",
      "[18:41:06] WARNING: C:/Users/Administrator/workspace/xgboost-win64_release_1.4.0/src/metric/auc.cc:307: Dataset contains only positive or negative samples.\n",
      "[18:41:06] WARNING: C:/Users/Administrator/workspace/xgboost-win64_release_1.4.0/src/metric/auc.cc:307: Dataset contains only positive or negative samples.\n",
      "[18:41:06] WARNING: C:/Users/Administrator/workspace/xgboost-win64_release_1.4.0/src/metric/auc.cc:307: Dataset contains only positive or negative samples.\n",
      "[18:41:06] WARNING: C:/Users/Administrator/workspace/xgboost-win64_release_1.4.0/src/metric/auc.cc:307: Dataset contains only positive or negative samples.\n",
      "[18:41:06] WARNING: C:/Users/Administrator/workspace/xgboost-win64_release_1.4.0/src/metric/auc.cc:307: Dataset contains only positive or negative samples.\n",
      "[18:41:06] WARNING: C:/Users/Administrator/workspace/xgboost-win64_release_1.4.0/src/metric/auc.cc:307: Dataset contains only positive or negative samples.\n",
      "[18:41:06] WARNING: C:/Users/Administrator/workspace/xgboost-win64_release_1.4.0/src/metric/auc.cc:307: Dataset contains only positive or negative samples.\n",
      "[18:41:06] WARNING: C:/Users/Administrator/workspace/xgboost-win64_release_1.4.0/src/metric/auc.cc:307: Dataset contains only positive or negative samples.\n",
      "[18:41:06] WARNING: C:/Users/Administrator/workspace/xgboost-win64_release_1.4.0/src/metric/auc.cc:307: Dataset contains only positive or negative samples.\n",
      "[18:41:06] WARNING: C:/Users/Administrator/workspace/xgboost-win64_release_1.4.0/src/metric/auc.cc:307: Dataset contains only positive or negative samples.\n",
      "[18:41:06] WARNING: C:/Users/Administrator/workspace/xgboost-win64_release_1.4.0/src/metric/auc.cc:307: Dataset contains only positive or negative samples.\n",
      "[18:41:06] WARNING: C:/Users/Administrator/workspace/xgboost-win64_release_1.4.0/src/metric/auc.cc:307: Dataset contains only positive or negative samples.\n",
      "[18:41:06] WARNING: C:/Users/Administrator/workspace/xgboost-win64_release_1.4.0/src/metric/auc.cc:307: Dataset contains only positive or negative samples.\n",
      "[18:41:06] WARNING: C:/Users/Administrator/workspace/xgboost-win64_release_1.4.0/src/metric/auc.cc:307: Dataset contains only positive or negative samples.\n",
      "[18:41:06] WARNING: C:/Users/Administrator/workspace/xgboost-win64_release_1.4.0/src/metric/auc.cc:307: Dataset contains only positive or negative samples.\n",
      "[18:41:06] WARNING: C:/Users/Administrator/workspace/xgboost-win64_release_1.4.0/src/metric/auc.cc:307: Dataset contains only positive or negative samples.\n",
      "[18:41:06] WARNING: C:/Users/Administrator/workspace/xgboost-win64_release_1.4.0/src/metric/auc.cc:307: Dataset contains only positive or negative samples.\n",
      "[18:41:06] WARNING: C:/Users/Administrator/workspace/xgboost-win64_release_1.4.0/src/metric/auc.cc:307: Dataset contains only positive or negative samples.\n",
      "[18:41:06] WARNING: C:/Users/Administrator/workspace/xgboost-win64_release_1.4.0/src/metric/auc.cc:307: Dataset contains only positive or negative samples.\n",
      "[18:41:06] WARNING: C:/Users/Administrator/workspace/xgboost-win64_release_1.4.0/src/metric/auc.cc:307: Dataset contains only positive or negative samples.\n",
      "[18:41:06] WARNING: C:/Users/Administrator/workspace/xgboost-win64_release_1.4.0/src/metric/auc.cc:307: Dataset contains only positive or negative samples.\n",
      "[18:41:06] WARNING: C:/Users/Administrator/workspace/xgboost-win64_release_1.4.0/src/metric/auc.cc:307: Dataset contains only positive or negative samples.\n",
      "[18:41:06] WARNING: C:/Users/Administrator/workspace/xgboost-win64_release_1.4.0/src/metric/auc.cc:307: Dataset contains only positive or negative samples.\n",
      "[18:41:06] WARNING: C:/Users/Administrator/workspace/xgboost-win64_release_1.4.0/src/metric/auc.cc:307: Dataset contains only positive or negative samples.\n",
      "[18:41:06] WARNING: C:/Users/Administrator/workspace/xgboost-win64_release_1.4.0/src/metric/auc.cc:307: Dataset contains only positive or negative samples.\n",
      "[18:41:06] WARNING: C:/Users/Administrator/workspace/xgboost-win64_release_1.4.0/src/metric/auc.cc:307: Dataset contains only positive or negative samples.\n",
      "[18:41:06] WARNING: C:/Users/Administrator/workspace/xgboost-win64_release_1.4.0/src/metric/auc.cc:307: Dataset contains only positive or negative samples.\n",
      "[18:41:06] WARNING: C:/Users/Administrator/workspace/xgboost-win64_release_1.4.0/src/metric/auc.cc:307: Dataset contains only positive or negative samples.\n",
      "[18:41:06] WARNING: C:/Users/Administrator/workspace/xgboost-win64_release_1.4.0/src/metric/auc.cc:307: Dataset contains only positive or negative samples.\n",
      "[18:41:06] WARNING: C:/Users/Administrator/workspace/xgboost-win64_release_1.4.0/src/metric/auc.cc:307: Dataset contains only positive or negative samples.\n",
      "[18:41:06] WARNING: C:/Users/Administrator/workspace/xgboost-win64_release_1.4.0/src/metric/auc.cc:307: Dataset contains only positive or negative samples.\n",
      "[18:41:06] WARNING: C:/Users/Administrator/workspace/xgboost-win64_release_1.4.0/src/metric/auc.cc:307: Dataset contains only positive or negative samples.\n",
      "[18:41:06] WARNING: C:/Users/Administrator/workspace/xgboost-win64_release_1.4.0/src/metric/auc.cc:307: Dataset contains only positive or negative samples.\n",
      "[18:41:06] WARNING: C:/Users/Administrator/workspace/xgboost-win64_release_1.4.0/src/metric/auc.cc:307: Dataset contains only positive or negative samples.\n",
      "[18:41:06] WARNING: C:/Users/Administrator/workspace/xgboost-win64_release_1.4.0/src/metric/auc.cc:307: Dataset contains only positive or negative samples.\n",
      "[18:41:06] WARNING: C:/Users/Administrator/workspace/xgboost-win64_release_1.4.0/src/metric/auc.cc:307: Dataset contains only positive or negative samples.\n",
      "[18:41:06] WARNING: C:/Users/Administrator/workspace/xgboost-win64_release_1.4.0/src/metric/auc.cc:307: Dataset contains only positive or negative samples.\n",
      "[18:41:06] WARNING: C:/Users/Administrator/workspace/xgboost-win64_release_1.4.0/src/metric/auc.cc:307: Dataset contains only positive or negative samples.\n",
      "[18:41:06] WARNING: C:/Users/Administrator/workspace/xgboost-win64_release_1.4.0/src/metric/auc.cc:307: Dataset contains only positive or negative samples.\n",
      "[18:41:06] WARNING: C:/Users/Administrator/workspace/xgboost-win64_release_1.4.0/src/metric/auc.cc:307: Dataset contains only positive or negative samples.\n",
      "[18:41:06] WARNING: C:/Users/Administrator/workspace/xgboost-win64_release_1.4.0/src/metric/auc.cc:307: Dataset contains only positive or negative samples.\n",
      "[18:41:06] WARNING: C:/Users/Administrator/workspace/xgboost-win64_release_1.4.0/src/metric/auc.cc:307: Dataset contains only positive or negative samples.\n",
      "[18:41:06] WARNING: C:/Users/Administrator/workspace/xgboost-win64_release_1.4.0/src/metric/auc.cc:307: Dataset contains only positive or negative samples.\n",
      "[18:41:06] WARNING: C:/Users/Administrator/workspace/xgboost-win64_release_1.4.0/src/metric/auc.cc:307: Dataset contains only positive or negative samples.\n",
      "[18:41:06] WARNING: C:/Users/Administrator/workspace/xgboost-win64_release_1.4.0/src/metric/auc.cc:307: Dataset contains only positive or negative samples.\n",
      "[18:41:06] WARNING: C:/Users/Administrator/workspace/xgboost-win64_release_1.4.0/src/metric/auc.cc:307: Dataset contains only positive or negative samples.\n",
      "[18:41:06] WARNING: C:/Users/Administrator/workspace/xgboost-win64_release_1.4.0/src/metric/auc.cc:307: Dataset contains only positive or negative samples.\n",
      "[18:41:06] WARNING: C:/Users/Administrator/workspace/xgboost-win64_release_1.4.0/src/metric/auc.cc:307: Dataset contains only positive or negative samples.\n",
      "[18:41:06] WARNING: C:/Users/Administrator/workspace/xgboost-win64_release_1.4.0/src/metric/auc.cc:307: Dataset contains only positive or negative samples.\n",
      "[18:41:06] WARNING: C:/Users/Administrator/workspace/xgboost-win64_release_1.4.0/src/metric/auc.cc:307: Dataset contains only positive or negative samples.\n",
      "[18:41:06] WARNING: C:/Users/Administrator/workspace/xgboost-win64_release_1.4.0/src/metric/auc.cc:307: Dataset contains only positive or negative samples.\n",
      "[18:41:06] WARNING: C:/Users/Administrator/workspace/xgboost-win64_release_1.4.0/src/metric/auc.cc:307: Dataset contains only positive or negative samples.\n",
      "[18:41:06] WARNING: C:/Users/Administrator/workspace/xgboost-win64_release_1.4.0/src/metric/auc.cc:307: Dataset contains only positive or negative samples.\n",
      "[18:41:06] WARNING: C:/Users/Administrator/workspace/xgboost-win64_release_1.4.0/src/metric/auc.cc:307: Dataset contains only positive or negative samples.\n",
      "[18:41:06] WARNING: C:/Users/Administrator/workspace/xgboost-win64_release_1.4.0/src/metric/auc.cc:307: Dataset contains only positive or negative samples.\n",
      "[18:41:06] WARNING: C:/Users/Administrator/workspace/xgboost-win64_release_1.4.0/src/metric/auc.cc:307: Dataset contains only positive or negative samples.\n",
      "[18:41:07] WARNING: C:/Users/Administrator/workspace/xgboost-win64_release_1.4.0/src/metric/auc.cc:307: Dataset contains only positive or negative samples.\n",
      "[18:41:07] WARNING: C:/Users/Administrator/workspace/xgboost-win64_release_1.4.0/src/metric/auc.cc:307: Dataset contains only positive or negative samples.\n",
      "[18:41:07] WARNING: C:/Users/Administrator/workspace/xgboost-win64_release_1.4.0/src/metric/auc.cc:307: Dataset contains only positive or negative samples.\n",
      "[18:41:07] WARNING: C:/Users/Administrator/workspace/xgboost-win64_release_1.4.0/src/metric/auc.cc:307: Dataset contains only positive or negative samples.\n",
      "[18:41:07] WARNING: C:/Users/Administrator/workspace/xgboost-win64_release_1.4.0/src/metric/auc.cc:307: Dataset contains only positive or negative samples.\n",
      "[18:41:07] WARNING: C:/Users/Administrator/workspace/xgboost-win64_release_1.4.0/src/metric/auc.cc:307: Dataset contains only positive or negative samples.\n",
      "[18:41:07] WARNING: C:/Users/Administrator/workspace/xgboost-win64_release_1.4.0/src/metric/auc.cc:307: Dataset contains only positive or negative samples.\n",
      "[18:41:07] WARNING: C:/Users/Administrator/workspace/xgboost-win64_release_1.4.0/src/metric/auc.cc:307: Dataset contains only positive or negative samples.\n",
      "[18:41:07] WARNING: C:/Users/Administrator/workspace/xgboost-win64_release_1.4.0/src/metric/auc.cc:307: Dataset contains only positive or negative samples.\n",
      "[18:41:07] WARNING: C:/Users/Administrator/workspace/xgboost-win64_release_1.4.0/src/metric/auc.cc:307: Dataset contains only positive or negative samples.\n",
      "[18:41:07] WARNING: C:/Users/Administrator/workspace/xgboost-win64_release_1.4.0/src/metric/auc.cc:307: Dataset contains only positive or negative samples.\n",
      "[18:41:07] WARNING: C:/Users/Administrator/workspace/xgboost-win64_release_1.4.0/src/metric/auc.cc:307: Dataset contains only positive or negative samples.\n",
      "[18:41:07] WARNING: C:/Users/Administrator/workspace/xgboost-win64_release_1.4.0/src/metric/auc.cc:307: Dataset contains only positive or negative samples.\n",
      "[18:41:07] WARNING: C:/Users/Administrator/workspace/xgboost-win64_release_1.4.0/src/metric/auc.cc:307: Dataset contains only positive or negative samples.\n",
      "[18:41:07] WARNING: C:/Users/Administrator/workspace/xgboost-win64_release_1.4.0/src/metric/auc.cc:307: Dataset contains only positive or negative samples.\n",
      "[18:41:07] WARNING: C:/Users/Administrator/workspace/xgboost-win64_release_1.4.0/src/metric/auc.cc:307: Dataset contains only positive or negative samples.\n",
      "[18:41:07] WARNING: C:/Users/Administrator/workspace/xgboost-win64_release_1.4.0/src/metric/auc.cc:307: Dataset contains only positive or negative samples.\n",
      "[18:41:07] WARNING: C:/Users/Administrator/workspace/xgboost-win64_release_1.4.0/src/metric/auc.cc:307: Dataset contains only positive or negative samples.\n",
      "[18:41:07] WARNING: C:/Users/Administrator/workspace/xgboost-win64_release_1.4.0/src/metric/auc.cc:307: Dataset contains only positive or negative samples.\n",
      "[18:41:07] WARNING: C:/Users/Administrator/workspace/xgboost-win64_release_1.4.0/src/metric/auc.cc:307: Dataset contains only positive or negative samples.\n",
      "[18:41:07] WARNING: C:/Users/Administrator/workspace/xgboost-win64_release_1.4.0/src/metric/auc.cc:307: Dataset contains only positive or negative samples.\n",
      "[18:41:07] WARNING: C:/Users/Administrator/workspace/xgboost-win64_release_1.4.0/src/metric/auc.cc:307: Dataset contains only positive or negative samples.\n",
      "[18:41:07] WARNING: C:/Users/Administrator/workspace/xgboost-win64_release_1.4.0/src/metric/auc.cc:307: Dataset contains only positive or negative samples.\n",
      "[18:41:07] WARNING: C:/Users/Administrator/workspace/xgboost-win64_release_1.4.0/src/metric/auc.cc:307: Dataset contains only positive or negative samples.\n",
      "[18:41:07] WARNING: C:/Users/Administrator/workspace/xgboost-win64_release_1.4.0/src/metric/auc.cc:307: Dataset contains only positive or negative samples.\n",
      "[18:41:07] WARNING: C:/Users/Administrator/workspace/xgboost-win64_release_1.4.0/src/metric/auc.cc:307: Dataset contains only positive or negative samples.\n",
      "[18:41:07] WARNING: C:/Users/Administrator/workspace/xgboost-win64_release_1.4.0/src/metric/auc.cc:307: Dataset contains only positive or negative samples.\n",
      "[18:41:07] WARNING: C:/Users/Administrator/workspace/xgboost-win64_release_1.4.0/src/metric/auc.cc:307: Dataset contains only positive or negative samples.\n",
      "[18:41:07] WARNING: C:/Users/Administrator/workspace/xgboost-win64_release_1.4.0/src/metric/auc.cc:307: Dataset contains only positive or negative samples.\n",
      "[18:41:07] WARNING: C:/Users/Administrator/workspace/xgboost-win64_release_1.4.0/src/metric/auc.cc:307: Dataset contains only positive or negative samples.\n",
      "[18:41:07] WARNING: C:/Users/Administrator/workspace/xgboost-win64_release_1.4.0/src/metric/auc.cc:307: Dataset contains only positive or negative samples.\n",
      "[18:41:07] WARNING: C:/Users/Administrator/workspace/xgboost-win64_release_1.4.0/src/metric/auc.cc:307: Dataset contains only positive or negative samples.\n",
      "[18:41:07] WARNING: C:/Users/Administrator/workspace/xgboost-win64_release_1.4.0/src/metric/auc.cc:307: Dataset contains only positive or negative samples.\n",
      "[18:41:07] WARNING: C:/Users/Administrator/workspace/xgboost-win64_release_1.4.0/src/metric/auc.cc:307: Dataset contains only positive or negative samples.\n",
      "[18:41:07] WARNING: C:/Users/Administrator/workspace/xgboost-win64_release_1.4.0/src/metric/auc.cc:307: Dataset contains only positive or negative samples.\n",
      "[18:41:07] WARNING: C:/Users/Administrator/workspace/xgboost-win64_release_1.4.0/src/metric/auc.cc:307: Dataset contains only positive or negative samples.\n",
      "[18:41:07] WARNING: C:/Users/Administrator/workspace/xgboost-win64_release_1.4.0/src/metric/auc.cc:307: Dataset contains only positive or negative samples.\n",
      "[18:41:07] WARNING: C:/Users/Administrator/workspace/xgboost-win64_release_1.4.0/src/metric/auc.cc:307: Dataset contains only positive or negative samples.\n",
      "[18:41:07] WARNING: C:/Users/Administrator/workspace/xgboost-win64_release_1.4.0/src/metric/auc.cc:307: Dataset contains only positive or negative samples.\n",
      "[18:41:07] WARNING: C:/Users/Administrator/workspace/xgboost-win64_release_1.4.0/src/metric/auc.cc:307: Dataset contains only positive or negative samples.\n",
      "[18:41:07] WARNING: C:/Users/Administrator/workspace/xgboost-win64_release_1.4.0/src/metric/auc.cc:307: Dataset contains only positive or negative samples.\n",
      "[18:41:07] WARNING: C:/Users/Administrator/workspace/xgboost-win64_release_1.4.0/src/metric/auc.cc:307: Dataset contains only positive or negative samples.\n",
      "[18:41:07] WARNING: C:/Users/Administrator/workspace/xgboost-win64_release_1.4.0/src/metric/auc.cc:307: Dataset contains only positive or negative samples.\n",
      "[18:41:07] WARNING: C:/Users/Administrator/workspace/xgboost-win64_release_1.4.0/src/metric/auc.cc:307: Dataset contains only positive or negative samples.\n",
      "[18:41:07] WARNING: C:/Users/Administrator/workspace/xgboost-win64_release_1.4.0/src/metric/auc.cc:307: Dataset contains only positive or negative samples.\n",
      "[18:41:07] WARNING: C:/Users/Administrator/workspace/xgboost-win64_release_1.4.0/src/metric/auc.cc:307: Dataset contains only positive or negative samples.\n",
      "[18:41:07] WARNING: C:/Users/Administrator/workspace/xgboost-win64_release_1.4.0/src/metric/auc.cc:307: Dataset contains only positive or negative samples.\n",
      "[18:41:07] WARNING: C:/Users/Administrator/workspace/xgboost-win64_release_1.4.0/src/metric/auc.cc:307: Dataset contains only positive or negative samples.\n",
      "[18:41:07] WARNING: C:/Users/Administrator/workspace/xgboost-win64_release_1.4.0/src/metric/auc.cc:307: Dataset contains only positive or negative samples.\n",
      "[18:41:07] WARNING: C:/Users/Administrator/workspace/xgboost-win64_release_1.4.0/src/metric/auc.cc:307: Dataset contains only positive or negative samples.\n",
      "[18:41:07] WARNING: C:/Users/Administrator/workspace/xgboost-win64_release_1.4.0/src/metric/auc.cc:307: Dataset contains only positive or negative samples.\n",
      "[18:41:07] WARNING: C:/Users/Administrator/workspace/xgboost-win64_release_1.4.0/src/metric/auc.cc:307: Dataset contains only positive or negative samples.\n",
      "[18:41:07] WARNING: C:/Users/Administrator/workspace/xgboost-win64_release_1.4.0/src/metric/auc.cc:307: Dataset contains only positive or negative samples.\n",
      "[18:41:07] WARNING: C:/Users/Administrator/workspace/xgboost-win64_release_1.4.0/src/metric/auc.cc:307: Dataset contains only positive or negative samples.\n",
      "[18:41:07] WARNING: C:/Users/Administrator/workspace/xgboost-win64_release_1.4.0/src/metric/auc.cc:307: Dataset contains only positive or negative samples.\n",
      "[18:41:07] WARNING: C:/Users/Administrator/workspace/xgboost-win64_release_1.4.0/src/metric/auc.cc:307: Dataset contains only positive or negative samples.\n",
      "[18:41:07] WARNING: C:/Users/Administrator/workspace/xgboost-win64_release_1.4.0/src/metric/auc.cc:307: Dataset contains only positive or negative samples.\n",
      "[18:41:07] WARNING: C:/Users/Administrator/workspace/xgboost-win64_release_1.4.0/src/metric/auc.cc:307: Dataset contains only positive or negative samples.\n",
      "[18:41:07] WARNING: C:/Users/Administrator/workspace/xgboost-win64_release_1.4.0/src/metric/auc.cc:307: Dataset contains only positive or negative samples.\n",
      "[18:41:07] WARNING: C:/Users/Administrator/workspace/xgboost-win64_release_1.4.0/src/metric/auc.cc:307: Dataset contains only positive or negative samples.\n",
      "[18:41:07] WARNING: C:/Users/Administrator/workspace/xgboost-win64_release_1.4.0/src/metric/auc.cc:307: Dataset contains only positive or negative samples.\n",
      "[18:41:07] WARNING: C:/Users/Administrator/workspace/xgboost-win64_release_1.4.0/src/metric/auc.cc:307: Dataset contains only positive or negative samples.\n",
      "[18:41:07] WARNING: C:/Users/Administrator/workspace/xgboost-win64_release_1.4.0/src/metric/auc.cc:307: Dataset contains only positive or negative samples.\n",
      "[18:41:07] WARNING: C:/Users/Administrator/workspace/xgboost-win64_release_1.4.0/src/metric/auc.cc:307: Dataset contains only positive or negative samples.\n",
      "[18:41:07] WARNING: C:/Users/Administrator/workspace/xgboost-win64_release_1.4.0/src/metric/auc.cc:307: Dataset contains only positive or negative samples.\n",
      "[18:41:07] WARNING: C:/Users/Administrator/workspace/xgboost-win64_release_1.4.0/src/metric/auc.cc:307: Dataset contains only positive or negative samples.\n",
      "[18:41:07] WARNING: C:/Users/Administrator/workspace/xgboost-win64_release_1.4.0/src/metric/auc.cc:307: Dataset contains only positive or negative samples.\n",
      "[18:41:07] WARNING: C:/Users/Administrator/workspace/xgboost-win64_release_1.4.0/src/metric/auc.cc:307: Dataset contains only positive or negative samples.\n",
      "[18:41:07] WARNING: C:/Users/Administrator/workspace/xgboost-win64_release_1.4.0/src/metric/auc.cc:307: Dataset contains only positive or negative samples.\n",
      "[18:41:07] WARNING: C:/Users/Administrator/workspace/xgboost-win64_release_1.4.0/src/metric/auc.cc:307: Dataset contains only positive or negative samples.\n",
      "[18:41:07] WARNING: C:/Users/Administrator/workspace/xgboost-win64_release_1.4.0/src/metric/auc.cc:307: Dataset contains only positive or negative samples.\n",
      "[18:41:07] WARNING: C:/Users/Administrator/workspace/xgboost-win64_release_1.4.0/src/metric/auc.cc:307: Dataset contains only positive or negative samples.\n",
      "[18:41:08] WARNING: C:/Users/Administrator/workspace/xgboost-win64_release_1.4.0/src/metric/auc.cc:307: Dataset contains only positive or negative samples.\n",
      "[18:41:08] WARNING: C:/Users/Administrator/workspace/xgboost-win64_release_1.4.0/src/metric/auc.cc:307: Dataset contains only positive or negative samples.\n",
      "[18:41:08] WARNING: C:/Users/Administrator/workspace/xgboost-win64_release_1.4.0/src/metric/auc.cc:307: Dataset contains only positive or negative samples.\n",
      "[18:41:08] WARNING: C:/Users/Administrator/workspace/xgboost-win64_release_1.4.0/src/metric/auc.cc:307: Dataset contains only positive or negative samples.\n",
      "[18:41:08] WARNING: C:/Users/Administrator/workspace/xgboost-win64_release_1.4.0/src/metric/auc.cc:307: Dataset contains only positive or negative samples.\n",
      "[18:41:08] WARNING: C:/Users/Administrator/workspace/xgboost-win64_release_1.4.0/src/metric/auc.cc:307: Dataset contains only positive or negative samples.\n",
      "[18:41:08] WARNING: C:/Users/Administrator/workspace/xgboost-win64_release_1.4.0/src/metric/auc.cc:307: Dataset contains only positive or negative samples.\n",
      "[18:41:08] WARNING: C:/Users/Administrator/workspace/xgboost-win64_release_1.4.0/src/metric/auc.cc:307: Dataset contains only positive or negative samples.\n",
      "[18:41:08] WARNING: C:/Users/Administrator/workspace/xgboost-win64_release_1.4.0/src/metric/auc.cc:307: Dataset contains only positive or negative samples.\n",
      "[18:41:08] WARNING: C:/Users/Administrator/workspace/xgboost-win64_release_1.4.0/src/metric/auc.cc:307: Dataset contains only positive or negative samples.\n",
      "[18:41:08] WARNING: C:/Users/Administrator/workspace/xgboost-win64_release_1.4.0/src/metric/auc.cc:307: Dataset contains only positive or negative samples.\n",
      "[18:41:08] WARNING: C:/Users/Administrator/workspace/xgboost-win64_release_1.4.0/src/metric/auc.cc:307: Dataset contains only positive or negative samples.\n",
      "[18:41:08] WARNING: C:/Users/Administrator/workspace/xgboost-win64_release_1.4.0/src/metric/auc.cc:307: Dataset contains only positive or negative samples.\n",
      "[18:41:08] WARNING: C:/Users/Administrator/workspace/xgboost-win64_release_1.4.0/src/metric/auc.cc:307: Dataset contains only positive or negative samples.\n",
      "[18:41:08] WARNING: C:/Users/Administrator/workspace/xgboost-win64_release_1.4.0/src/metric/auc.cc:307: Dataset contains only positive or negative samples.\n",
      "[18:41:08] WARNING: C:/Users/Administrator/workspace/xgboost-win64_release_1.4.0/src/metric/auc.cc:307: Dataset contains only positive or negative samples.\n",
      "[18:41:08] WARNING: C:/Users/Administrator/workspace/xgboost-win64_release_1.4.0/src/metric/auc.cc:307: Dataset contains only positive or negative samples.\n",
      "[18:41:08] WARNING: C:/Users/Administrator/workspace/xgboost-win64_release_1.4.0/src/metric/auc.cc:307: Dataset contains only positive or negative samples.\n",
      "[18:41:08] WARNING: C:/Users/Administrator/workspace/xgboost-win64_release_1.4.0/src/metric/auc.cc:307: Dataset contains only positive or negative samples.\n",
      "[18:41:08] WARNING: C:/Users/Administrator/workspace/xgboost-win64_release_1.4.0/src/metric/auc.cc:307: Dataset contains only positive or negative samples.\n",
      "[18:41:08] WARNING: C:/Users/Administrator/workspace/xgboost-win64_release_1.4.0/src/metric/auc.cc:307: Dataset contains only positive or negative samples.\n",
      "[18:41:08] WARNING: C:/Users/Administrator/workspace/xgboost-win64_release_1.4.0/src/metric/auc.cc:307: Dataset contains only positive or negative samples.\n",
      "[18:41:08] WARNING: C:/Users/Administrator/workspace/xgboost-win64_release_1.4.0/src/metric/auc.cc:307: Dataset contains only positive or negative samples.\n",
      "[18:41:08] WARNING: C:/Users/Administrator/workspace/xgboost-win64_release_1.4.0/src/metric/auc.cc:307: Dataset contains only positive or negative samples.\n",
      "[18:41:08] WARNING: C:/Users/Administrator/workspace/xgboost-win64_release_1.4.0/src/metric/auc.cc:307: Dataset contains only positive or negative samples.\n",
      "[18:41:08] WARNING: C:/Users/Administrator/workspace/xgboost-win64_release_1.4.0/src/metric/auc.cc:307: Dataset contains only positive or negative samples.\n",
      "[18:41:08] WARNING: C:/Users/Administrator/workspace/xgboost-win64_release_1.4.0/src/metric/auc.cc:307: Dataset contains only positive or negative samples.\n",
      "[18:41:08] WARNING: C:/Users/Administrator/workspace/xgboost-win64_release_1.4.0/src/metric/auc.cc:307: Dataset contains only positive or negative samples.\n",
      "[18:41:08] WARNING: C:/Users/Administrator/workspace/xgboost-win64_release_1.4.0/src/metric/auc.cc:307: Dataset contains only positive or negative samples.\n",
      "[18:41:08] WARNING: C:/Users/Administrator/workspace/xgboost-win64_release_1.4.0/src/metric/auc.cc:307: Dataset contains only positive or negative samples.\n",
      "[18:41:08] WARNING: C:/Users/Administrator/workspace/xgboost-win64_release_1.4.0/src/metric/auc.cc:307: Dataset contains only positive or negative samples.\n",
      "[18:41:08] WARNING: C:/Users/Administrator/workspace/xgboost-win64_release_1.4.0/src/metric/auc.cc:307: Dataset contains only positive or negative samples.\n",
      "[18:41:08] WARNING: C:/Users/Administrator/workspace/xgboost-win64_release_1.4.0/src/metric/auc.cc:307: Dataset contains only positive or negative samples.\n",
      "[18:41:08] WARNING: C:/Users/Administrator/workspace/xgboost-win64_release_1.4.0/src/metric/auc.cc:307: Dataset contains only positive or negative samples.\n",
      "[18:41:08] WARNING: C:/Users/Administrator/workspace/xgboost-win64_release_1.4.0/src/metric/auc.cc:307: Dataset contains only positive or negative samples.\n",
      "[18:41:08] WARNING: C:/Users/Administrator/workspace/xgboost-win64_release_1.4.0/src/metric/auc.cc:307: Dataset contains only positive or negative samples.\n",
      "[18:41:08] WARNING: C:/Users/Administrator/workspace/xgboost-win64_release_1.4.0/src/metric/auc.cc:307: Dataset contains only positive or negative samples.\n",
      "[18:41:08] WARNING: C:/Users/Administrator/workspace/xgboost-win64_release_1.4.0/src/metric/auc.cc:307: Dataset contains only positive or negative samples.\n",
      "[18:41:08] WARNING: C:/Users/Administrator/workspace/xgboost-win64_release_1.4.0/src/metric/auc.cc:307: Dataset contains only positive or negative samples.\n",
      "[18:41:08] WARNING: C:/Users/Administrator/workspace/xgboost-win64_release_1.4.0/src/metric/auc.cc:307: Dataset contains only positive or negative samples.\n",
      "[18:41:08] WARNING: C:/Users/Administrator/workspace/xgboost-win64_release_1.4.0/src/metric/auc.cc:307: Dataset contains only positive or negative samples.\n",
      "[18:41:08] WARNING: C:/Users/Administrator/workspace/xgboost-win64_release_1.4.0/src/metric/auc.cc:307: Dataset contains only positive or negative samples.\n",
      "[18:41:08] WARNING: C:/Users/Administrator/workspace/xgboost-win64_release_1.4.0/src/metric/auc.cc:307: Dataset contains only positive or negative samples.\n",
      "[18:41:08] WARNING: C:/Users/Administrator/workspace/xgboost-win64_release_1.4.0/src/metric/auc.cc:307: Dataset contains only positive or negative samples.\n",
      "[18:41:08] WARNING: C:/Users/Administrator/workspace/xgboost-win64_release_1.4.0/src/metric/auc.cc:307: Dataset contains only positive or negative samples.\n",
      "[18:41:08] WARNING: C:/Users/Administrator/workspace/xgboost-win64_release_1.4.0/src/metric/auc.cc:307: Dataset contains only positive or negative samples.\n",
      "[18:41:08] WARNING: C:/Users/Administrator/workspace/xgboost-win64_release_1.4.0/src/metric/auc.cc:307: Dataset contains only positive or negative samples.\n",
      "[18:41:08] WARNING: C:/Users/Administrator/workspace/xgboost-win64_release_1.4.0/src/metric/auc.cc:307: Dataset contains only positive or negative samples.\n",
      "[18:41:08] WARNING: C:/Users/Administrator/workspace/xgboost-win64_release_1.4.0/src/metric/auc.cc:307: Dataset contains only positive or negative samples.\n",
      "[18:41:08] WARNING: C:/Users/Administrator/workspace/xgboost-win64_release_1.4.0/src/metric/auc.cc:307: Dataset contains only positive or negative samples.\n",
      "[18:41:08] WARNING: C:/Users/Administrator/workspace/xgboost-win64_release_1.4.0/src/metric/auc.cc:307: Dataset contains only positive or negative samples.\n",
      "[18:41:08] WARNING: C:/Users/Administrator/workspace/xgboost-win64_release_1.4.0/src/metric/auc.cc:307: Dataset contains only positive or negative samples.\n",
      "[18:41:08] WARNING: C:/Users/Administrator/workspace/xgboost-win64_release_1.4.0/src/metric/auc.cc:307: Dataset contains only positive or negative samples.\n",
      "[18:41:08] WARNING: C:/Users/Administrator/workspace/xgboost-win64_release_1.4.0/src/metric/auc.cc:307: Dataset contains only positive or negative samples.\n",
      "[18:41:08] WARNING: C:/Users/Administrator/workspace/xgboost-win64_release_1.4.0/src/metric/auc.cc:307: Dataset contains only positive or negative samples.\n",
      "[18:41:08] WARNING: C:/Users/Administrator/workspace/xgboost-win64_release_1.4.0/src/metric/auc.cc:307: Dataset contains only positive or negative samples.\n",
      "[18:41:08] WARNING: C:/Users/Administrator/workspace/xgboost-win64_release_1.4.0/src/metric/auc.cc:307: Dataset contains only positive or negative samples.\n",
      "[18:41:08] WARNING: C:/Users/Administrator/workspace/xgboost-win64_release_1.4.0/src/metric/auc.cc:307: Dataset contains only positive or negative samples.\n",
      "[18:41:08] WARNING: C:/Users/Administrator/workspace/xgboost-win64_release_1.4.0/src/metric/auc.cc:307: Dataset contains only positive or negative samples.\n",
      "[18:41:08] WARNING: C:/Users/Administrator/workspace/xgboost-win64_release_1.4.0/src/metric/auc.cc:307: Dataset contains only positive or negative samples.\n",
      "[18:41:08] WARNING: C:/Users/Administrator/workspace/xgboost-win64_release_1.4.0/src/metric/auc.cc:307: Dataset contains only positive or negative samples.\n",
      "[18:41:08] WARNING: C:/Users/Administrator/workspace/xgboost-win64_release_1.4.0/src/metric/auc.cc:307: Dataset contains only positive or negative samples.\n",
      "[18:41:08] WARNING: C:/Users/Administrator/workspace/xgboost-win64_release_1.4.0/src/metric/auc.cc:307: Dataset contains only positive or negative samples.\n",
      "[18:41:08] WARNING: C:/Users/Administrator/workspace/xgboost-win64_release_1.4.0/src/metric/auc.cc:307: Dataset contains only positive or negative samples.\n",
      "[18:41:08] WARNING: C:/Users/Administrator/workspace/xgboost-win64_release_1.4.0/src/metric/auc.cc:307: Dataset contains only positive or negative samples.\n",
      "[18:41:08] WARNING: C:/Users/Administrator/workspace/xgboost-win64_release_1.4.0/src/metric/auc.cc:307: Dataset contains only positive or negative samples.\n",
      "[18:41:08] WARNING: C:/Users/Administrator/workspace/xgboost-win64_release_1.4.0/src/metric/auc.cc:307: Dataset contains only positive or negative samples.\n",
      "[18:41:08] WARNING: C:/Users/Administrator/workspace/xgboost-win64_release_1.4.0/src/metric/auc.cc:307: Dataset contains only positive or negative samples.\n",
      "[18:41:08] WARNING: C:/Users/Administrator/workspace/xgboost-win64_release_1.4.0/src/metric/auc.cc:307: Dataset contains only positive or negative samples.\n",
      "[18:41:08] WARNING: C:/Users/Administrator/workspace/xgboost-win64_release_1.4.0/src/metric/auc.cc:307: Dataset contains only positive or negative samples.\n",
      "[18:41:08] WARNING: C:/Users/Administrator/workspace/xgboost-win64_release_1.4.0/src/metric/auc.cc:307: Dataset contains only positive or negative samples.\n",
      "[18:41:08] WARNING: C:/Users/Administrator/workspace/xgboost-win64_release_1.4.0/src/metric/auc.cc:307: Dataset contains only positive or negative samples.\n",
      "[18:41:08] WARNING: C:/Users/Administrator/workspace/xgboost-win64_release_1.4.0/src/metric/auc.cc:307: Dataset contains only positive or negative samples.\n",
      "[18:41:08] WARNING: C:/Users/Administrator/workspace/xgboost-win64_release_1.4.0/src/metric/auc.cc:307: Dataset contains only positive or negative samples.\n",
      "[18:41:09] WARNING: C:/Users/Administrator/workspace/xgboost-win64_release_1.4.0/src/metric/auc.cc:307: Dataset contains only positive or negative samples.\n",
      "[18:41:09] WARNING: C:/Users/Administrator/workspace/xgboost-win64_release_1.4.0/src/metric/auc.cc:307: Dataset contains only positive or negative samples.\n",
      "[18:41:09] WARNING: C:/Users/Administrator/workspace/xgboost-win64_release_1.4.0/src/metric/auc.cc:307: Dataset contains only positive or negative samples.\n",
      "[18:41:09] WARNING: C:/Users/Administrator/workspace/xgboost-win64_release_1.4.0/src/metric/auc.cc:307: Dataset contains only positive or negative samples.\n",
      "[18:41:09] WARNING: C:/Users/Administrator/workspace/xgboost-win64_release_1.4.0/src/metric/auc.cc:307: Dataset contains only positive or negative samples.\n",
      "[18:41:09] WARNING: C:/Users/Administrator/workspace/xgboost-win64_release_1.4.0/src/metric/auc.cc:307: Dataset contains only positive or negative samples.\n",
      "[18:41:09] WARNING: C:/Users/Administrator/workspace/xgboost-win64_release_1.4.0/src/metric/auc.cc:307: Dataset contains only positive or negative samples.\n",
      "[18:41:09] WARNING: C:/Users/Administrator/workspace/xgboost-win64_release_1.4.0/src/metric/auc.cc:307: Dataset contains only positive or negative samples.\n",
      "[18:41:09] WARNING: C:/Users/Administrator/workspace/xgboost-win64_release_1.4.0/src/metric/auc.cc:307: Dataset contains only positive or negative samples.\n",
      "[18:41:09] WARNING: C:/Users/Administrator/workspace/xgboost-win64_release_1.4.0/src/metric/auc.cc:307: Dataset contains only positive or negative samples.\n",
      "[18:41:09] WARNING: C:/Users/Administrator/workspace/xgboost-win64_release_1.4.0/src/metric/auc.cc:307: Dataset contains only positive or negative samples.\n",
      "[18:41:09] WARNING: C:/Users/Administrator/workspace/xgboost-win64_release_1.4.0/src/metric/auc.cc:307: Dataset contains only positive or negative samples.\n",
      "[18:41:09] WARNING: C:/Users/Administrator/workspace/xgboost-win64_release_1.4.0/src/metric/auc.cc:307: Dataset contains only positive or negative samples.\n",
      "[18:41:09] WARNING: C:/Users/Administrator/workspace/xgboost-win64_release_1.4.0/src/metric/auc.cc:307: Dataset contains only positive or negative samples.\n",
      "[18:41:09] WARNING: C:/Users/Administrator/workspace/xgboost-win64_release_1.4.0/src/metric/auc.cc:307: Dataset contains only positive or negative samples.\n",
      "[18:41:09] WARNING: C:/Users/Administrator/workspace/xgboost-win64_release_1.4.0/src/metric/auc.cc:307: Dataset contains only positive or negative samples.\n",
      "[18:41:09] WARNING: C:/Users/Administrator/workspace/xgboost-win64_release_1.4.0/src/metric/auc.cc:307: Dataset contains only positive or negative samples.\n",
      "[18:41:09] WARNING: C:/Users/Administrator/workspace/xgboost-win64_release_1.4.0/src/metric/auc.cc:307: Dataset contains only positive or negative samples.\n",
      "[18:41:09] WARNING: C:/Users/Administrator/workspace/xgboost-win64_release_1.4.0/src/metric/auc.cc:307: Dataset contains only positive or negative samples.\n",
      "[18:41:09] WARNING: C:/Users/Administrator/workspace/xgboost-win64_release_1.4.0/src/metric/auc.cc:307: Dataset contains only positive or negative samples.\n",
      "[18:41:09] WARNING: C:/Users/Administrator/workspace/xgboost-win64_release_1.4.0/src/metric/auc.cc:307: Dataset contains only positive or negative samples.\n",
      "[18:41:09] WARNING: C:/Users/Administrator/workspace/xgboost-win64_release_1.4.0/src/metric/auc.cc:307: Dataset contains only positive or negative samples.\n",
      "[18:41:09] WARNING: C:/Users/Administrator/workspace/xgboost-win64_release_1.4.0/src/metric/auc.cc:307: Dataset contains only positive or negative samples.\n",
      "[18:41:09] WARNING: C:/Users/Administrator/workspace/xgboost-win64_release_1.4.0/src/metric/auc.cc:307: Dataset contains only positive or negative samples.\n",
      "[18:41:09] WARNING: C:/Users/Administrator/workspace/xgboost-win64_release_1.4.0/src/metric/auc.cc:307: Dataset contains only positive or negative samples.\n",
      "[18:41:09] WARNING: C:/Users/Administrator/workspace/xgboost-win64_release_1.4.0/src/metric/auc.cc:307: Dataset contains only positive or negative samples.\n",
      "[18:41:09] WARNING: C:/Users/Administrator/workspace/xgboost-win64_release_1.4.0/src/metric/auc.cc:307: Dataset contains only positive or negative samples.\n",
      "[18:41:09] WARNING: C:/Users/Administrator/workspace/xgboost-win64_release_1.4.0/src/metric/auc.cc:307: Dataset contains only positive or negative samples.\n",
      "[18:41:09] WARNING: C:/Users/Administrator/workspace/xgboost-win64_release_1.4.0/src/metric/auc.cc:307: Dataset contains only positive or negative samples.\n",
      "[18:41:09] WARNING: C:/Users/Administrator/workspace/xgboost-win64_release_1.4.0/src/metric/auc.cc:307: Dataset contains only positive or negative samples.\n",
      "[18:41:09] WARNING: C:/Users/Administrator/workspace/xgboost-win64_release_1.4.0/src/metric/auc.cc:307: Dataset contains only positive or negative samples.\n",
      "[18:41:09] WARNING: C:/Users/Administrator/workspace/xgboost-win64_release_1.4.0/src/metric/auc.cc:307: Dataset contains only positive or negative samples.\n",
      "[18:41:09] WARNING: C:/Users/Administrator/workspace/xgboost-win64_release_1.4.0/src/metric/auc.cc:307: Dataset contains only positive or negative samples.\n",
      "[18:41:09] WARNING: C:/Users/Administrator/workspace/xgboost-win64_release_1.4.0/src/metric/auc.cc:307: Dataset contains only positive or negative samples.\n",
      "[18:41:09] WARNING: C:/Users/Administrator/workspace/xgboost-win64_release_1.4.0/src/metric/auc.cc:307: Dataset contains only positive or negative samples.\n",
      "[18:41:09] WARNING: C:/Users/Administrator/workspace/xgboost-win64_release_1.4.0/src/metric/auc.cc:307: Dataset contains only positive or negative samples.\n",
      "[18:41:09] WARNING: C:/Users/Administrator/workspace/xgboost-win64_release_1.4.0/src/metric/auc.cc:307: Dataset contains only positive or negative samples.\n",
      "[18:41:09] WARNING: C:/Users/Administrator/workspace/xgboost-win64_release_1.4.0/src/metric/auc.cc:307: Dataset contains only positive or negative samples.\n",
      "[18:41:09] WARNING: C:/Users/Administrator/workspace/xgboost-win64_release_1.4.0/src/metric/auc.cc:307: Dataset contains only positive or negative samples.\n",
      "[18:41:09] WARNING: C:/Users/Administrator/workspace/xgboost-win64_release_1.4.0/src/metric/auc.cc:307: Dataset contains only positive or negative samples.\n",
      "[18:41:09] WARNING: C:/Users/Administrator/workspace/xgboost-win64_release_1.4.0/src/metric/auc.cc:307: Dataset contains only positive or negative samples.\n",
      "[18:41:09] WARNING: C:/Users/Administrator/workspace/xgboost-win64_release_1.4.0/src/metric/auc.cc:307: Dataset contains only positive or negative samples.\n",
      "[18:41:09] WARNING: C:/Users/Administrator/workspace/xgboost-win64_release_1.4.0/src/metric/auc.cc:307: Dataset contains only positive or negative samples.\n",
      "[18:41:09] WARNING: C:/Users/Administrator/workspace/xgboost-win64_release_1.4.0/src/metric/auc.cc:307: Dataset contains only positive or negative samples.\n",
      "[18:41:09] WARNING: C:/Users/Administrator/workspace/xgboost-win64_release_1.4.0/src/metric/auc.cc:307: Dataset contains only positive or negative samples.\n",
      "[18:41:09] WARNING: C:/Users/Administrator/workspace/xgboost-win64_release_1.4.0/src/metric/auc.cc:307: Dataset contains only positive or negative samples.\n",
      "[18:41:09] WARNING: C:/Users/Administrator/workspace/xgboost-win64_release_1.4.0/src/metric/auc.cc:307: Dataset contains only positive or negative samples.\n",
      "[18:41:09] WARNING: C:/Users/Administrator/workspace/xgboost-win64_release_1.4.0/src/metric/auc.cc:307: Dataset contains only positive or negative samples.\n",
      "[18:41:09] WARNING: C:/Users/Administrator/workspace/xgboost-win64_release_1.4.0/src/metric/auc.cc:307: Dataset contains only positive or negative samples.\n",
      "[18:41:09] WARNING: C:/Users/Administrator/workspace/xgboost-win64_release_1.4.0/src/metric/auc.cc:307: Dataset contains only positive or negative samples.\n",
      "[18:41:09] WARNING: C:/Users/Administrator/workspace/xgboost-win64_release_1.4.0/src/metric/auc.cc:307: Dataset contains only positive or negative samples.\n",
      "[18:41:09] WARNING: C:/Users/Administrator/workspace/xgboost-win64_release_1.4.0/src/metric/auc.cc:307: Dataset contains only positive or negative samples.\n",
      "    train-auc-mean  train-auc-std  test-auc-mean  test-auc-std\n",
      "0         0.989465       0.002127            NaN           NaN\n",
      "1         0.993539       0.001438            NaN           NaN\n",
      "2         0.995363       0.001379            NaN           NaN\n",
      "3         0.996199       0.001064            NaN           NaN\n",
      "4         0.997472       0.000850            NaN           NaN\n",
      "..             ...            ...            ...           ...\n",
      "95        1.000000       0.000000            NaN           NaN\n",
      "96        1.000000       0.000000            NaN           NaN\n",
      "97        1.000000       0.000000            NaN           NaN\n",
      "98        1.000000       0.000000            NaN           NaN\n",
      "99        1.000000       0.000000            NaN           NaN\n",
      "\n",
      "[100 rows x 4 columns]\n",
      "nan\n"
     ]
    }
   ],
   "metadata": {}
  },
  {
   "cell_type": "markdown",
   "source": [
    "# XGB regressor"
   ],
   "metadata": {}
  },
  {
   "cell_type": "code",
   "execution_count": 40,
   "source": [
    "import numpy as np\r\n",
    "import pandas as pd\r\n",
    "\r\n",
    "from sklearn.linear_model import LinearRegression\r\n",
    "from sklearn.model_selection import train_test_split\r\n",
    "from sklearn.datasets import load_boston\r\n",
    "from sklearn.metrics import mean_squared_error, r2_score\r\n",
    "\r\n",
    "import seaborn as sns\r\n",
    "import matplotlib.pyplot as plt\r\n",
    "%matplotlib inline\r\n",
    "boston_dataset = load_boston()\r\n",
    "\r\n",
    "print(boston_dataset.keys())\r\n",
    "print(boston_dataset.DESCR)"
   ],
   "outputs": [
    {
     "output_type": "stream",
     "name": "stdout",
     "text": [
      "dict_keys(['data', 'target', 'feature_names', 'DESCR', 'filename'])\n",
      ".. _boston_dataset:\n",
      "\n",
      "Boston house prices dataset\n",
      "---------------------------\n",
      "\n",
      "**Data Set Characteristics:**  \n",
      "\n",
      "    :Number of Instances: 506 \n",
      "\n",
      "    :Number of Attributes: 13 numeric/categorical predictive. Median Value (attribute 14) is usually the target.\n",
      "\n",
      "    :Attribute Information (in order):\n",
      "        - CRIM     per capita crime rate by town\n",
      "        - ZN       proportion of residential land zoned for lots over 25,000 sq.ft.\n",
      "        - INDUS    proportion of non-retail business acres per town\n",
      "        - CHAS     Charles River dummy variable (= 1 if tract bounds river; 0 otherwise)\n",
      "        - NOX      nitric oxides concentration (parts per 10 million)\n",
      "        - RM       average number of rooms per dwelling\n",
      "        - AGE      proportion of owner-occupied units built prior to 1940\n",
      "        - DIS      weighted distances to five Boston employment centres\n",
      "        - RAD      index of accessibility to radial highways\n",
      "        - TAX      full-value property-tax rate per $10,000\n",
      "        - PTRATIO  pupil-teacher ratio by town\n",
      "        - B        1000(Bk - 0.63)^2 where Bk is the proportion of black people by town\n",
      "        - LSTAT    % lower status of the population\n",
      "        - MEDV     Median value of owner-occupied homes in $1000's\n",
      "\n",
      "    :Missing Attribute Values: None\n",
      "\n",
      "    :Creator: Harrison, D. and Rubinfeld, D.L.\n",
      "\n",
      "This is a copy of UCI ML housing dataset.\n",
      "https://archive.ics.uci.edu/ml/machine-learning-databases/housing/\n",
      "\n",
      "\n",
      "This dataset was taken from the StatLib library which is maintained at Carnegie Mellon University.\n",
      "\n",
      "The Boston house-price data of Harrison, D. and Rubinfeld, D.L. 'Hedonic\n",
      "prices and the demand for clean air', J. Environ. Economics & Management,\n",
      "vol.5, 81-102, 1978.   Used in Belsley, Kuh & Welsch, 'Regression diagnostics\n",
      "...', Wiley, 1980.   N.B. Various transformations are used in the table on\n",
      "pages 244-261 of the latter.\n",
      "\n",
      "The Boston house-price data has been used in many machine learning papers that address regression\n",
      "problems.   \n",
      "     \n",
      ".. topic:: References\n",
      "\n",
      "   - Belsley, Kuh & Welsch, 'Regression diagnostics: Identifying Influential Data and Sources of Collinearity', Wiley, 1980. 244-261.\n",
      "   - Quinlan,R. (1993). Combining Instance-Based and Model-Based Learning. In Proceedings on the Tenth International Conference of Machine Learning, 236-243, University of Massachusetts, Amherst. Morgan Kaufmann.\n",
      "\n"
     ]
    }
   ],
   "metadata": {}
  },
  {
   "cell_type": "markdown",
   "source": [
    "## Tree as base learner"
   ],
   "metadata": {}
  },
  {
   "cell_type": "code",
   "execution_count": 41,
   "source": [
    "# Create the training and test sets\r\n",
    "X_train, X_test, y_train, y_test = train_test_split(X,y, test_size=0.2, random_state=123)\r\n",
    "\r\n",
    "# Instantiate the XGBRegressor: xg_reg\r\n",
    "xg_reg = xgb.XGBRegressor(objective='reg:squarederror', n_estimators=10,booster='gbtree',seed=123)\r\n",
    "\r\n",
    "# Fit the regressor to the training set\r\n",
    "xg_reg.fit(X_train,y_train)\r\n",
    "\r\n",
    "# Predict the labels of the test set: preds\r\n",
    "preds = xg_reg.predict(X_test)\r\n",
    "\r\n",
    "# Compute the rmse: rmse\r\n",
    "rmse = np.sqrt(mean_squared_error(y_test,preds))\r\n",
    "print(\"RMSE: %f\" % (rmse))"
   ],
   "outputs": [
    {
     "output_type": "stream",
     "name": "stdout",
     "text": [
      "RMSE: 0.163431\n"
     ]
    }
   ],
   "metadata": {}
  },
  {
   "cell_type": "markdown",
   "source": [
    "## Linear base learner\r\n",
    "This model, although not as commonly used in XGBoost, allows you to create a regularized linear regression using XGBoost's powerful learning API."
   ],
   "metadata": {}
  },
  {
   "cell_type": "code",
   "execution_count": 42,
   "source": [
    "# Convert the training and testing sets into DMatrixes: DM_train, DM_test\r\n",
    "DM_train = xgb.DMatrix(data=X_train,label=y_train)\r\n",
    "DM_test =  xgb.DMatrix(data=X_test,label=y_test)\r\n",
    "\r\n",
    "# Create the parameter dictionary: params\r\n",
    "params = {\"booster\":\"gblinear\", \"objective\":'reg:squarederror'}\r\n",
    "\r\n",
    "# Train the model: xg_reg\r\n",
    "xg_reg = xgb.train(params=params, dtrain=DM_train, num_boost_round=5)\r\n",
    "\r\n",
    "# Predict the labels of the test set: preds\r\n",
    "preds = xg_reg.predict(DM_test)\r\n",
    "\r\n",
    "# Compute and print the RMSE\r\n",
    "rmse = np.sqrt(mean_squared_error(y_test,preds))\r\n",
    "print(\"RMSE: %f\" % (rmse))"
   ],
   "outputs": [
    {
     "output_type": "stream",
     "name": "stdout",
     "text": [
      "RMSE: 0.305309\n"
     ]
    }
   ],
   "metadata": {}
  },
  {
   "cell_type": "markdown",
   "source": [
    "## Im this case, the tree based model perfomed better thnat the linear base learner"
   ],
   "metadata": {}
  },
  {
   "cell_type": "markdown",
   "source": [
    "## Evuating the RMSE and MAE"
   ],
   "metadata": {}
  },
  {
   "cell_type": "code",
   "execution_count": 43,
   "source": [
    "# Create the DMatrix: housing_dmatrix\r\n",
    "housing_dmatrix = xgb.DMatrix(data=X, label=y)\r\n",
    "\r\n",
    "# Create the parameter dictionary: params\r\n",
    "params = {\"objective\":\"reg:linear\", \"max_depth\":4}\r\n",
    "\r\n",
    "# Perform cross-validation: cv_results\r\n",
    "cv_results = xgb.cv(dtrain=housing_dmatrix, params=params, nfold=4, num_boost_round=5, metrics='rmse', as_pandas=True, seed=123)\r\n",
    "\r\n",
    "# Print cv_results\r\n",
    "print(cv_results)\r\n",
    "\r\n",
    "# Extract and print final boosting round metric\r\n",
    "print((cv_results[\"test-rmse-mean\"]).tail(1))"
   ],
   "outputs": [
    {
     "output_type": "stream",
     "name": "stdout",
     "text": [
      "[18:41:09] WARNING: C:/Users/Administrator/workspace/xgboost-win64_release_1.4.0/src/objective/regression_obj.cu:171: reg:linear is now deprecated in favor of reg:squarederror.\n",
      "[18:41:09] WARNING: C:/Users/Administrator/workspace/xgboost-win64_release_1.4.0/src/objective/regression_obj.cu:171: reg:linear is now deprecated in favor of reg:squarederror.\n",
      "[18:41:09] WARNING: C:/Users/Administrator/workspace/xgboost-win64_release_1.4.0/src/objective/regression_obj.cu:171: reg:linear is now deprecated in favor of reg:squarederror.\n",
      "[18:41:09] WARNING: C:/Users/Administrator/workspace/xgboost-win64_release_1.4.0/src/objective/regression_obj.cu:171: reg:linear is now deprecated in favor of reg:squarederror.\n",
      "   train-rmse-mean  train-rmse-std  test-rmse-mean  test-rmse-std\n",
      "0         0.359996        0.000343        0.381521       0.009897\n",
      "1         0.262694        0.001573        0.308177       0.019709\n",
      "2         0.193480        0.002238        0.259393       0.027647\n",
      "3         0.146046        0.003277        0.233768       0.032281\n",
      "4         0.114572        0.003414        0.218378       0.034018\n",
      "4    0.218378\n",
      "Name: test-rmse-mean, dtype: float64\n"
     ]
    }
   ],
   "metadata": {}
  },
  {
   "cell_type": "code",
   "execution_count": 44,
   "source": [
    "# Create the DMatrix: housing_dmatrix\r\n",
    "housing_dmatrix = xgb.DMatrix(data=X, label=y)\r\n",
    "\r\n",
    "# Create the parameter dictionary: params\r\n",
    "params = {\"objective\":\"reg:linear\", \"max_depth\":4}\r\n",
    "\r\n",
    "# Perform cross-validation: cv_results\r\n",
    "cv_results = xgb.cv(dtrain=housing_dmatrix, params=params, nfold=4, num_boost_round=5, metrics='mae', as_pandas=True, seed=123)\r\n",
    "\r\n",
    "# Print cv_results\r\n",
    "print(cv_results)\r\n",
    "\r\n",
    "# Extract and print final boosting round metric\r\n",
    "print((cv_results[\"test-mae-mean\"]).tail(1))"
   ],
   "outputs": [
    {
     "output_type": "stream",
     "name": "stdout",
     "text": [
      "[18:41:09] WARNING: C:/Users/Administrator/workspace/xgboost-win64_release_1.4.0/src/objective/regression_obj.cu:171: reg:linear is now deprecated in favor of reg:squarederror.\n",
      "[18:41:09] WARNING: C:/Users/Administrator/workspace/xgboost-win64_release_1.4.0/src/objective/regression_obj.cu:171: reg:linear is now deprecated in favor of reg:squarederror.\n",
      "[18:41:09] WARNING: C:/Users/Administrator/workspace/xgboost-win64_release_1.4.0/src/objective/regression_obj.cu:171: reg:linear is now deprecated in favor of reg:squarederror.\n",
      "[18:41:09] WARNING: C:/Users/Administrator/workspace/xgboost-win64_release_1.4.0/src/objective/regression_obj.cu:171: reg:linear is now deprecated in favor of reg:squarederror.\n",
      "   train-mae-mean  train-mae-std  test-mae-mean  test-mae-std\n",
      "0        0.358734       0.000285       0.374881      0.007766\n",
      "1        0.258447       0.001116       0.285407      0.012509\n",
      "2        0.186126       0.001190       0.220891      0.015701\n",
      "3        0.134795       0.001387       0.175967      0.016907\n",
      "4        0.098687       0.001142       0.144259      0.017776\n",
      "4    0.144259\n",
      "Name: test-mae-mean, dtype: float64\n"
     ]
    }
   ],
   "metadata": {}
  },
  {
   "cell_type": "markdown",
   "source": [
    "# Regularizations\r\n",
    "Vary the l2 regularization penalty - also known as \"lambda\" - and see its effect on overall model performance on the housing dataset."
   ],
   "metadata": {}
  },
  {
   "cell_type": "code",
   "execution_count": 45,
   "source": [
    "# Create the DMatrix: housing_dmatrix\r\n",
    "housing_dmatrix = xgb.DMatrix(data=X, label=y)\r\n",
    "\r\n",
    "reg_params = [1, 10, 100]\r\n",
    "\r\n",
    "# Create the initial parameter dictionary for varying l2 strength: params\r\n",
    "params = {\"objective\":\"reg:squarederror\",\"max_depth\":3}\r\n",
    "\r\n",
    "# Create an empty list for storing rmses as a function of l2 complexity\r\n",
    "rmses_l2 = []\r\n",
    "\r\n",
    "# Iterate over reg_params\r\n",
    "for reg in reg_params:\r\n",
    "\r\n",
    "    # Update l2 strength\r\n",
    "    params[\"lambda\"] = reg\r\n",
    "    \r\n",
    "    # Pass this updated param dictionary into cv\r\n",
    "    cv_results_rmse = xgb.cv(dtrain=housing_dmatrix, params=params, nfold=2, num_boost_round=5, metrics=\"rmse\", as_pandas=True, seed=123)\r\n",
    "    \r\n",
    "    # Append best rmse (final round) to rmses_l2\r\n",
    "    rmses_l2.append(cv_results_rmse[\"test-rmse-mean\"].tail(1).values[0])\r\n",
    "\r\n",
    "# Look at best rmse per l2 param\r\n",
    "print(\"Best rmse as a function of l2:\")\r\n",
    "print(pd.DataFrame(list(zip(reg_params, rmses_l2)), columns=[\"l2\", \"rmse\"]))"
   ],
   "outputs": [
    {
     "output_type": "stream",
     "name": "stdout",
     "text": [
      "Best rmse as a function of l2:\n",
      "    l2      rmse\n",
      "0    1  0.209371\n",
      "1   10  0.218852\n",
      "2  100  0.278137\n"
     ]
    }
   ],
   "metadata": {}
  },
  {
   "cell_type": "markdown",
   "source": [
    "Visualizing individual XGBoost trees\r\n",
    "\r\n",
    "\r\n",
    "Now that you've used XGBoost to both build and evaluate regression as well as classification models, you should get a handle on how to visually explore your models"
   ],
   "metadata": {}
  },
  {
   "cell_type": "code",
   "execution_count": 46,
   "source": [
    "# Create the DMatrix: housing_dmatrix\r\n",
    "housing_dmatrix = xgb.DMatrix(data=X, label=y)\r\n",
    "\r\n",
    "# Create the parameter dictionary: params\r\n",
    "params = {\"objective\":\"reg:squarederror\", \"max_depth\":2}\r\n",
    "\r\n",
    "# Train the model: xg_reg\r\n",
    "xg_reg = xgb.train(params=params, dtrain=housing_dmatrix, num_boost_round=10)\r\n",
    "\r\n",
    "# Plot the first tree\r\n",
    "#xgb.plot_tree(xg_reg, num_trees=0)\r\n",
    "plt.show()\r\n",
    "\r\n",
    "# Plot the fifth tree\r\n",
    "#xgb.plot_tree(xg_reg, num_trees=4)\r\n",
    "plt.show()\r\n",
    "\r\n",
    "# Plot the last tree sideways\r\n",
    "#xgb.plot_tree(xg_reg, num_trees=9, rankdir='LR')\r\n",
    "plt.show()"
   ],
   "outputs": [],
   "metadata": {}
  },
  {
   "cell_type": "code",
   "execution_count": 47,
   "source": [
    "# Create the DMatrix: housing_dmatrix\r\n",
    "housing_dmatrix = xgb.DMatrix(data=X, label=y)\r\n",
    "\r\n",
    "# Create the parameter dictionary: params\r\n",
    "params = {\"objective\":\"reg:linear\", \"max_depth\":4}\r\n",
    "\r\n",
    "# Train the model: xg_reg\r\n",
    "xg_reg = xgb.train(params=params, dtrain=housing_dmatrix, num_boost_round=10)\r\n",
    "\r\n",
    "\r\n",
    "# Plot the feature importances\r\n",
    "xgb.plot_importance(xg_reg)\r\n",
    "plt.show()"
   ],
   "outputs": [
    {
     "output_type": "stream",
     "name": "stdout",
     "text": [
      "[18:41:09] WARNING: C:/Users/Administrator/workspace/xgboost-win64_release_1.4.0/src/objective/regression_obj.cu:171: reg:linear is now deprecated in favor of reg:squarederror.\n"
     ]
    },
    {
     "output_type": "display_data",
     "data": {
      "image/png": "[encoded data removed]",
      "text/plain": [
       "<Figure size 432x288 with 1 Axes>"
      ]
     },
     "metadata": {
      "needs_background": "light"
     }
    }
   ],
   "metadata": {}
  },
  {
   "cell_type": "markdown",
   "source": [
    "# Hyperparameter tunning\r\n",
    "\r\n",
    "Early stopping works by testing the XGBoost model after every boosting round against a hold-out dataset and stopping the creation of additional boosting rounds (thereby finishing training of the model early) if the hold-out metric (\"rmse\" in our case) does not improve for a given number of rounds."
   ],
   "metadata": {}
  },
  {
   "cell_type": "code",
   "execution_count": 48,
   "source": [
    "# Create your housing DMatrix: housing_dmatrix\r\n",
    "housing_dmatrix = xgb.DMatrix(data=X, label=y)\r\n",
    "\r\n",
    "# Create the parameter dictionary for each tree: params\r\n",
    "params = {\"objective\":\"reg:linear\", \"max_depth\":4}\r\n",
    "\r\n",
    "# Perform cross-validation with early stopping: cv_results\r\n",
    "cv_results = xgb.cv(dtrain=housing_dmatrix, params=params, nfold=3,num_boost_round=50, early_stopping_rounds=10, metrics=\"rmse\", as_pandas=True, seed=123)\r\n",
    "    \r\n",
    "print(cv_results)"
   ],
   "outputs": [
    {
     "output_type": "stream",
     "name": "stdout",
     "text": [
      "[18:41:10] WARNING: C:/Users/Administrator/workspace/xgboost-win64_release_1.4.0/src/objective/regression_obj.cu:171: reg:linear is now deprecated in favor of reg:squarederror.\n",
      "[18:41:10] WARNING: C:/Users/Administrator/workspace/xgboost-win64_release_1.4.0/src/objective/regression_obj.cu:171: reg:linear is now deprecated in favor of reg:squarederror.\n",
      "[18:41:10] WARNING: C:/Users/Administrator/workspace/xgboost-win64_release_1.4.0/src/objective/regression_obj.cu:171: reg:linear is now deprecated in favor of reg:squarederror.\n",
      "   train-rmse-mean  train-rmse-std  test-rmse-mean  test-rmse-std\n",
      "0         0.358757        0.001094        0.380055       0.005699\n",
      "1         0.259939        0.003456        0.306647       0.010013\n",
      "2         0.190809        0.007056        0.265697       0.014596\n",
      "3         0.142442        0.009373        0.241416       0.019320\n",
      "4         0.109323        0.011740        0.230108       0.022580\n",
      "5         0.086146        0.013083        0.226147       0.025173\n",
      "6         0.070516        0.014513        0.224565       0.027880\n",
      "7         0.059985        0.015480        0.222218       0.029315\n"
     ]
    }
   ],
   "metadata": {}
  },
  {
   "cell_type": "markdown",
   "source": [
    "## It's time to practice tuning other XGBoost hyperparameters in earnest and observing their effect on model performance! You'll begin by tuning the \"eta\", also known as the learning rate."
   ],
   "metadata": {}
  },
  {
   "cell_type": "code",
   "execution_count": 49,
   "source": [
    "# Create your housing DMatrix: housing_dmatrix\r\n",
    "housing_dmatrix = xgb.DMatrix(data=X, label=y)\r\n",
    "\r\n",
    "# Create the parameter dictionary for each tree (boosting round)\r\n",
    "params = {\"objective\":\"reg:linear\", \"max_depth\":3}\r\n",
    "\r\n",
    "# Create list of eta values and empty list to store final round rmse per xgboost model\r\n",
    "eta_vals= [0.001,0.01,0.1]\r\n",
    "best_rmse = []\r\n",
    "\r\n",
    "# Systematically vary the eta \r\n",
    "for curr_val in eta_vals:\r\n",
    "\r\n",
    "    params[\"eta\"] = curr_val\r\n",
    "    \r\n",
    "    # Perform cross-validation: cv_results\r\n",
    "    cv_results = xgb.cv(nfold=3, num_boost_round=10, early_stopping_rounds=5,metrics='rmse',seed=123, as_pandas=True,dtrain=housing_dmatrix,params=params)\r\n",
    "    \r\n",
    "    \r\n",
    "    \r\n",
    "    # Append the final round rmse to best_rmse\r\n",
    "    best_rmse.append(cv_results[\"test-rmse-mean\"].tail().values[-1])\r\n",
    "\r\n",
    "# Print the resultant DataFrame\r\n",
    "print(pd.DataFrame(list(zip(eta_vals, best_rmse)), columns=[\"eta\",\"best_rmse\"]))"
   ],
   "outputs": [
    {
     "output_type": "stream",
     "name": "stdout",
     "text": [
      "[18:41:10] WARNING: C:/Users/Administrator/workspace/xgboost-win64_release_1.4.0/src/objective/regression_obj.cu:171: reg:linear is now deprecated in favor of reg:squarederror.\n",
      "[18:41:10] WARNING: C:/Users/Administrator/workspace/xgboost-win64_release_1.4.0/src/objective/regression_obj.cu:171: reg:linear is now deprecated in favor of reg:squarederror.\n",
      "[18:41:10] WARNING: C:/Users/Administrator/workspace/xgboost-win64_release_1.4.0/src/objective/regression_obj.cu:171: reg:linear is now deprecated in favor of reg:squarederror.\n",
      "[18:41:10] WARNING: C:/Users/Administrator/workspace/xgboost-win64_release_1.4.0/src/objective/regression_obj.cu:171: reg:linear is now deprecated in favor of reg:squarederror.\n",
      "[18:41:10] WARNING: C:/Users/Administrator/workspace/xgboost-win64_release_1.4.0/src/objective/regression_obj.cu:171: reg:linear is now deprecated in favor of reg:squarederror.\n",
      "[18:41:10] WARNING: C:/Users/Administrator/workspace/xgboost-win64_release_1.4.0/src/objective/regression_obj.cu:171: reg:linear is now deprecated in favor of reg:squarederror.\n",
      "[18:41:10] WARNING: C:/Users/Administrator/workspace/xgboost-win64_release_1.4.0/src/objective/regression_obj.cu:171: reg:linear is now deprecated in favor of reg:squarederror.\n",
      "[18:41:10] WARNING: C:/Users/Administrator/workspace/xgboost-win64_release_1.4.0/src/objective/regression_obj.cu:171: reg:linear is now deprecated in favor of reg:squarederror.\n",
      "[18:41:10] WARNING: C:/Users/Administrator/workspace/xgboost-win64_release_1.4.0/src/objective/regression_obj.cu:171: reg:linear is now deprecated in favor of reg:squarederror.\n",
      "     eta  best_rmse\n",
      "0  0.001   0.495862\n",
      "1  0.010   0.460684\n",
      "2  0.100   0.262848\n"
     ]
    }
   ],
   "metadata": {}
  },
  {
   "cell_type": "code",
   "execution_count": 50,
   "source": [
    "# Create your housing DMatrix: housing_dmatrix\r\n",
    "housing_dmatrix = xgb.DMatrix(data=X,label=y)\r\n",
    "\r\n",
    "# Create the parameter dictionary\r\n",
    "params = {\"objective\":\"reg:linear\"}\r\n",
    "\r\n",
    "# Create list of max_depth values\r\n",
    "max_depths = [2, 5, 10, 20]\r\n",
    "best_rmse = []\r\n",
    "\r\n",
    "# Systematically vary the max_depth\r\n",
    "for curr_val in max_depths:\r\n",
    "\r\n",
    "    params[\"max_depth\"] = curr_val\r\n",
    "    \r\n",
    "    # Perform cross-validation\r\n",
    "    cv_results = xgb.cv(dtrain=housing_dmatrix, params=params, nfold=2,\r\n",
    "                 num_boost_round=10, early_stopping_rounds=5,\r\n",
    "                 metrics=\"rmse\", as_pandas=True, seed=123)\r\n",
    "    \r\n",
    "    # Append the final round rmse to best_rmse\r\n",
    "    best_rmse.append(cv_results[\"test-rmse-mean\"].tail().values[-1])\r\n",
    "\r\n",
    "# Print the resultant DataFrame\r\n",
    "print(pd.DataFrame(list(zip(max_depths, best_rmse)),columns=[\"max_depth\",\"best_rmse\"]))"
   ],
   "outputs": [
    {
     "output_type": "stream",
     "name": "stdout",
     "text": [
      "[18:41:10] WARNING: C:/Users/Administrator/workspace/xgboost-win64_release_1.4.0/src/objective/regression_obj.cu:171: reg:linear is now deprecated in favor of reg:squarederror.\n",
      "[18:41:10] WARNING: C:/Users/Administrator/workspace/xgboost-win64_release_1.4.0/src/objective/regression_obj.cu:171: reg:linear is now deprecated in favor of reg:squarederror.\n",
      "[18:41:10] WARNING: C:/Users/Administrator/workspace/xgboost-win64_release_1.4.0/src/objective/regression_obj.cu:171: reg:linear is now deprecated in favor of reg:squarederror.\n",
      "[18:41:10] WARNING: C:/Users/Administrator/workspace/xgboost-win64_release_1.4.0/src/objective/regression_obj.cu:171: reg:linear is now deprecated in favor of reg:squarederror.\n",
      "[18:41:10] WARNING: C:/Users/Administrator/workspace/xgboost-win64_release_1.4.0/src/objective/regression_obj.cu:171: reg:linear is now deprecated in favor of reg:squarederror.\n",
      "[18:41:10] WARNING: C:/Users/Administrator/workspace/xgboost-win64_release_1.4.0/src/objective/regression_obj.cu:171: reg:linear is now deprecated in favor of reg:squarederror.\n",
      "[18:41:10] WARNING: C:/Users/Administrator/workspace/xgboost-win64_release_1.4.0/src/objective/regression_obj.cu:171: reg:linear is now deprecated in favor of reg:squarederror.\n",
      "[18:41:10] WARNING: C:/Users/Administrator/workspace/xgboost-win64_release_1.4.0/src/objective/regression_obj.cu:171: reg:linear is now deprecated in favor of reg:squarederror.\n",
      "   max_depth  best_rmse\n",
      "0          2   0.200491\n",
      "1          5   0.209771\n",
      "2         10   0.215090\n",
      "3         20   0.215090\n"
     ]
    }
   ],
   "metadata": {}
  },
  {
   "cell_type": "code",
   "execution_count": 51,
   "source": [
    "# Create your housing DMatrix\r\n",
    "housing_dmatrix = xgb.DMatrix(data=X,label=y)\r\n",
    "\r\n",
    "# Create the parameter dictionary\r\n",
    "params={\"objective\":\"reg:linear\",\"max_depth\":3}\r\n",
    "\r\n",
    "# Create list of hyperparameter values: colsample_bytree_vals\r\n",
    "colsample_bytree_vals=[0.1,0.5,0.8,1]\r\n",
    "best_rmse = []\r\n",
    "\r\n",
    "# Systematically vary the hyperparameter value \r\n",
    "for curr_val in colsample_bytree_vals:\r\n",
    "\r\n",
    "    params['colsample_bytree']=curr_val\r\n",
    "    \r\n",
    "    # Perform cross-validation\r\n",
    "    cv_results = xgb.cv(dtrain=housing_dmatrix, params=params, nfold=2,\r\n",
    "                 num_boost_round=10, early_stopping_rounds=5,\r\n",
    "                 metrics=\"rmse\", as_pandas=True, seed=123)\r\n",
    "    \r\n",
    "    # Append the final round rmse to best_rmse\r\n",
    "    best_rmse.append(cv_results[\"test-rmse-mean\"].tail().values[-1])\r\n",
    "\r\n",
    "# Print the resultant DataFrame\r\n",
    "print(pd.DataFrame(list(zip(colsample_bytree_vals, best_rmse)), columns=[\"colsample_bytree\",\"best_rmse\"]))"
   ],
   "outputs": [
    {
     "output_type": "stream",
     "name": "stdout",
     "text": [
      "[18:41:10] WARNING: C:/Users/Administrator/workspace/xgboost-win64_release_1.4.0/src/objective/regression_obj.cu:171: reg:linear is now deprecated in favor of reg:squarederror.\n",
      "[18:41:10] WARNING: C:/Users/Administrator/workspace/xgboost-win64_release_1.4.0/src/objective/regression_obj.cu:171: reg:linear is now deprecated in favor of reg:squarederror.\n",
      "[18:41:10] WARNING: C:/Users/Administrator/workspace/xgboost-win64_release_1.4.0/src/objective/regression_obj.cu:171: reg:linear is now deprecated in favor of reg:squarederror.\n",
      "[18:41:10] WARNING: C:/Users/Administrator/workspace/xgboost-win64_release_1.4.0/src/objective/regression_obj.cu:171: reg:linear is now deprecated in favor of reg:squarederror.\n",
      "[18:41:10] WARNING: C:/Users/Administrator/workspace/xgboost-win64_release_1.4.0/src/objective/regression_obj.cu:171: reg:linear is now deprecated in favor of reg:squarederror.\n",
      "[18:41:10] WARNING: C:/Users/Administrator/workspace/xgboost-win64_release_1.4.0/src/objective/regression_obj.cu:171: reg:linear is now deprecated in favor of reg:squarederror.\n",
      "[18:41:10] WARNING: C:/Users/Administrator/workspace/xgboost-win64_release_1.4.0/src/objective/regression_obj.cu:171: reg:linear is now deprecated in favor of reg:squarederror.\n",
      "[18:41:10] WARNING: C:/Users/Administrator/workspace/xgboost-win64_release_1.4.0/src/objective/regression_obj.cu:171: reg:linear is now deprecated in favor of reg:squarederror.\n",
      "   colsample_bytree  best_rmse\n",
      "0               0.1   0.225662\n",
      "1               0.5   0.209275\n",
      "2               0.8   0.199754\n",
      "3               1.0   0.193133\n"
     ]
    }
   ],
   "metadata": {}
  },
  {
   "cell_type": "markdown",
   "source": [
    "# GridSearchCV and RandomizedSearchCV"
   ],
   "metadata": {}
  },
  {
   "cell_type": "code",
   "execution_count": 52,
   "source": [
    "from sklearn.model_selection import GridSearchCV, RandomizedSearchCV\r\n",
    "# Create the parameter grid: gbm_param_grid\r\n",
    "gbm_param_grid = {\r\n",
    "    'colsample_bytree': [0.3,0.7],\r\n",
    "    'n_estimators': [50],\r\n",
    "    'max_depth': [2,5]\r\n",
    "}\r\n",
    "\r\n",
    "# Instantiate the regressor: gbm\r\n",
    "gbm = xgb.XGBRegressor()\r\n",
    "\r\n",
    "# Perform grid search: grid_mse\r\n",
    "grid_mse = GridSearchCV(estimator=gbm,param_grid=gbm_param_grid,scoring='neg_mean_squared_error',cv=4,verbose=1)\r\n",
    "\r\n",
    "\r\n",
    "# Fit grid_mse to the data\r\n",
    "grid_mse.fit(X,y)\r\n",
    "\r\n",
    "# Print the best parameters and lowest RMSE\r\n",
    "print(\"Best parameters found: \", grid_mse.best_params_)\r\n",
    "print(\"Lowest RMSE found: \", np.sqrt(np.abs(grid_mse.best_score_)))"
   ],
   "outputs": [
    {
     "output_type": "stream",
     "name": "stdout",
     "text": [
      "Fitting 4 folds for each of 4 candidates, totalling 16 fits\n",
      "Best parameters found:  {'colsample_bytree': 0.3, 'max_depth': 5, 'n_estimators': 50}\n",
      "Lowest RMSE found:  0.20180443827112488\n"
     ]
    }
   ],
   "metadata": {}
  },
  {
   "cell_type": "code",
   "execution_count": 53,
   "source": [
    "# Create the parameter grid: gbm_param_grid \r\n",
    "gbm_param_grid = {\r\n",
    "    'n_estimators': [25],\r\n",
    "    'max_depth': range(2,12)\r\n",
    "}\r\n",
    "\r\n",
    "# Instantiate the regressor: gbm\r\n",
    "gbm = xgb.XGBRegressor(n_estimators=10)\r\n",
    "\r\n",
    "# Perform random search: grid_mse\r\n",
    "randomized_mse = RandomizedSearchCV(estimator=gbm,param_distributions=gbm_param_grid,n_iter=5,scoring='neg_mean_squared_error',cv=4,verbose=1)\r\n",
    "\r\n",
    "# Fit randomized_mse to the data\r\n",
    "randomized_mse.fit(X,y)\r\n",
    "\r\n",
    "# Print the best parameters and lowest RMSE\r\n",
    "print(\"Best parameters found: \", randomized_mse.best_params_)\r\n",
    "print(\"Lowest RMSE found: \", np.sqrt(np.abs(randomized_mse.best_score_)))"
   ],
   "outputs": [
    {
     "output_type": "stream",
     "name": "stdout",
     "text": [
      "Fitting 4 folds for each of 5 candidates, totalling 20 fits\n",
      "Best parameters found:  {'n_estimators': 25, 'max_depth': 2}\n",
      "Lowest RMSE found:  0.20761075410648394\n"
     ]
    }
   ],
   "metadata": {}
  },
  {
   "cell_type": "markdown",
   "source": [
    "# Project\r\n",
    "1. preprocessing: The data has five categorical columns: MSZoning, PavedDrive, Neighborhood, BldgType, and HouseStyle. Scikit-learn has a LabelEncoder function that converts the values in each categorical column into integers. You'll practice using this here."
   ],
   "metadata": {}
  },
  {
   "cell_type": "code",
   "execution_count": 54,
   "source": [
    "df=pd.read_csv('https://assets.datacamp.com/production/repositories/943/datasets/17a7c5c0acd7bfa253827ea53646cf0db7d39649/ames_unprocessed_data.csv')\r\n",
    "# Import LabelEncoder\r\n",
    "from sklearn.preprocessing import LabelEncoder\r\n",
    "\r\n",
    "# Fill missing values with 0\r\n",
    "df.LotFrontage = df.LotFrontage.fillna(0)\r\n",
    "\r\n",
    "# Create a boolean mask for categorical columns\r\n",
    "categorical_mask = (df.dtypes == object)\r\n",
    "\r\n",
    "# Get list of categorical column names\r\n",
    "categorical_columns = df.columns[categorical_mask].tolist()\r\n",
    "\r\n",
    "# Print the head of the categorical columns\r\n",
    "#print(df[categorical_columns].head())\r\n",
    "\r\n",
    "# Create LabelEncoder object: le\r\n",
    "le = LabelEncoder()\r\n",
    "\r\n",
    "# Apply LabelEncoder to categorical columns\r\n",
    "df[categorical_columns] = df[categorical_columns].apply(lambda x: le.fit_transform(x))\r\n",
    "\r\n",
    "# Print the head of the LabelEncoded categorical columns\r\n",
    "print(df[categorical_columns].head())"
   ],
   "outputs": [
    {
     "output_type": "stream",
     "name": "stdout",
     "text": [
      "   MSZoning  Neighborhood  BldgType  HouseStyle  PavedDrive\n",
      "0         3             5         0           5           2\n",
      "1         3            24         0           2           2\n",
      "2         3             5         0           5           2\n",
      "3         3             6         0           5           2\n",
      "4         3            15         0           5           2\n"
     ]
    }
   ],
   "metadata": {}
  },
  {
   "cell_type": "markdown",
   "source": [
    " Using LabelEncoder, the CollgCr Neighborhood was encoded as 5, while the Veenker Neighborhood was encoded as 24, and Crawfor as 6. Is Veenker \"greater\" than Crawfor and CollgCr? No - and allowing the model to assume this natural ordering may result in poor performance.\r\n",
    "\r\n",
    "As a result, there is another step needed: You have to apply a one-hot encoding to create binary, or \"dummy\" variables. You can do this using scikit-learn's OneHotEncoder."
   ],
   "metadata": {}
  },
  {
   "cell_type": "code",
   "execution_count": 55,
   "source": [
    "y=df.SalePrice\r\n",
    "X=df.drop(columns=['SalePrice'])\r\n",
    "print(X)"
   ],
   "outputs": [
    {
     "output_type": "stream",
     "name": "stdout",
     "text": [
      "      MSSubClass  MSZoning  LotFrontage  LotArea  Neighborhood  BldgType  \\\n",
      "0             60         3         65.0     8450             5         0   \n",
      "1             20         3         80.0     9600            24         0   \n",
      "2             60         3         68.0    11250             5         0   \n",
      "3             70         3         60.0     9550             6         0   \n",
      "4             60         3         84.0    14260            15         0   \n",
      "...          ...       ...          ...      ...           ...       ...   \n",
      "1455          60         3         62.0     7917             8         0   \n",
      "1456          20         3         85.0    13175            14         0   \n",
      "1457          70         3         66.0     9042             6         0   \n",
      "1458          20         3         68.0     9717            12         0   \n",
      "1459          20         3         75.0     9937             7         0   \n",
      "\n",
      "      HouseStyle  OverallQual  OverallCond  YearBuilt  Remodeled  GrLivArea  \\\n",
      "0              5            7            5       2003          0       1710   \n",
      "1              2            6            8       1976          0       1262   \n",
      "2              5            7            5       2001          1       1786   \n",
      "3              5            7            5       1915          1       1717   \n",
      "4              5            8            5       2000          0       2198   \n",
      "...          ...          ...          ...        ...        ...        ...   \n",
      "1455           5            6            5       1999          1       1647   \n",
      "1456           2            6            6       1978          1       2073   \n",
      "1457           5            7            9       1941          1       2340   \n",
      "1458           2            5            6       1950          1       1078   \n",
      "1459           2            5            6       1965          0       1256   \n",
      "\n",
      "      BsmtFullBath  BsmtHalfBath  FullBath  HalfBath  BedroomAbvGr  \\\n",
      "0                1             0         2         1             3   \n",
      "1                0             1         2         0             3   \n",
      "2                1             0         2         1             3   \n",
      "3                1             0         1         0             3   \n",
      "4                1             0         2         1             4   \n",
      "...            ...           ...       ...       ...           ...   \n",
      "1455             0             0         2         1             3   \n",
      "1456             1             0         2         0             3   \n",
      "1457             0             0         2         0             4   \n",
      "1458             1             0         1         0             2   \n",
      "1459             1             0         1         1             3   \n",
      "\n",
      "      Fireplaces  GarageArea  PavedDrive  \n",
      "0              0         548           2  \n",
      "1              1         460           2  \n",
      "2              1         608           2  \n",
      "3              1         642           2  \n",
      "4              1         836           2  \n",
      "...          ...         ...         ...  \n",
      "1455           1         460           2  \n",
      "1456           2         500           2  \n",
      "1457           2         252           2  \n",
      "1458           0         240           2  \n",
      "1459           0         276           2  \n",
      "\n",
      "[1460 rows x 20 columns]\n"
     ]
    }
   ],
   "metadata": {}
  },
  {
   "cell_type": "code",
   "execution_count": 56,
   "source": [
    "# Import necessary modules\r\n",
    "from sklearn.feature_extraction import DictVectorizer\r\n",
    "from sklearn.pipeline import Pipeline\r\n",
    "\r\n",
    "# Fill LotFrontage missing values with 0\r\n",
    "X.LotFrontage = X.LotFrontage.fillna(0)\r\n",
    "\r\n",
    "# Setup the pipeline steps: steps\r\n",
    "steps = [(\"ohe_onestep\", DictVectorizer(sparse=False)),\r\n",
    "         (\"xgb_model\", xgb.XGBRegressor())]\r\n",
    "\r\n",
    "# Create the pipeline: xgb_pipeline\r\n",
    "xgb_pipeline = Pipeline(steps)\r\n",
    "\r\n",
    "# Fit the pipeline\r\n",
    "xgb_pipeline.fit(X.to_dict(\"records\"), y)"
   ],
   "outputs": [
    {
     "output_type": "execute_result",
     "data": {
      "text/plain": [
       "Pipeline(steps=[('ohe_onestep', DictVectorizer(sparse=False)),\n",
       "                ('xgb_model',\n",
       "                 XGBRegressor(base_score=0.5, booster='gbtree',\n",
       "                              colsample_bylevel=1, colsample_bynode=1,\n",
       "                              colsample_bytree=1, gamma=0, gpu_id=-1,\n",
       "                              importance_type='gain',\n",
       "                              interaction_constraints='',\n",
       "                              learning_rate=0.300000012, max_delta_step=0,\n",
       "                              max_depth=6, min_child_weight=1, missing=nan,\n",
       "                              monotone_constraints='()', n_estimators=100,\n",
       "                              n_jobs=8, num_parallel_tree=1, random_state=0,\n",
       "                              reg_alpha=0, reg_lambda=1, scale_pos_weight=1,\n",
       "                              subsample=1, tree_method='exact',\n",
       "                              validate_parameters=1, verbosity=None))])"
      ]
     },
     "metadata": {},
     "execution_count": 56
    }
   ],
   "metadata": {}
  },
  {
   "cell_type": "markdown",
   "source": [
    "In this exercise, you'll go one step further by using the pipeline you've created to preprocess and cross-validate your model."
   ],
   "metadata": {}
  },
  {
   "cell_type": "code",
   "execution_count": 57,
   "source": [
    "# Import necessary modules\r\n",
    "from sklearn.feature_extraction import DictVectorizer\r\n",
    "from sklearn.pipeline import Pipeline\r\n",
    "from sklearn.model_selection import cross_val_score\r\n",
    "\r\n",
    "# Fill LotFrontage missing values with 0\r\n",
    "X.LotFrontage = X.LotFrontage.fillna(0)\r\n",
    "\r\n",
    "# Setup the pipeline steps: steps\r\n",
    "steps = [(\"ohe_onestep\", DictVectorizer(sparse=False)),\r\n",
    "         (\"xgb_model\", xgb.XGBRegressor(max_depth=2, objective=\"reg:linear\"))]\r\n",
    "\r\n",
    "# Create the pipeline: xgb_pipeline\r\n",
    "xgb_pipeline = Pipeline(steps)\r\n",
    "\r\n",
    "# Cross-validate the model\r\n",
    "cross_val_scores = cross_val_score(xgb_pipeline,X.to_dict('records'),y,scoring='neg_mean_squared_error',cv=10)\r\n",
    "\r\n",
    "# Print the 10-fold RMSE\r\n",
    "print(\"10-fold RMSE: \", np.mean(np.sqrt(np.abs(cross_val_scores))))"
   ],
   "outputs": [
    {
     "output_type": "stream",
     "name": "stdout",
     "text": [
      "[18:41:12] WARNING: C:/Users/Administrator/workspace/xgboost-win64_release_1.4.0/src/objective/regression_obj.cu:171: reg:linear is now deprecated in favor of reg:squarederror.\n",
      "[18:41:12] WARNING: C:/Users/Administrator/workspace/xgboost-win64_release_1.4.0/src/objective/regression_obj.cu:171: reg:linear is now deprecated in favor of reg:squarederror.\n",
      "[18:41:12] WARNING: C:/Users/Administrator/workspace/xgboost-win64_release_1.4.0/src/objective/regression_obj.cu:171: reg:linear is now deprecated in favor of reg:squarederror.\n",
      "[18:41:12] WARNING: C:/Users/Administrator/workspace/xgboost-win64_release_1.4.0/src/objective/regression_obj.cu:171: reg:linear is now deprecated in favor of reg:squarederror.\n",
      "[18:41:12] WARNING: C:/Users/Administrator/workspace/xgboost-win64_release_1.4.0/src/objective/regression_obj.cu:171: reg:linear is now deprecated in favor of reg:squarederror.\n",
      "[18:41:13] WARNING: C:/Users/Administrator/workspace/xgboost-win64_release_1.4.0/src/objective/regression_obj.cu:171: reg:linear is now deprecated in favor of reg:squarederror.\n",
      "[18:41:13] WARNING: C:/Users/Administrator/workspace/xgboost-win64_release_1.4.0/src/objective/regression_obj.cu:171: reg:linear is now deprecated in favor of reg:squarederror.\n",
      "[18:41:13] WARNING: C:/Users/Administrator/workspace/xgboost-win64_release_1.4.0/src/objective/regression_obj.cu:171: reg:linear is now deprecated in favor of reg:squarederror.\n",
      "[18:41:13] WARNING: C:/Users/Administrator/workspace/xgboost-win64_release_1.4.0/src/objective/regression_obj.cu:171: reg:linear is now deprecated in favor of reg:squarederror.\n",
      "[18:41:13] WARNING: C:/Users/Administrator/workspace/xgboost-win64_release_1.4.0/src/objective/regression_obj.cu:171: reg:linear is now deprecated in favor of reg:squarederror.\n",
      "10-fold RMSE:  27808.870767824585\n"
     ]
    }
   ],
   "metadata": {}
  },
  {
   "cell_type": "markdown",
   "source": [
    "# Project 2\r\n",
    "\r\n",
    " The chronic kidney disease dataset contains both categorical and numeric features, but contains lots of missing values. The goal here is to predict who has chronic kidney disease given various blood indicators as features."
   ],
   "metadata": {}
  },
  {
   "cell_type": "code",
   "execution_count": 58,
   "source": [
    "df=pd.read_csv('kidney_disease.csv')\r\n",
    "y=df['classification']\r\n",
    "X=df.drop(columns=['classification'])\r\n"
   ],
   "outputs": [],
   "metadata": {}
  },
  {
   "cell_type": "code",
   "execution_count": 61,
   "source": [
    "# Import necessary modules\r\n",
    "from sklearn_pandas import DataFrameMapper\r\n",
    "from sklearn.impute import SimpleImputer\r\n",
    "\r\n",
    "# Check number of nulls in each feature column\r\n",
    "nulls_per_column = X.isnull().sum()\r\n",
    "print(nulls_per_column)\r\n",
    "\r\n",
    "# Create a boolean mask for categorical columns\r\n",
    "categorical_feature_mask = X.dtypes == object\r\n",
    "\r\n",
    "# Get list of categorical column names\r\n",
    "categorical_columns = X.columns[categorical_feature_mask].tolist()\r\n",
    "\r\n",
    "# Get list of non-categorical column names\r\n",
    "non_categorical_columns = X.columns[~categorical_feature_mask].tolist()\r\n",
    "\r\n",
    "# Apply numeric imputer\r\n",
    "numeric_imputation_mapper = DataFrameMapper(\r\n",
    "                                            [([numeric_feature],SimpleImputer(strategy=\"median\")) for numeric_feature in non_categorical_columns],\r\n",
    "                                            input_df=True,\r\n",
    "                                            df_out=True\r\n",
    "                                           )\r\n",
    "\r\n",
    "# Apply categorical imputer\r\n",
    "categorical_imputation_mapper = DataFrameMapper(\r\n",
    "                                                [(category_feature, SimpleImputer()) for category_feature in categorical_columns],\r\n",
    "                                                input_df=True,\r\n",
    "                                                df_out=True\r\n",
    "                                               )"
   ],
   "outputs": [
    {
     "output_type": "stream",
     "name": "stdout",
     "text": [
      "id         0\n",
      "age        9\n",
      "bp        12\n",
      "sg        47\n",
      "al        46\n",
      "su        49\n",
      "rbc      152\n",
      "pc        65\n",
      "pcc        4\n",
      "ba         4\n",
      "bgr       44\n",
      "bu        19\n",
      "sc        17\n",
      "sod       87\n",
      "pot       88\n",
      "hemo      52\n",
      "pcv       70\n",
      "wc       105\n",
      "rc       130\n",
      "htn        2\n",
      "dm         2\n",
      "cad        2\n",
      "appet      1\n",
      "pe         1\n",
      "ane        1\n",
      "dtype: int64\n"
     ]
    }
   ],
   "metadata": {}
  }
 ],
 "metadata": {
  "orig_nbformat": 4,
  "language_info": {
   "name": "python",
   "version": "3.9.6",
   "mimetype": "text/x-python",
   "codemirror_mode": {
    "name": "ipython",
    "version": 3
   },
   "pygments_lexer": "ipython3",
   "nbconvert_exporter": "python",
   "file_extension": ".py"
  },
  "kernelspec": {
   "name": "python3",
   "display_name": "Python 3.9.6 64-bit"
  },
  "interpreter": {
   "hash": "eb10dc7af34d8b2d8e4e13c255a62d72cda2839118676834d127e6a78e1763b3"
  }
 },
 "nbformat": 4,
 "nbformat_minor": 2
}