{
 "cells": [
  {
   "cell_type": "markdown",
   "metadata": {},
   "source": [
    "# Preprocessing for Machine Learning \n",
    "* Standardizing Data\n",
    "* Feature Engineering\n",
    "*"
   ]
  },
  {
   "cell_type": "markdown",
   "metadata": {},
   "source": [
    "# Standarization\n",
    "for models who have high variance, continuous and on different scales, model linear space, linearly assumptions\n",
    "* log normalization: high variance\n",
    "* Scaling: different scales, linear chracteristics, "
   ]
  },
  {
   "cell_type": "code",
   "execution_count": 2,
   "metadata": {},
   "outputs": [],
   "source": [
    "import pandas as pd\n",
    "import numpy as np\n",
    "data_boston=pd.read_csv('HousingData.csv')\n"
   ]
  },
  {
   "cell_type": "markdown",
   "metadata": {},
   "source": [
    "## log normalization"
   ]
  },
  {
   "cell_type": "code",
   "execution_count": 3,
   "metadata": {},
   "outputs": [
    {
     "name": "stdout",
     "output_type": "stream",
     "text": [
      "variance before log normalization 28404.75948812273\n",
      "variance after log normalization 0.15710642862877694\n"
     ]
    }
   ],
   "source": [
    "print('variance before log normalization',data_boston.TAX.var())\n",
    "#lets reduce de variance of just one column (TAX) whic has he highest variance\n",
    "data_boston['TAX_log']=np.log(data_boston.TAX)\n",
    "print('variance after log normalization',data_boston.TAX_log.var())"
   ]
  },
  {
   "cell_type": "markdown",
   "metadata": {},
   "source": [
    "## Scaling"
   ]
  },
  {
   "cell_type": "code",
   "execution_count": 5,
   "metadata": {},
   "outputs": [
    {
     "name": "stdout",
     "output_type": "stream",
     "text": [
      "variance before scaling 28404.75948812273\n",
      "variance after scaling 1.0019801980198013\n"
     ]
    }
   ],
   "source": [
    "from sklearn.preprocessing import StandardScaler\n",
    "scaler=StandardScaler()\n",
    "data_sclaled=pd.DataFrame(scaler.fit_transform(data_boston),columns=data_boston.columns)\n",
    "print('variance before scaling',data_boston.TAX.var())\n",
    "print('variance after scaling', data_sclaled.TAX.var())"
   ]
  },
  {
   "cell_type": "code",
   "execution_count": null,
   "metadata": {},
   "outputs": [],
   "source": []
  }
 ],
 "metadata": {
  "interpreter": {
   "hash": "eb10dc7af34d8b2d8e4e13c255a62d72cda2839118676834d127e6a78e1763b3"
  },
  "kernelspec": {
   "display_name": "Python 3.9.6 64-bit",
   "name": "python3"
  },
  "language_info": {
   "codemirror_mode": {
    "name": "ipython",
    "version": 3
   },
   "file_extension": ".py",
   "mimetype": "text/x-python",
   "name": "python",
   "nbconvert_exporter": "python",
   "pygments_lexer": "ipython3",
   "version": "3.9.6"
  },
  "orig_nbformat": 4
 },
 "nbformat": 4,
 "nbformat_minor": 2
}
