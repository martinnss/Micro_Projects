{
 "cells": [
  {
   "cell_type": "markdown",
   "source": [
    "# Statistics Dataset\r\n",
    "### In this dataset im going to perfom some  statistics, like:\r\n",
    "* Descriptive statistics\r\n",
    "    * Mean\r\n",
    "    * Median\r\n",
    "    * Rango\r\n",
    "    * STD\r\n",
    "    * Variance"
   ],
   "metadata": {}
  },
  {
   "cell_type": "code",
   "execution_count": 1,
   "source": [
    "import pandas as pd\r\n",
    "\r\n",
    "data=pd.read_csv('Crime_R.csv')\r\n",
    "#lets visualize the first values\r\n",
    "print(data.head())\r\n",
    "#shape of the dataframe\r\n",
    "print(\"This dataframe has\",data.shape[0],\"columns and\", data.shape[1],\"rows.\")\r\n"
   ],
   "outputs": [
    {
     "output_type": "stream",
     "name": "stdout",
     "text": [
      "   CrimeRate  Youth  Southern  Education  ExpenditureYear0  LabourForce  \\\n",
      "0       45.5    135         0       12.4                69          540   \n",
      "1       52.3    140         0       10.9                55          535   \n",
      "2       56.6    157         1       11.2                47          512   \n",
      "3       60.3    139         1       11.9                46          480   \n",
      "4       64.2    126         0       12.2               106          599   \n",
      "\n",
      "   Males  MoreMales  StateSize  YouthUnemployment  ...  ExpenditureYear10  \\\n",
      "0    965          0          6                 80  ...                 71   \n",
      "1   1045          1          6                135  ...                 54   \n",
      "2    962          0         22                 97  ...                 44   \n",
      "3    968          0         19                135  ...                 41   \n",
      "4    989          0         40                 78  ...                 97   \n",
      "\n",
      "   LabourForce10  Males10  MoreMales10  StateSize10  YouthUnemploy10  \\\n",
      "0            564      974            0            6               82   \n",
      "1            540     1039            1            7              138   \n",
      "2            529      959            0           24               98   \n",
      "3            497      983            0           20              131   \n",
      "4            602      989            0           42               79   \n",
      "\n",
      "   MatureUnemploy10  HighYouthUnemploy10  Wage10  BelowWage10  \n",
      "0                20                    1     632          142  \n",
      "1                39                    1     521          210  \n",
      "2                33                    0     359          256  \n",
      "3                50                    0     510          235  \n",
      "4                24                    1     660          162  \n",
      "\n",
      "[5 rows x 27 columns]\n",
      "This dataframe has 47 columns and 27 rows.\n"
     ]
    }
   ],
   "metadata": {}
  },
  {
   "cell_type": "markdown",
   "source": [
    "## Descriptive Statistics"
   ],
   "metadata": {}
  },
  {
   "cell_type": "code",
   "execution_count": 2,
   "source": [
    "print(data.describe())"
   ],
   "outputs": [
    {
     "output_type": "stream",
     "name": "stdout",
     "text": [
      "        CrimeRate       Youth   Southern  Education  ExpenditureYear0  \\\n",
      "count   47.000000   47.000000  47.000000  47.000000         47.000000   \n",
      "mean   102.808511  138.574468   0.340426  12.391489         85.000000   \n",
      "std     28.893266   12.567634   0.478975   1.120332         29.718974   \n",
      "min     45.500000  119.000000   0.000000  10.000000         45.000000   \n",
      "25%     82.700000  130.000000   0.000000  11.550000         62.500000   \n",
      "50%    103.000000  136.000000   0.000000  12.400000         78.000000   \n",
      "75%    120.650000  146.000000   1.000000  13.200000        104.500000   \n",
      "max    161.800000  177.000000   1.000000  15.100000        166.000000   \n",
      "\n",
      "       LabourForce        Males  MoreMales   StateSize  YouthUnemployment  \\\n",
      "count    47.000000    47.000000  47.000000   47.000000          47.000000   \n",
      "mean    561.191489   983.021277   0.191489   36.617021          95.468085   \n",
      "std      40.411814    29.467365   0.397727   38.071188          18.028783   \n",
      "min     480.000000   934.000000   0.000000    3.000000          70.000000   \n",
      "25%     530.500000   964.500000   0.000000   10.000000          80.500000   \n",
      "50%     560.000000   977.000000   0.000000   25.000000          92.000000   \n",
      "75%     593.000000   992.000000   0.000000   41.500000         104.000000   \n",
      "max     641.000000  1071.000000   1.000000  168.000000         142.000000   \n",
      "\n",
      "       ...  ExpenditureYear10  LabourForce10      Males10  MoreMales10  \\\n",
      "count  ...          47.000000      47.000000    47.000000    47.000000   \n",
      "mean   ...          80.234043     565.531915   986.872340     0.212766   \n",
      "std    ...          27.961319      37.645284    29.845702     0.413688   \n",
      "min    ...          41.000000     497.000000   935.000000     0.000000   \n",
      "25%    ...          58.500000     538.000000   969.500000     0.000000   \n",
      "50%    ...          73.000000     563.000000   983.000000     0.000000   \n",
      "75%    ...          97.000000     599.000000   994.000000     0.000000   \n",
      "max    ...         157.000000     641.000000  1079.000000     1.000000   \n",
      "\n",
      "       StateSize10  YouthUnemploy10  MatureUnemploy10  HighYouthUnemploy10  \\\n",
      "count    47.000000        47.000000         47.000000            47.000000   \n",
      "mean     37.702128        97.446809         33.361702             0.404255   \n",
      "std      39.490734        17.843289          8.414340             0.496053   \n",
      "min       3.000000        71.000000         15.000000             0.000000   \n",
      "25%      11.000000        82.000000         28.000000             0.000000   \n",
      "50%      25.000000        93.000000         34.000000             0.000000   \n",
      "75%      43.000000       108.500000         39.000000             1.000000   \n",
      "max     180.000000       143.000000         59.000000             1.000000   \n",
      "\n",
      "           Wage10  BelowWage10  \n",
      "count   47.000000    47.000000  \n",
      "mean   594.638298   192.957447  \n",
      "std     93.749765    38.756182  \n",
      "min    359.000000   126.000000  \n",
      "25%    530.000000   165.000000  \n",
      "50%    615.000000   182.000000  \n",
      "75%    659.500000   229.500000  \n",
      "max    748.000000   257.000000  \n",
      "\n",
      "[8 rows x 27 columns]\n"
     ]
    }
   ],
   "metadata": {}
  },
  {
   "cell_type": "code",
   "execution_count": 3,
   "source": [
    "data.var()"
   ],
   "outputs": [
    {
     "output_type": "execute_result",
     "data": {
      "text/plain": [
       "CrimeRate               834.820796\n",
       "Youth                   157.945421\n",
       "Southern                  0.229417\n",
       "Education                 1.255143\n",
       "ExpenditureYear0        883.217391\n",
       "LabourForce            1633.114709\n",
       "Males                   868.325624\n",
       "MoreMales                 0.158187\n",
       "StateSize              1449.415356\n",
       "YouthUnemployment       325.037003\n",
       "MatureUnemployment       71.325624\n",
       "HighYouthUnemploy         0.222017\n",
       "Wage                   9310.502313\n",
       "BelowWage              1591.695652\n",
       "CrimeRate10            1542.766920\n",
       "Youth10                 119.123959\n",
       "Education10               1.371952\n",
       "ExpenditureYear10       781.835338\n",
       "LabourForce10          1417.167438\n",
       "Males10                 890.765957\n",
       "MoreMales10               0.171138\n",
       "StateSize10            1559.518039\n",
       "YouthUnemploy10         318.382979\n",
       "MatureUnemploy10         70.801110\n",
       "HighYouthUnemploy10       0.246068\n",
       "Wage10                 8789.018501\n",
       "BelowWage10            1502.041628\n",
       "dtype: float64"
      ]
     },
     "metadata": {},
     "execution_count": 3
    }
   ],
   "metadata": {}
  },
  {
   "cell_type": "code",
   "execution_count": 4,
   "source": [
    "import seaborn as sns\r\n",
    "import matplotlib.pyplot as plt\r\n",
    "\r\n",
    "fig, axes = plt.subplots(1, 2, figsize=(11, 4))\r\n",
    "sns.histplot(data=data, x='CrimeRate',bins=15, color='forestgreen',ax=axes[0])\r\n",
    "sns.histplot(data=data, x='Education',bins=15, color='salmon',ax=axes[1])\r\n",
    "plt.show()"
   ],
   "outputs": [
    {
     "output_type": "display_data",
     "data": {
      "image/png": "[encoded data removed]",
      "text/plain": [
       "<Figure size 792x288 with 2 Axes>"
      ]
     },
     "metadata": {
      "needs_background": "light"
     }
    }
   ],
   "metadata": {}
  },
  {
   "cell_type": "code",
   "execution_count": 5,
   "source": [
    "sns.boxplot(data=data, x='CrimeRate', whis=[10,90] )\r\n",
    "plt.plot()"
   ],
   "outputs": [
    {
     "output_type": "execute_result",
     "data": {
      "text/plain": [
       "[]"
      ]
     },
     "metadata": {},
     "execution_count": 5
    },
    {
     "output_type": "display_data",
     "data": {
      "image/png": "[encoded data removed]",
      "text/plain": [
       "<Figure size 432x288 with 1 Axes>"
      ]
     },
     "metadata": {
      "needs_background": "light"
     }
    }
   ],
   "metadata": {}
  },
  {
   "cell_type": "code",
   "execution_count": 6,
   "source": [
    "# calculate the probability of cancer patient and diagnostic test\r\n",
    "\r\n",
    "# calculate P(A|B) given P(A), P(B|A), P(B|not A)\r\n",
    "def bayes_theorem(p_a, p_b_given_a, p_b_given_not_a):\r\n",
    "\t# calculate P(not A)\r\n",
    "\tnot_a = 1 - p_a\r\n",
    "\t# calculate P(B)\r\n",
    "\tp_b = p_b_given_a * p_a + p_b_given_not_a * not_a\r\n",
    "\t# calculate P(A|B)\r\n",
    "\tp_a_given_b = (p_b_given_a * p_a) / p_b\r\n",
    "\treturn p_a_given_b\r\n",
    "\r\n",
    "# P(A)\r\n",
    "p_a = 0.0002\r\n",
    "# P(B|A)\r\n",
    "p_b_given_a = 0.85\r\n",
    "# P(B|not A)\r\n",
    "p_b_given_not_a = 0.05\r\n",
    "# calculate P(A|B)\r\n",
    "result = bayes_theorem(p_a, p_b_given_a, p_b_given_not_a)\r\n",
    "# summarize\r\n",
    "print('P(A|B) = %.3f%%' % (result * 100))"
   ],
   "outputs": [
    {
     "output_type": "stream",
     "name": "stdout",
     "text": [
      "P(A|B) = 0.339%\n"
     ]
    }
   ],
   "metadata": {}
  },
  {
   "cell_type": "code",
   "execution_count": 7,
   "source": [
    "import numpy as np\r\n",
    "\r\n",
    "data_ed=data['Education']    \r\n",
    "mean=np.mean(data_ed)\r\n",
    "std=np.std(data_ed)                                  #steps to create the normal data\r\n",
    "samples=np.random.normal(mean, std, size=10000)\r\n",
    "\r\n",
    "def ecdf(data):\r\n",
    "    \"\"\"Compute ECDF for a one-dimensional array of measurements.\"\"\"\r\n",
    "    # Number of data points: n\r\n",
    "    n = len(data)\r\n",
    "    # x-data for the ECDF: x\r\n",
    "    x = np.sort(data)\r\n",
    "    # y-data for the ECDF: y\r\n",
    "    y = np.arange(1, n+1) / n\r\n",
    "    return x, y\r\n",
    "\r\n",
    "x, y =ecdf(data_ed)\r\n",
    "x_norm, y_norm=ecdf(samples)\r\n",
    "\r\n",
    "sns.set()\r\n",
    "plt.plot(x_norm,y_norm)\r\n",
    "plt.plot(x,y,marker='.', linestyle='none')\r\n",
    "plt.xlabel('Education in Years')\r\n",
    "plt.ylabel('CDF')\r\n",
    "plt.show()\r\n"
   ],
   "outputs": [
    {
     "output_type": "display_data",
     "data": {
      "image/png": "[encoded data removed]",
      "text/plain": [
       "<Figure size 432x288 with 1 Axes>"
      ]
     },
     "metadata": {}
    }
   ],
   "metadata": {}
  },
  {
   "cell_type": "code",
   "execution_count": 23,
   "source": [
    "from scipy.stats import skew\r\n",
    "sk1=[1,1,1,2,4,1,1,1,1,1,1,1,1,2,3,4,2,3,9,8,9]    #more lower values\r\n",
    "sk2=[1,2,1,1,9,8,9,8,7,8,9,8,7,14,9,9,8,9,7,9]     #more higher values\r\n",
    "print('The coefficients of skewness are ',skew(sk1),'(lower values) and', skew(sk2), '(higher values)')"
   ],
   "outputs": [
    {
     "output_type": "stream",
     "name": "stdout",
     "text": [
      "The coefficients of skewness are  1.5657272468749186 (lower values) and -0.6625965684897368 (higher values)\n"
     ]
    }
   ],
   "metadata": {}
  }
 ],
 "metadata": {
  "orig_nbformat": 4,
  "language_info": {
   "name": "python",
   "version": "3.9.6",
   "mimetype": "text/x-python",
   "codemirror_mode": {
    "name": "ipython",
    "version": 3
   },
   "pygments_lexer": "ipython3",
   "nbconvert_exporter": "python",
   "file_extension": ".py"
  },
  "kernelspec": {
   "name": "python3",
   "display_name": "Python 3.9.6 64-bit"
  },
  "interpreter": {
   "hash": "eb10dc7af34d8b2d8e4e13c255a62d72cda2839118676834d127e6a78e1763b3"
  }
 },
 "nbformat": 4,
 "nbformat_minor": 2
}